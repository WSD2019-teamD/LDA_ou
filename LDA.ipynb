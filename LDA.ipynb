{
 "cells": [
  {
   "cell_type": "markdown",
   "metadata": {
    "colab_type": "text",
    "id": "EbAnt_z6Cw7P"
   },
   "source": [
    "# 準備"
   ]
  },
  {
   "cell_type": "code",
   "execution_count": 1,
   "metadata": {
    "colab": {},
    "colab_type": "code",
    "id": "dnN7huHr4Tq4"
   },
   "outputs": [],
   "source": [
    "from urllib import request \n",
    "import pandas as pd\n",
    "import numpy as np\n",
    "import logging\n",
    "import random\n",
    "from gensim import corpora, models\n",
    "from tqdm import tqdm\n",
    "import matplotlib\n",
    "import matplotlib.pylab as plt\n",
    "import re"
   ]
  },
  {
   "cell_type": "markdown",
   "metadata": {
    "colab_type": "text",
    "id": "qcJUCaMj4Tq8"
   },
   "source": [
    "# データ読み込み"
   ]
  },
  {
   "cell_type": "code",
   "execution_count": 38,
   "metadata": {
    "colab": {
     "base_uri": "https://localhost:8080/",
     "height": 122
    },
    "colab_type": "code",
    "executionInfo": {
     "elapsed": 18864,
     "status": "ok",
     "timestamp": 1579671354633,
     "user": {
      "displayName": "Yicheng Wang",
      "photoUrl": "https://lh3.googleusercontent.com/a-/AAuE7mBICelqcd_cwG2elKSVuaZzH8HEfj_yov2eQwHoHg=s64",
      "userId": "10487961361854797289"
     },
     "user_tz": -540
    },
    "id": "Qs0dIwEYqzBc",
    "outputId": "f3b60317-5331-4fa4-caec-b9a7e9693c28"
   },
   "outputs": [],
   "source": [
    "# from google.colab import drive\n",
    "# drive.mount('/content/drive')"
   ]
  },
  {
   "cell_type": "code",
   "execution_count": 39,
   "metadata": {
    "colab": {
     "base_uri": "https://localhost:8080/",
     "height": 34
    },
    "colab_type": "code",
    "executionInfo": {
     "elapsed": 827,
     "status": "ok",
     "timestamp": 1579671356164,
     "user": {
      "displayName": "Yicheng Wang",
      "photoUrl": "https://lh3.googleusercontent.com/a-/AAuE7mBICelqcd_cwG2elKSVuaZzH8HEfj_yov2eQwHoHg=s64",
      "userId": "10487961361854797289"
     },
     "user_tz": -540
    },
    "id": "GaSRZZPFqzFQ",
    "outputId": "73f59c1a-f17c-45c1-ef07-72451ac13972"
   },
   "outputs": [],
   "source": [
    "# import os\n",
    "# os.chdir('/content/drive/My Drive/Colab Notebooks/Q-LDA')\n",
    "# print(os.getcwd())"
   ]
  },
  {
   "cell_type": "code",
   "execution_count": 40,
   "metadata": {
    "colab": {
     "base_uri": "https://localhost:8080/",
     "height": 34
    },
    "colab_type": "code",
    "executionInfo": {
     "elapsed": 25206,
     "status": "ok",
     "timestamp": 1579664271277,
     "user": {
      "displayName": "Yicheng Wang",
      "photoUrl": "https://lh3.googleusercontent.com/a-/AAuE7mBICelqcd_cwG2elKSVuaZzH8HEfj_yov2eQwHoHg=s64",
      "userId": "10487961361854797289"
     },
     "user_tz": -540
    },
    "id": "bRCWZiZRqzG9",
    "outputId": "6d15db2e-679b-4fe2-d392-24173a6b9f0a"
   },
   "outputs": [],
   "source": [
    "# ls"
   ]
  },
  {
   "cell_type": "code",
   "execution_count": 2,
   "metadata": {
    "colab": {
     "base_uri": "https://localhost:8080/",
     "height": 1000
    },
    "colab_type": "code",
    "executionInfo": {
     "elapsed": 5484,
     "status": "ok",
     "timestamp": 1579671363435,
     "user": {
      "displayName": "Yicheng Wang",
      "photoUrl": "https://lh3.googleusercontent.com/a-/AAuE7mBICelqcd_cwG2elKSVuaZzH8HEfj_yov2eQwHoHg=s64",
      "userId": "10487961361854797289"
     },
     "user_tz": -540
    },
    "id": "xxtTeUYt7KpS",
    "outputId": "19275104-3d65-47bf-cce7-a02b253ac27e"
   },
   "outputs": [],
   "source": [
    "df_nonna = pd.read_csv('2019_content.csv')"
   ]
  },
  {
   "cell_type": "code",
   "execution_count": 3,
   "metadata": {},
   "outputs": [
    {
     "data": {
      "text/html": [
       "<div>\n",
       "<style scoped>\n",
       "    .dataframe tbody tr th:only-of-type {\n",
       "        vertical-align: middle;\n",
       "    }\n",
       "\n",
       "    .dataframe tbody tr th {\n",
       "        vertical-align: top;\n",
       "    }\n",
       "\n",
       "    .dataframe thead th {\n",
       "        text-align: right;\n",
       "    }\n",
       "</style>\n",
       "<table border=\"1\" class=\"dataframe\">\n",
       "  <thead>\n",
       "    <tr style=\"text-align: right;\">\n",
       "      <th></th>\n",
       "      <th>Unnamed: 0</th>\n",
       "      <th>Unnamed: 0.1</th>\n",
       "      <th>id</th>\n",
       "      <th>article_id</th>\n",
       "      <th>title</th>\n",
       "      <th>created_at</th>\n",
       "      <th>likes_count</th>\n",
       "      <th>tags_str</th>\n",
       "      <th>url</th>\n",
       "      <th>sharing</th>\n",
       "      <th>text</th>\n",
       "    </tr>\n",
       "  </thead>\n",
       "  <tbody>\n",
       "    <tr>\n",
       "      <th>0</th>\n",
       "      <td>0</td>\n",
       "      <td>0</td>\n",
       "      <td>32468</td>\n",
       "      <td>67eb69f006adbbf9c525</td>\n",
       "      <td>Python3.7 + Pipenv環境をUbuntu18.04 LTSに構築</td>\n",
       "      <td>2018-12-31 00:05:08</td>\n",
       "      <td>55</td>\n",
       "      <td>Ubuntu,Python3,Pipenv</td>\n",
       "      <td>https://qiita.com/sabaku20XX/items/67eb69f006a...</td>\n",
       "      <td>Ubuntu, TS, python, pipenv, 環境, 構築, する, いく, 記録...</td>\n",
       "      <td>text          Ubuntu18.04 LTS上にPython3.7 + Pip...</td>\n",
       "    </tr>\n",
       "  </tbody>\n",
       "</table>\n",
       "</div>"
      ],
      "text/plain": [
       "   Unnamed: 0  Unnamed: 0.1     id            article_id  \\\n",
       "0           0             0  32468  67eb69f006adbbf9c525   \n",
       "\n",
       "                                     title           created_at  likes_count  \\\n",
       "0  Python3.7 + Pipenv環境をUbuntu18.04 LTSに構築  2018-12-31 00:05:08           55   \n",
       "\n",
       "                tags_str                                                url  \\\n",
       "0  Ubuntu,Python3,Pipenv  https://qiita.com/sabaku20XX/items/67eb69f006a...   \n",
       "\n",
       "                                             sharing  \\\n",
       "0  Ubuntu, TS, python, pipenv, 環境, 構築, する, いく, 記録...   \n",
       "\n",
       "                                                text  \n",
       "0  text          Ubuntu18.04 LTS上にPython3.7 + Pip...  "
      ]
     },
     "execution_count": 3,
     "metadata": {},
     "output_type": "execute_result"
    }
   ],
   "source": [
    "df_nonna[:1]"
   ]
  },
  {
   "cell_type": "code",
   "execution_count": 9,
   "metadata": {
    "colab": {
     "base_uri": "https://localhost:8080/",
     "height": 34
    },
    "colab_type": "code",
    "executionInfo": {
     "elapsed": 3272,
     "status": "ok",
     "timestamp": 1579671367458,
     "user": {
      "displayName": "Yicheng Wang",
      "photoUrl": "https://lh3.googleusercontent.com/a-/AAuE7mBICelqcd_cwG2elKSVuaZzH8HEfj_yov2eQwHoHg=s64",
      "userId": "10487961361854797289"
     },
     "user_tz": -540
    },
    "id": "dGDgIHkj4TrF",
    "outputId": "d22a59ed-22b2-417c-c08e-2ebd81b91b90"
   },
   "outputs": [
    {
     "data": {
      "text/plain": [
       "86748"
      ]
     },
     "execution_count": 9,
     "metadata": {},
     "output_type": "execute_result"
    }
   ],
   "source": [
    "share_list = []\n",
    "for sh in df_nonna[\"sharing\"]:\n",
    "#     print(share)\n",
    "    if type(sh) is str:\n",
    "        share_list.append(sh.split(\", \"))\n",
    "    else:\n",
    "        share_list.append([])\n",
    "\n",
    "len(share_list)"
   ]
  },
  {
   "cell_type": "code",
   "execution_count": 0,
   "metadata": {
    "colab": {},
    "colab_type": "code",
    "id": "st6Sy7ultZW7"
   },
   "outputs": [],
   "source": [
    "# 辞書読み込む\n",
    "# if(os.path.exists(\"dictionary/dictionary.txt\")):\n",
    "#   d = Dictionary.load_from_text(\"dictionary/dictionary.txt\")\n",
    "# else:\n",
    "#   print(\"no dictionary\")"
   ]
  },
  {
   "cell_type": "code",
   "execution_count": 0,
   "metadata": {
    "colab": {},
    "colab_type": "code",
    "id": "0-EQtsoYtZZu"
   },
   "outputs": [],
   "source": [
    "# #コーパス読み込む\n",
    "# if(os.path.exists(\"corpus/corpus.pkl\")):\n",
    "#   corpus = pickle.dump(corpus,f)\n",
    "# else:\n",
    "#   print(\"no corpus\")"
   ]
  },
  {
   "cell_type": "code",
   "execution_count": 4,
   "metadata": {
    "scrolled": false
   },
   "outputs": [],
   "source": [
    "# corpus = corpora.MmCorpus(\"cop.mm\")\n",
    "# lda = models.ldamodel.LdaModel.load(\"lda.model\")\n",
    "d = corpora.Dictionary.load_from_text(\"dict.txt\")\n",
    "# doc_index = similarities.docsim.MatrixSimilarity.load(\"sim\")"
   ]
  },
  {
   "cell_type": "markdown",
   "metadata": {
    "colab_type": "text",
    "id": "N7bO12Mq4TrH"
   },
   "source": [
    "# 前処理"
   ]
  },
  {
   "cell_type": "markdown",
   "metadata": {
    "colab_type": "text",
    "id": "zAV_o8pj4TrH"
   },
   "source": [
    "## 辞書"
   ]
  },
  {
   "cell_type": "code",
   "execution_count": 7,
   "metadata": {
    "colab": {},
    "colab_type": "code",
    "id": "KQ18fZib4TrI"
   },
   "outputs": [
    {
     "name": "stderr",
     "output_type": "stream",
     "text": [
      "adding document #0 to Dictionary(0 unique tokens: [])\n",
      "adding document #10000 to Dictionary(81176 unique tokens: ['GET', 'OS', 'TS', 'Ubuntu', 'ltscpu']...)\n",
      "adding document #20000 to Dictionary(123170 unique tokens: ['GET', 'OS', 'TS', 'Ubuntu', 'ltscpu']...)\n",
      "adding document #30000 to Dictionary(157918 unique tokens: ['GET', 'OS', 'TS', 'Ubuntu', 'ltscpu']...)\n",
      "adding document #40000 to Dictionary(193573 unique tokens: ['GET', 'OS', 'TS', 'Ubuntu', 'ltscpu']...)\n",
      "adding document #50000 to Dictionary(223923 unique tokens: ['GET', 'OS', 'TS', 'Ubuntu', 'ltscpu']...)\n",
      "adding document #60000 to Dictionary(250955 unique tokens: ['GET', 'OS', 'TS', 'Ubuntu', 'ltscpu']...)\n",
      "adding document #70000 to Dictionary(279833 unique tokens: ['GET', 'OS', 'TS', 'Ubuntu', 'ltscpu']...)\n",
      "adding document #80000 to Dictionary(305587 unique tokens: ['GET', 'OS', 'TS', 'Ubuntu', 'ltscpu']...)\n",
      "built Dictionary(320630 unique tokens: ['GET', 'OS', 'TS', 'Ubuntu', 'ltscpu']...) from 86748 documents (total 20282774 corpus positions)\n"
     ]
    }
   ],
   "source": [
    "d = corpora.Dictionary(share_list)"
   ]
  },
  {
   "cell_type": "code",
   "execution_count": 5,
   "metadata": {
    "colab": {
     "base_uri": "https://localhost:8080/",
     "height": 51
    },
    "colab_type": "code",
    "executionInfo": {
     "elapsed": 11846,
     "status": "ok",
     "timestamp": 1579671383083,
     "user": {
      "displayName": "Yicheng Wang",
      "photoUrl": "https://lh3.googleusercontent.com/a-/AAuE7mBICelqcd_cwG2elKSVuaZzH8HEfj_yov2eQwHoHg=s64",
      "userId": "10487961361854797289"
     },
     "user_tz": -540
    },
    "id": "Ra28VM7n4TrK",
    "outputId": "23a76b52-56fa-4158-a0f9-7d8dba089ac7"
   },
   "outputs": [
    {
     "name": "stdout",
     "output_type": "stream",
     "text": [
      "num_docs: 83842\n",
      "num_pos: 0\n"
     ]
    }
   ],
   "source": [
    "print ('num_docs:', d.num_docs) #文档数目\n",
    "print ('num_pos:', d.num_pos ) #所有词的个数（不去重）\n",
    "#print ('dfs:', dict.dfs) #字典词频，{单词id，在多少文档中出现}"
   ]
  },
  {
   "cell_type": "markdown",
   "metadata": {
    "colab_type": "text",
    "id": "TU8C80BS4TrQ"
   },
   "source": [
    "## 不要な単語を除去"
   ]
  },
  {
   "cell_type": "code",
   "execution_count": 6,
   "metadata": {
    "colab": {},
    "colab_type": "code",
    "id": "DPKCistF4TrQ"
   },
   "outputs": [],
   "source": [
    "d.filter_extremes(no_below=5, no_above=0.2)\n",
    "d.compactify() # idを振り直してコンパクトにする。"
   ]
  },
  {
   "cell_type": "code",
   "execution_count": 7,
   "metadata": {
    "colab": {
     "base_uri": "https://localhost:8080/",
     "height": 34
    },
    "colab_type": "code",
    "executionInfo": {
     "elapsed": 11326,
     "status": "ok",
     "timestamp": 1579671383490,
     "user": {
      "displayName": "Yicheng Wang",
      "photoUrl": "https://lh3.googleusercontent.com/a-/AAuE7mBICelqcd_cwG2elKSVuaZzH8HEfj_yov2eQwHoHg=s64",
      "userId": "10487961361854797289"
     },
     "user_tz": -540
    },
    "id": "hxvB66UF4TrS",
    "outputId": "677ca989-cfad-4164-d79c-97c119b6d847"
   },
   "outputs": [
    {
     "data": {
      "text/plain": [
       "52106"
      ]
     },
     "execution_count": 7,
     "metadata": {},
     "output_type": "execute_result"
    }
   ],
   "source": [
    "d_num = len(d)\n",
    "d_num"
   ]
  },
  {
   "cell_type": "markdown",
   "metadata": {
    "colab_type": "text",
    "id": "yD4seJoJ4TrW"
   },
   "source": [
    "## コーパスを作る"
   ]
  },
  {
   "cell_type": "code",
   "execution_count": 10,
   "metadata": {
    "colab": {
     "base_uri": "https://localhost:8080/",
     "height": 51
    },
    "colab_type": "code",
    "executionInfo": {
     "elapsed": 20102,
     "status": "ok",
     "timestamp": 1579671393866,
     "user": {
      "displayName": "Yicheng Wang",
      "photoUrl": "https://lh3.googleusercontent.com/a-/AAuE7mBICelqcd_cwG2elKSVuaZzH8HEfj_yov2eQwHoHg=s64",
      "userId": "10487961361854797289"
     },
     "user_tz": -540
    },
    "id": "zNYeLQdT4TrX",
    "outputId": "09fdeb0a-5e6c-44a0-9174-7134c226953c"
   },
   "outputs": [
    {
     "name": "stdout",
     "output_type": "stream",
     "text": [
      "test size:  8674\n",
      "train size:  78074\n"
     ]
    }
   ],
   "source": [
    "corpus = [d.doc2bow(w) for w in share_list]\n",
    "test_size = int(len(corpus) * 0.1)\n",
    "test_corpus = corpus[:test_size]\n",
    "train_corpus= corpus[test_size:]\n",
    "print(\"test size: \", len(test_corpus))\n",
    "print(\"train size: \", len(train_corpus))"
   ]
  },
  {
   "cell_type": "code",
   "execution_count": 11,
   "metadata": {
    "colab": {
     "base_uri": "https://localhost:8080/",
     "height": 34
    },
    "colab_type": "code",
    "executionInfo": {
     "elapsed": 689,
     "status": "ok",
     "timestamp": 1579671394563,
     "user": {
      "displayName": "Yicheng Wang",
      "photoUrl": "https://lh3.googleusercontent.com/a-/AAuE7mBICelqcd_cwG2elKSVuaZzH8HEfj_yov2eQwHoHg=s64",
      "userId": "10487961361854797289"
     },
     "user_tz": -540
    },
    "id": "anMFQCpsqnjs",
    "outputId": "685d1fc2-6d80-4ee1-f23b-595d4f180088"
   },
   "outputs": [
    {
     "data": {
      "text/plain": [
       "86748"
      ]
     },
     "execution_count": 11,
     "metadata": {},
     "output_type": "execute_result"
    }
   ],
   "source": [
    "i = df_nonna[\"text\"]\n",
    "len(i)"
   ]
  },
  {
   "cell_type": "code",
   "execution_count": 0,
   "metadata": {
    "colab": {
     "base_uri": "https://localhost:8080/",
     "height": 34
    },
    "colab_type": "code",
    "executionInfo": {
     "elapsed": 2064,
     "status": "ok",
     "timestamp": 1579572369585,
     "user": {
      "displayName": "Yicheng Wang",
      "photoUrl": "https://lh3.googleusercontent.com/a-/AAuE7mBICelqcd_cwG2elKSVuaZzH8HEfj_yov2eQwHoHg=s64",
      "userId": "10487961361854797289"
     },
     "user_tz": -540
    },
    "id": "X4rbro8CqnkO",
    "outputId": "f322e593-d1bb-452c-b0da-492989f6c282"
   },
   "outputs": [
    {
     "data": {
      "text/plain": [
       "86748"
      ]
     },
     "execution_count": 14,
     "metadata": {
      "tags": []
     },
     "output_type": "execute_result"
    }
   ],
   "source": [
    "## テキスト\n",
    "texts = [] \n",
    "\n",
    "for i in df_nonna[\"text\"]:\n",
    "    pat = re.compile('text' + '(.*?)' + '\\ncode-frame', re.S)\n",
    "    t = pat.findall(i)\n",
    "    t = t[0].replace(' ', '')\n",
    "    texts.append(t)\n",
    "len(texts)"
   ]
  },
  {
   "cell_type": "markdown",
   "metadata": {
    "colab_type": "text",
    "id": "IPw6sWyP4TrZ"
   },
   "source": [
    "# パラメータ調整"
   ]
  },
  {
   "cell_type": "code",
   "execution_count": 0,
   "metadata": {
    "colab": {},
    "colab_type": "code",
    "id": "ntNr_B9U7IWb"
   },
   "outputs": [],
   "source": [
    "coherence_vals = []\n",
    "perplexity_vals = []"
   ]
  },
  {
   "cell_type": "code",
   "execution_count": 0,
   "metadata": {
    "colab": {},
    "colab_type": "code",
    "id": "lp2LAiVR4vo9"
   },
   "outputs": [],
   "source": [
    "#Metrics for Topic Models\n",
    "# logging.basicConfig(format='%(message)s', level=logging.INFO)\n",
    "\n",
    "start = 600\n",
    "limit = 1000\n",
    "step = 100\n",
    "\n",
    "for n_topic in tqdm(range(start, limit, step), ncols=10):\n",
    "  lda_model = models.ldamodel.LdaModel(corpus=corpus, id2word=d, num_topics=n_topic, random_state=0, passes=1)\n",
    "  perplexity_vals.append(np.exp2(-lda_model.log_perplexity(corpus)))\n",
    "  coherence_model_lda = models.CoherenceModel(model=lda_model, corpus=corpus, dictionary=d, coherence='u_mass')\n",
    "  coherence_vals.append(coherence_model_lda.get_coherence())\n",
    "  print(coherence_vals) \n",
    "  print(perplexity_vals)"
   ]
  },
  {
   "cell_type": "code",
   "execution_count": 23,
   "metadata": {
    "colab": {},
    "colab_type": "code",
    "id": "vW3Gx4cIBbAE"
   },
   "outputs": [],
   "source": [
    "# ８時間以上実行した結果が以下になる\n",
    "\n",
    "# x = range(50,500,50)\n",
    "c1 = [-2.800185011864889, -3.8381375153485227, -4.337719732484978, -4.824468367839788, -5.5112041769632425, -5.717961684555838, -6.108669880787464, -6.243291521453136, -6.670956831398648]\n",
    "p1 = [278.08187614749374, 13742.999227407856, 100710.87503672925, 730380.1219802126, 5384586.332505015, 39816241.496140465, 292402825.9846827, 2183130514.0365868, 116344670653.4084]\n",
    "\n",
    "# x = range(10,150,10)\n",
    "c2 = [-1.8188228856586268, -2.2717650299753367, -2.395437852142874, -2.576531016152719, -2.800185011864889, -3.2658584650991864, -3.781004662528949, -3.557699334279256, -3.647092421753267, -3.8381375153485227, -3.7737831662103547, -4.293448341597792, -4.081620912557941, -4.311702281672783]\n",
    "p2 = [305.47796055144323, 287.2191028457021, 281.6994475814561, 280.3771900739065, 278.08187614749374, 277.16850271068944, 281.5075068005926, 2751.5285916214834, 9230.59925911488, 13742.999227407856, 20281.61428271216, 30175.833676662027, 45091.91580265207, 67072.07019771497]"
   ]
  },
  {
   "cell_type": "code",
   "execution_count": 14,
   "metadata": {
    "colab": {
     "base_uri": "https://localhost:8080/",
     "height": 51
    },
    "colab_type": "code",
    "executionInfo": {
     "elapsed": 657,
     "status": "ok",
     "timestamp": 1579680682139,
     "user": {
      "displayName": "Yicheng Wang",
      "photoUrl": "https://lh3.googleusercontent.com/a-/AAuE7mBICelqcd_cwG2elKSVuaZzH8HEfj_yov2eQwHoHg=s64",
      "userId": "10487961361854797289"
     },
     "user_tz": -540
    },
    "id": "TvsnLDNIHQpP",
    "outputId": "1444da73-d292-406e-cb3b-58c96c5b5342"
   },
   "outputs": [
    {
     "name": "stdout",
     "output_type": "stream",
     "text": [
      "9\n",
      "9\n"
     ]
    }
   ],
   "source": [
    "coherence_vals = c1 \n",
    "perplexity_vals = p1 \n",
    "print(len(coherence_vals)) \n",
    "print(len(perplexity_vals))"
   ]
  },
  {
   "cell_type": "code",
   "execution_count": 57,
   "metadata": {
    "colab": {
     "base_uri": "https://localhost:8080/",
     "height": 386
    },
    "colab_type": "code",
    "executionInfo": {
     "elapsed": 972,
     "status": "ok",
     "timestamp": 1579680685103,
     "user": {
      "displayName": "Yicheng Wang",
      "photoUrl": "https://lh3.googleusercontent.com/a-/AAuE7mBICelqcd_cwG2elKSVuaZzH8HEfj_yov2eQwHoHg=s64",
      "userId": "10487961361854797289"
     },
     "user_tz": -540
    },
    "id": "AJGz6D1y44pj",
    "outputId": "9ce84d13-142c-4b0b-ecbd-b2111e7971bd"
   },
   "outputs": [
    {
     "data": {
      "image/png": "[encoded data removed]",
      "text/plain": [
       "<Figure size 864x360 with 2 Axes>"
      ]
     },
     "metadata": {
      "tags": []
     },
     "output_type": "display_data"
    },
    {
     "data": {
      "text/plain": [
       "<Figure size 432x288 with 0 Axes>"
      ]
     },
     "metadata": {
      "tags": []
     },
     "output_type": "display_data"
    }
   ],
   "source": [
    "# evaluation\n",
    "x = range(50,500,50)\n",
    "\n",
    "fig, ax1 = plt.subplots(figsize=(12,5))\n",
    "# # coherence\n",
    "c1 = 'darkturquoise'\n",
    "ax1.plot(x, coherence_vals, 'o-', color=c1)\n",
    "ax1.set_xlabel('Num Topics')\n",
    "ax1.set_ylabel('Coherence', color=c1); ax1.tick_params('y', colors=c1)\n",
    "\n",
    "# perplexity\n",
    "c2 = 'slategray'\n",
    "ax2 = ax1.twinx()\n",
    "ax2.plot(x, perplexity_vals, 'o-', color=c2)\n",
    "ax2.set_ylabel('Perplexity', color=c2); ax2.tick_params('y', colors=c2)\n",
    "\n",
    "# Vis\n",
    "ax1.set_xticks(x)\n",
    "fig.tight_layout()\n",
    "plt.show()\n",
    "\n",
    "# save as png\n",
    "plt.savefig('metrics1.png') "
   ]
  },
  {
   "cell_type": "code",
   "execution_count": 24,
   "metadata": {
    "colab": {
     "base_uri": "https://localhost:8080/",
     "height": 51
    },
    "colab_type": "code",
    "executionInfo": {
     "elapsed": 562,
     "status": "ok",
     "timestamp": 1579680700301,
     "user": {
      "displayName": "Yicheng Wang",
      "photoUrl": "https://lh3.googleusercontent.com/a-/AAuE7mBICelqcd_cwG2elKSVuaZzH8HEfj_yov2eQwHoHg=s64",
      "userId": "10487961361854797289"
     },
     "user_tz": -540
    },
    "id": "zG3r8ptKSuiX",
    "outputId": "dad3b27a-0580-4076-b391-4cba47cf19c9"
   },
   "outputs": [
    {
     "name": "stdout",
     "output_type": "stream",
     "text": [
      "7\n",
      "7\n"
     ]
    }
   ],
   "source": [
    "coherence_vals = c2[:7]\n",
    "perplexity_vals = p2[:7]\n",
    "print(len(coherence_vals)) \n",
    "print(len(perplexity_vals))"
   ]
  },
  {
   "cell_type": "code",
   "execution_count": 25,
   "metadata": {
    "colab": {
     "base_uri": "https://localhost:8080/",
     "height": 386
    },
    "colab_type": "code",
    "executionInfo": {
     "elapsed": 975,
     "status": "ok",
     "timestamp": 1579680740671,
     "user": {
      "displayName": "Yicheng Wang",
      "photoUrl": "https://lh3.googleusercontent.com/a-/AAuE7mBICelqcd_cwG2elKSVuaZzH8HEfj_yov2eQwHoHg=s64",
      "userId": "10487961361854797289"
     },
     "user_tz": -540
    },
    "id": "6NFow-sFSul2",
    "outputId": "b82c5b0d-bf3f-4e08-9e32-5c7de668ac9f"
   },
   "outputs": [
    {
     "data": {
      "image/png": "[encoded data removed]",
      "text/plain": [
       "<Figure size 864x360 with 2 Axes>"
      ]
     },
     "metadata": {},
     "output_type": "display_data"
    }
   ],
   "source": [
    "# evaluation\n",
    "x = range(10,80,10)\n",
    "\n",
    "fig, ax1 = plt.subplots(figsize=(12,5))\n",
    "# # coherence\n",
    "c1 = 'darkturquoise'\n",
    "ax1.plot(x, coherence_vals, 'o-', color=c1)\n",
    "ax1.set_xlabel('Num Topics')\n",
    "ax1.set_ylabel('Coherence', color=c1); ax1.tick_params('y', colors=c1)\n",
    "\n",
    "# perplexity\n",
    "c2 = 'slategray'\n",
    "ax2 = ax1.twinx()\n",
    "ax2.plot(x, perplexity_vals, 'o-', color=c2)\n",
    "ax2.set_ylabel('Perplexity', color=c2); ax2.tick_params('y', colors=c2)\n",
    "\n",
    "# Vis\n",
    "# ax1.set_xticks(x)\n",
    "# fig.tight_layout()\n",
    "plt.show()\n",
    "\n",
    "# # save as png\n",
    "# plt.savefig('metrics2.png') "
   ]
  },
  {
   "cell_type": "markdown",
   "metadata": {
    "colab_type": "text",
    "id": "hRPLfVU84Trv"
   },
   "source": [
    "# LDAの学習"
   ]
  },
  {
   "cell_type": "markdown",
   "metadata": {
    "colab_type": "text",
    "id": "pGadtSDD4Trw"
   },
   "source": [
    "## 学習"
   ]
  },
  {
   "cell_type": "code",
   "execution_count": 12,
   "metadata": {
    "colab": {},
    "colab_type": "code",
    "id": "1PmAPj_n4Trx",
    "outputId": "8e363112-76d7-4456-806d-0ac636bd7365"
   },
   "outputs": [
    {
     "name": "stderr",
     "output_type": "stream",
     "text": [
      "using symmetric alpha at 0.016666666666666666\n",
      "using symmetric eta at 0.016666666666666666\n",
      "using serial LDA version on this node\n",
      "running online (multi-pass) LDA training, 60 topics, 3 passes over the supplied corpus of 86748 documents, updating model once every 2000 documents, evaluating perplexity every 20000 documents, iterating 50x with a convergence threshold of 0.001000\n",
      "PROGRESS: pass 0, at document #2000/86748\n",
      "merging changes from 2000 documents into a model of 86748 documents\n",
      "topic #19 (0.017): 0.005*\"ブランチ\" + 0.005*\"言語\" + 0.005*\"python\" + 0.004*\"機能\" + 0.004*\"アクセス\" + 0.004*\"バージョン\" + 0.004*\"開発\" + 0.003*\"選択\" + 0.003*\"実装\" + 0.003*\"プロジェクト\"\n",
      "topic #32 (0.017): 0.006*\"データ\" + 0.005*\"ボタン\" + 0.005*\"選択\" + 0.004*\"取得\" + 0.004*\"起動\" + 0.004*\"テスト\" + 0.004*\"定義\" + 0.003*\"画面\" + 0.003*\"クリック\" + 0.003*\"機能\"\n",
      "topic #27 (0.017): 0.015*\"データ\" + 0.004*\"コマンド\" + 0.004*\"python\" + 0.004*\"参加\" + 0.004*\"関数\" + 0.003*\"メソッド\" + 0.003*\"実装\" + 0.003*\"接続\" + 0.003*\"考える\" + 0.003*\"取得\"\n",
      "topic #17 (0.017): 0.010*\"データ\" + 0.005*\"出力\" + 0.005*\"モデル\" + 0.005*\"取得\" + 0.005*\"画像\" + 0.005*\"コマンド\" + 0.005*\"変換\" + 0.004*\"オプション\" + 0.003*\"開発\" + 0.003*\"削除\"\n",
      "topic #31 (0.017): 0.007*\"開発\" + 0.005*\"ダウンロード\" + 0.005*\"実装\" + 0.004*\"テスト\" + 0.004*\"クラス\" + 0.003*\"ライブラリ\" + 0.003*\"機能\" + 0.003*\"大阪\" + 0.003*\"composer\" + 0.003*\"id\"\n",
      "topic diff=47.702053, rho=1.000000\n",
      "PROGRESS: pass 0, at document #4000/86748\n",
      "merging changes from 2000 documents into a model of 86748 documents\n",
      "topic #23 (0.017): 0.011*\"関数\" + 0.005*\"読む\" + 0.005*\"問題\" + 0.005*\"考える\" + 0.004*\"変数\" + 0.004*\"データ\" + 0.004*\"やすい\" + 0.004*\"ん\" + 0.004*\"言う\" + 0.004*\"参照\"\n",
      "topic #30 (0.017): 0.014*\"Ubuntu\" + 0.010*\"サービス\" + 0.007*\"起動\" + 0.005*\"python\" + 0.005*\"バージョン\" + 0.005*\"無料\" + 0.004*\"管理\" + 0.004*\"実装\" + 0.004*\"AWS\" + 0.004*\"問題\"\n",
      "topic #37 (0.017): 0.011*\"データ\" + 0.010*\"Re・Act\" + 0.009*\"学習\" + 0.009*\"コンポーネント\" + 0.007*\"移行\" + 0.006*\"vagrant\" + 0.006*\"DOM\" + 0.006*\"python\" + 0.005*\"関数\" + 0.005*\"いい\"\n",
      "topic #15 (0.017): 0.014*\"データ\" + 0.008*\"状態\" + 0.006*\"取得\" + 0.006*\"イメージ\" + 0.005*\"情報\" + 0.005*\"アルゴリズム\" + 0.004*\"人工知能\" + 0.004*\"定義\" + 0.004*\"遷移\" + 0.004*\"実装\"\n",
      "topic #55 (0.017): 0.020*\"データ\" + 0.016*\"値\" + 0.013*\"配列\" + 0.010*\"計算\" + 0.007*\"要素\" + 0.006*\"クリック\" + 0.005*\"取得\" + 0.005*\"変数\" + 0.005*\"タスク\" + 0.004*\"実装\"\n",
      "topic diff=0.802850, rho=0.707107\n",
      "PROGRESS: pass 0, at document #6000/86748\n",
      "merging changes from 2000 documents into a model of 86748 documents\n",
      "topic #52 (0.017): 0.010*\"言う\" + 0.009*\"GitHub\" + 0.007*\"エンジニア\" + 0.006*\"取得\" + 0.006*\"いい\" + 0.005*\"ん\" + 0.005*\"キー\" + 0.005*\"ページ\" + 0.005*\"開発\" + 0.005*\"くれる\"\n",
      "topic #28 (0.017): 0.046*\"AWS\" + 0.022*\"docker\" + 0.013*\"接続\" + 0.013*\"サービス\" + 0.012*\"コンテナ\" + 0.012*\"インスタンス\" + 0.012*\"ホスト\" + 0.009*\"コマンド\" + 0.008*\"ネットワーク\" + 0.007*\"起動\"\n",
      "topic #21 (0.017): 0.019*\"ES\" + 0.015*\"babel\" + 0.008*\"typescript\" + 0.007*\"JS\" + 0.006*\"import\" + 0.006*\"wavelet\" + 0.006*\"tmux\" + 0.006*\"秘密鍵\" + 0.006*\"パッケージ\" + 0.005*\"kernel\"\n",
      "topic #9 (0.017): 0.027*\"画像\" + 0.021*\"計算\" + 0.013*\"入力\" + 0.011*\"行列\" + 0.010*\"出力\" + 0.007*\"変換\" + 0.007*\"ん\" + 0.006*\"モデル\" + 0.006*\"学習\" + 0.005*\"関数\"\n",
      "topic #53 (0.017): 0.029*\"テスト\" + 0.017*\"ふりかえる\" + 0.008*\"チーム\" + 0.007*\"レビュー\" + 0.006*\"アプリ\" + 0.005*\"演算子\" + 0.005*\"よい\" + 0.005*\"考える\" + 0.005*\"機能\" + 0.004*\"言う\"\n",
      "topic diff=0.812988, rho=0.577350\n",
      "PROGRESS: pass 0, at document #8000/86748\n",
      "merging changes from 2000 documents into a model of 86748 documents\n",
      "topic #16 (0.017): 0.032*\"ブロック\" + 0.018*\"デバイス\" + 0.013*\"データ\" + 0.011*\"マウント\" + 0.010*\"ディレクトリ\" + 0.009*\"領域\" + 0.008*\"カード\" + 0.008*\"カーネル\" + 0.007*\"ファイルシステム\" + 0.007*\"メモリ\"\n",
      "topic #10 (0.017): 0.015*\"ディレクトリ\" + 0.013*\"java\" + 0.011*\"バージョン\" + 0.010*\"ビルド\" + 0.009*\"コマンド\" + 0.008*\"変換\" + 0.008*\"npm\" + 0.008*\"bash\" + 0.007*\"実装\" + 0.007*\"パッケージ\"\n",
      "topic #51 (0.017): 0.025*\"プロセス\" + 0.015*\"flutter\" + 0.014*\"widget\" + 0.013*\"AND\" + 0.010*\"プログラム\" + 0.008*\"IS\" + 0.008*\"TO\" + 0.008*\"part\" + 0.007*\"方式\" + 0.006*\"アドレス\"\n",
      "topic #47 (0.017): 0.037*\"文字\" + 0.028*\"要素\" + 0.009*\"数値\" + 0.008*\"D3\" + 0.007*\"SVG\" + 0.006*\"E1\" + 0.006*\"位置\" + 0.006*\"幅\" + 0.005*\"オブジェクト\" + 0.005*\"皿\"\n",
      "topic #22 (0.017): 0.018*\"単語\" + 0.009*\"制御\" + 0.009*\"ALIAS\" + 0.008*\"講師\" + 0.007*\"動画\" + 0.006*\"データ\" + 0.006*\"考える\" + 0.005*\"言う\" + 0.005*\"Udemy\" + 0.005*\"分析\"\n",
      "topic diff=0.825911, rho=0.500000\n",
      "PROGRESS: pass 0, at document #10000/86748\n",
      "merging changes from 2000 documents into a model of 86748 documents\n",
      "topic #11 (0.017): 0.026*\"文字列\" + 0.021*\"メソッド\" + 0.018*\"引数\" + 0.016*\"()\" + 0.013*\"値\" + 0.012*\"関数\" + 0.009*\"渡す\" + 0.009*\"出力\" + 0.009*\"実装\" + 0.009*\"返す\"\n",
      "topic #9 (0.017): 0.042*\"画像\" + 0.022*\"計算\" + 0.011*\"出力\" + 0.010*\"入力\" + 0.009*\"行列\" + 0.008*\"変換\" + 0.006*\"サイズ\" + 0.006*\"グラフ\" + 0.006*\"評価\" + 0.005*\"ん\"\n",
      "topic #16 (0.017): 0.022*\"ブロック\" + 0.019*\"デバイス\" + 0.014*\"メモリ\" + 0.014*\"カード\" + 0.012*\"マウント\" + 0.011*\"SSD\" + 0.011*\"データ\" + 0.009*\"領域\" + 0.009*\"cpu\" + 0.008*\"OS\"\n",
      "topic #27 (0.017): 0.026*\"データ\" + 0.017*\"バイト\" + 0.016*\"暗号\" + 0.013*\"署名\" + 0.011*\"鍵\" + 0.010*\"暗号化\" + 0.007*\"乱数\" + 0.006*\"検定\" + 0.006*\"監視\" + 0.006*\"交換\"\n",
      "topic #41 (0.017): 0.021*\"CSS\" + 0.018*\"HTML\" + 0.017*\"コンポーネント\" + 0.016*\"JS\" + 0.009*\"関数\" + 0.009*\"Re・Act\" + 0.009*\"JavaScript\" + 0.009*\"()\" + 0.008*\"参照\" + 0.008*\"スタイル\"\n",
      "topic diff=0.827565, rho=0.447214\n",
      "PROGRESS: pass 0, at document #12000/86748\n",
      "merging changes from 2000 documents into a model of 86748 documents\n",
      "topic #12 (0.017): 0.022*\"データ\" + 0.020*\"py\" + 0.017*\"python\" + 0.016*\"Django\" + 0.010*\"プログラム\" + 0.010*\"部分\" + 0.009*\"関数\" + 0.006*\"モデル\" + 0.005*\"入る\" + 0.005*\"3D\"\n",
      "topic #38 (0.017): 0.043*\"状態\" + 0.033*\"ボタン\" + 0.032*\"イベント\" + 0.028*\"遷移\" + 0.015*\"画面\" + 0.014*\"state\" + 0.014*\"コールバック\" + 0.014*\"ワイ\" + 0.011*\"コンポーネント\" + 0.010*\"実装\"\n",
      "topic #40 (0.017): 0.020*\"フォント\" + 0.008*\"対応\" + 0.008*\"ゲーム\" + 0.008*\"位置\" + 0.008*\"移動\" + 0.008*\"TIME ZONE\" + 0.007*\"SharePoint\" + 0.007*\"壁\" + 0.007*\"プレイヤー\" + 0.007*\"敵\"\n",
      "topic #57 (0.017): 0.019*\"lambda\" + 0.015*\"選択\" + 0.015*\"テンプレート\" + 0.013*\"ジョブ\" + 0.011*\"クリック\" + 0.010*\"ボタン\" + 0.010*\"Lambda\" + 0.009*\"押す\" + 0.008*\"メッセージ\" + 0.007*\"送信\"\n",
      "topic #8 (0.017): 0.030*\"ページ\" + 0.029*\"検索\" + 0.022*\"API\" + 0.019*\"サイト\" + 0.015*\"メール\" + 0.013*\"URL\" + 0.013*\"取得\" + 0.009*\"コンテンツ\" + 0.008*\"Google\" + 0.008*\"情報\"\n",
      "topic diff=0.811546, rho=0.408248\n",
      "PROGRESS: pass 0, at document #14000/86748\n",
      "merging changes from 2000 documents into a model of 86748 documents\n",
      "topic #29 (0.017): 0.009*\"関数\" + 0.008*\"mathrm\" + 0.007*\"考える\" + 0.007*\"光\" + 0.006*\"距離\" + 0.006*\"AI\" + 0.006*\"合成\" + 0.005*\"情報\" + 0.005*\"言う\" + 0.005*\"反射\"\n",
      "topic #18 (0.017): 0.028*\"リクエスト\" + 0.025*\"client\" + 0.024*\"HTTP\" + 0.015*\"RFC\" + 0.014*\"サーバー\" + 0.013*\"API\" + 0.011*\"レスポンス\" + 0.009*\"server\" + 0.009*\"送信\" + 0.009*\"通信\"\n",
      "topic #48 (0.017): 0.047*\"関数\" + 0.019*\"問題\" + 0.014*\"変数\" + 0.012*\"値\" + 0.011*\"整数\" + 0.011*\"確率\" + 0.010*\"考える\" + 0.010*\"求める\" + 0.010*\"桁\" + 0.009*\"表す\"\n",
      "topic #6 (0.017): 0.024*\"テスト\" + 0.015*\"SLACK\" + 0.012*\"定義\" + 0.012*\"CI\" + 0.010*\"ビルド\" + 0.009*\"エラー\" + 0.008*\"チェック\" + 0.008*\"くれる\" + 0.008*\"test\" + 0.007*\"コメント\"\n",
      "topic #9 (0.017): 0.044*\"画像\" + 0.027*\"計算\" + 0.011*\"変換\" + 0.010*\"サイズ\" + 0.009*\"入力\" + 0.009*\"出力\" + 0.009*\"行列\" + 0.008*\"座標\" + 0.008*\"検出\" + 0.007*\"回転\"\n",
      "topic diff=0.785315, rho=0.377964\n",
      "PROGRESS: pass 0, at document #16000/86748\n",
      "merging changes from 2000 documents into a model of 86748 documents\n",
      "topic #50 (0.017): 0.055*\"コマンド\" + 0.029*\"docker\" + 0.027*\"コンテナ\" + 0.026*\"起動\" + 0.021*\"イメージ\" + 0.013*\"ディレクトリ\" + 0.009*\"Linux\" + 0.008*\"ダウンロード\" + 0.008*\"構築\" + 0.008*\"オプション\"\n",
      "topic #14 (0.017): 0.036*\"エラー\" + 0.017*\"MySQL\" + 0.015*\"コマンド\" + 0.015*\"db\" + 0.014*\"データベース\" + 0.014*\"接続\" + 0.008*\"発生\" + 0.008*\"バージョン\" + 0.008*\"rails\" + 0.008*\"解決\"\n",
      "topic #15 (0.017): 0.015*\"データ\" + 0.012*\"アルゴリズム\" + 0.009*\"情報\" + 0.009*\"攻撃\" + 0.007*\"口座\" + 0.007*\"ユニット\" + 0.007*\"終値\" + 0.007*\"対策\" + 0.005*\"取引\" + 0.005*\"イメージ\"\n",
      "topic #52 (0.017): 0.013*\"GitHub\" + 0.010*\"エンジニア\" + 0.009*\"公開\" + 0.009*\"いい\" + 0.008*\"くれる\" + 0.008*\"ん\" + 0.007*\"言う\" + 0.007*\"僕\" + 0.006*\"開発\" + 0.005*\"勉強\"\n",
      "topic #48 (0.017): 0.049*\"関数\" + 0.021*\"問題\" + 0.012*\"値\" + 0.012*\"変数\" + 0.011*\"整数\" + 0.011*\"求める\" + 0.011*\"表す\" + 0.010*\"確率\" + 0.010*\"考える\" + 0.010*\"数字\"\n",
      "topic diff=0.735222, rho=0.353553\n",
      "PROGRESS: pass 0, at document #18000/86748\n",
      "merging changes from 2000 documents into a model of 86748 documents\n",
      "topic #57 (0.017): 0.020*\"lambda\" + 0.018*\"選択\" + 0.016*\"メッセージ\" + 0.015*\"テンプレート\" + 0.014*\"FLOW\" + 0.013*\"クリック\" + 0.013*\"Lambda\" + 0.011*\"キュー\" + 0.010*\"ジョブ\" + 0.009*\"ロール\"\n",
      "topic #59 (0.017): 0.034*\"テスト\" + 0.023*\"メソッド\" + 0.018*\"terraform\" + 0.018*\"例外\" + 0.016*\"インスタンス\" + 0.011*\"発生\" + 0.011*\"関数\" + 0.010*\"実装\" + 0.010*\"room\" + 0.009*\"jupyter\"\n"
     ]
    },
    {
     "name": "stderr",
     "output_type": "stream",
     "text": [
      "topic #1 (0.017): 0.031*\"関数\" + 0.030*\"型\" + 0.022*\"値\" + 0.020*\"変数\" + 0.017*\"定義\" + 0.014*\"実装\" + 0.009*\"メソッド\" + 0.009*\"条件\" + 0.009*\"返す\" + 0.009*\"宣言\"\n",
      "topic #37 (0.017): 0.027*\"vagrant\" + 0.024*\"仮想\" + 0.022*\"map\" + 0.020*\"移行\" + 0.015*\"box\" + 0.014*\"DOM\" + 0.013*\"Re・Act\" + 0.010*\"vagrantfile\" + 0.010*\"pyenv\" + 0.009*\"ディレクティブ\"\n",
      "topic #34 (0.017): 0.030*\"AZURE\" + 0.021*\"SSH\" + 0.019*\"サーバ\" + 0.017*\"ドメイン\" + 0.015*\"接続\" + 0.015*\"アクセス\" + 0.015*\"key\" + 0.013*\"キー\" + 0.013*\"証明書\" + 0.010*\"公開鍵\"\n",
      "topic diff=0.697707, rho=0.333333\n",
      "-11.510 per-word bound, 2915.9 perplexity estimate based on a held-out corpus of 2000 documents with 340515 words\n",
      "PROGRESS: pass 0, at document #20000/86748\n",
      "merging changes from 2000 documents into a model of 86748 documents\n",
      "topic #32 (0.017): 0.034*\"選択\" + 0.019*\"画面\" + 0.018*\"ボタン\" + 0.017*\"押す\" + 0.015*\"入力\" + 0.015*\"キー\" + 0.015*\"クリック\" + 0.013*\"開く\" + 0.010*\"VIEW\" + 0.009*\"押下\"\n",
      "topic #39 (0.017): 0.050*\"python\" + 0.033*\"ver\" + 0.021*\"追記\" + 0.016*\"プログラム\" + 0.015*\"文書\" + 0.014*\"資料\" + 0.011*\"anaconda\" + 0.011*\"document\" + 0.010*\"履歴\" + 0.010*\"history\"\n",
      "topic #5 (0.017): 0.025*\"画面\" + 0.022*\"登録\" + 0.022*\"サービス\" + 0.019*\"情報\" + 0.018*\"ユーザー\" + 0.018*\"データ\" + 0.017*\"アプリ\" + 0.017*\"テーブル\" + 0.013*\"id\" + 0.012*\"API\"\n",
      "topic #48 (0.017): 0.042*\"関数\" + 0.031*\"問題\" + 0.014*\"整数\" + 0.013*\"値\" + 0.013*\"表す\" + 0.013*\"確率\" + 0.011*\"求める\" + 0.011*\"考える\" + 0.010*\"計算\" + 0.009*\"変数\"\n",
      "topic #13 (0.017): 0.094*\"クラス\" + 0.060*\"メソッド\" + 0.057*\"オブジェクト\" + 0.026*\"定義\" + 0.024*\"実装\" + 0.020*\"プロパティ\" + 0.018*\"インスタンス\" + 0.016*\"生成\" + 0.013*\"コンストラクタ\" + 0.012*\"継承\"\n",
      "topic diff=0.627098, rho=0.316228\n",
      "PROGRESS: pass 0, at document #22000/86748\n",
      "merging changes from 2000 documents into a model of 86748 documents\n",
      "topic #55 (0.017): 0.051*\"配列\" + 0.036*\"要素\" + 0.025*\"リスト\" + 0.025*\"値\" + 0.019*\"インデックス\" + 0.016*\"データ\" + 0.010*\"int\" + 0.010*\"INDEX\" + 0.009*\"ソート\" + 0.009*\"格納\"\n",
      "topic #27 (0.017): 0.030*\"暗号\" + 0.026*\"データ\" + 0.019*\"バイト\" + 0.018*\"暗号化\" + 0.017*\"鍵\" + 0.016*\"署名\" + 0.009*\"復号\" + 0.009*\"乱数\" + 0.008*\"ado\" + 0.008*\"商品\"\n",
      "topic #52 (0.017): 0.011*\"エンジニア\" + 0.009*\"プログラミング\" + 0.009*\"GitHub\" + 0.009*\"いい\" + 0.009*\"公開\" + 0.008*\"くれる\" + 0.008*\"ん\" + 0.006*\"僕\" + 0.006*\"勉強\" + 0.006*\"開発\"\n",
      "topic #28 (0.017): 0.056*\"AWS\" + 0.028*\"インスタンス\" + 0.022*\"サービス\" + 0.018*\"接続\" + 0.014*\"ネットワーク\" + 0.013*\"EC2\" + 0.013*\"Amazon\" + 0.012*\"CLOUD\" + 0.012*\"アクセス\" + 0.012*\"リソース\"\n",
      "topic #25 (0.017): 0.034*\"アプリ\" + 0.026*\"LINE\" + 0.014*\"iOS\" + 0.013*\"bot\" + 0.013*\"STEP\" + 0.012*\"画面\" + 0.011*\"ANDROID\" + 0.010*\"dialog\" + 0.010*\"画像\" + 0.010*\"Xcode\"\n",
      "topic diff=0.575256, rho=0.301511\n",
      "PROGRESS: pass 0, at document #24000/86748\n",
      "merging changes from 2000 documents into a model of 86748 documents\n",
      "topic #2 (0.017): 0.031*\"Twitter\" + 0.026*\"Arduino\" + 0.016*\"tweet\" + 0.016*\"ESP\" + 0.013*\"Bluetooth\" + 0.012*\"接続\" + 0.012*\"PNG\" + 0.011*\"WiFi\" + 0.011*\"encode\" + 0.009*\"ボード\"\n",
      "topic #17 (0.017): 0.058*\"ノード\" + 0.023*\"node\" + 0.015*\"トランザクション\" + 0.013*\"音声\" + 0.012*\"出力\" + 0.011*\"データ\" + 0.011*\"シート\" + 0.010*\"red\" + 0.010*\"変換\" + 0.008*\"tf\"\n",
      "topic #59 (0.017): 0.034*\"テスト\" + 0.026*\"例外\" + 0.018*\"メソッド\" + 0.015*\"インスタンス\" + 0.015*\"発生\" + 0.014*\"terraform\" + 0.011*\"jupyter\" + 0.010*\"実装\" + 0.010*\"関数\" + 0.010*\"呼び出す\"\n",
      "topic #19 (0.017): 0.038*\"開発\" + 0.030*\"言語\" + 0.019*\"ブランチ\" + 0.018*\"管理\" + 0.017*\"ツール\" + 0.015*\"プロジェクト\" + 0.010*\"差分\" + 0.010*\"git\" + 0.010*\"コミット\" + 0.010*\"機能\"\n",
      "topic #10 (0.017): 0.036*\"パッケージ\" + 0.026*\"バージョン\" + 0.022*\"ビルド\" + 0.021*\"ディレクトリ\" + 0.019*\"プロジェクト\" + 0.017*\"ライブラリ\" + 0.016*\"java\" + 0.012*\"コマンド\" + 0.010*\"依存\" + 0.009*\"生成\"\n",
      "topic diff=0.508857, rho=0.288675\n",
      "PROGRESS: pass 0, at document #26000/86748\n",
      "merging changes from 2000 documents into a model of 86748 documents\n",
      "topic #36 (0.017): 0.031*\"VPC\" + 0.027*\"ルート\" + 0.026*\"グループ\" + 0.020*\"public\" + 0.016*\"EC2\" + 0.016*\"サブネット\" + 0.015*\"インスタンス\" + 0.012*\"private\" + 0.012*\"instance\" + 0.011*\"ステータス\"\n",
      "topic #54 (0.017): 0.025*\"選択\" + 0.022*\"起動\" + 0.021*\"windows\" + 0.019*\"クリック\" + 0.018*\"開く\" + 0.016*\"ダウンロード\" + 0.014*\"UNITY\" + 0.013*\"画面\" + 0.012*\"Folder\" + 0.011*\"入力\"\n",
      "topic #30 (0.017): 0.011*\"Blockchain\" + 0.009*\"サービス\" + 0.009*\"機能\" + 0.009*\"CROWD\" + 0.009*\"提供\" + 0.009*\"サポート\" + 0.008*\"Linux\" + 0.008*\"ネットワーク\" + 0.008*\"Ubuntu\" + 0.008*\"サーバ\"\n",
      "topic #34 (0.017): 0.038*\"AZURE\" + 0.028*\"サーバ\" + 0.027*\"SSH\" + 0.021*\"ドメイン\" + 0.018*\"アクセス\" + 0.018*\"接続\" + 0.014*\"証明書\" + 0.014*\"キー\" + 0.012*\"key\" + 0.011*\"ad\"\n",
      "topic #55 (0.017): 0.053*\"配列\" + 0.041*\"要素\" + 0.027*\"リスト\" + 0.026*\"値\" + 0.016*\"インデックス\" + 0.015*\"データ\" + 0.010*\"INDEX\" + 0.010*\"int\" + 0.010*\"array\" + 0.010*\"ソート\"\n",
      "topic diff=0.457309, rho=0.277350\n",
      "PROGRESS: pass 0, at document #28000/86748\n",
      "merging changes from 2000 documents into a model of 86748 documents\n",
      "topic #32 (0.017): 0.040*\"選択\" + 0.031*\"画面\" + 0.026*\"ボタン\" + 0.022*\"押す\" + 0.022*\"入力\" + 0.020*\"キー\" + 0.017*\"クリック\" + 0.013*\"開く\" + 0.012*\"操作\" + 0.011*\"押下\"\n",
      "topic #1 (0.017): 0.044*\"関数\" + 0.039*\"型\" + 0.023*\"変数\" + 0.022*\"値\" + 0.017*\"定義\" + 0.013*\"実装\" + 0.010*\"引数\" + 0.010*\"参照\" + 0.009*\"宣言\" + 0.008*\"条件\"\n",
      "topic #38 (0.017): 0.048*\"状態\" + 0.038*\"ボタン\" + 0.038*\"イベント\" + 0.025*\"画面\" + 0.024*\"遷移\" + 0.020*\"state\" + 0.016*\"ワイ\" + 0.015*\"実装\" + 0.011*\"コールバック\" + 0.011*\"更新\"\n",
      "topic #8 (0.017): 0.041*\"ページ\" + 0.036*\"検索\" + 0.034*\"サイト\" + 0.022*\"URL\" + 0.019*\"API\" + 0.017*\"メール\" + 0.014*\"取得\" + 0.013*\"コンテンツ\" + 0.013*\"情報\" + 0.012*\"リンク\"\n",
      "topic #4 (0.017): 0.058*\"モデル\" + 0.047*\"学習\" + 0.029*\"データ\" + 0.014*\"GPU\" + 0.014*\"機械学習\" + 0.012*\"分類\" + 0.012*\"TensorFlow\" + 0.011*\"精度\" + 0.011*\"予測\" + 0.009*\"データセット\"\n",
      "topic diff=0.414156, rho=0.267261\n",
      "PROGRESS: pass 0, at document #30000/86748\n",
      "merging changes from 2000 documents into a model of 86748 documents\n",
      "topic #21 (0.017): 0.044*\"typescript\" + 0.031*\"モジュール\" + 0.020*\"import\" + 0.018*\"TS\" + 0.016*\"module\" + 0.014*\"webpack\" + 0.014*\"LED\" + 0.014*\"ES\" + 0.012*\"ピン\" + 0.011*\"制御\"\n",
      "topic #38 (0.017): 0.044*\"状態\" + 0.035*\"イベント\" + 0.034*\"ボタン\" + 0.026*\"遷移\" + 0.026*\"state\" + 0.023*\"画面\" + 0.014*\"実装\" + 0.013*\"ワイ\" + 0.013*\"更新\" + 0.012*\"コンポーネント\"\n",
      "topic #46 (0.017): 0.021*\"システム\" + 0.010*\"設計\" + 0.009*\"開発\" + 0.008*\"ソフトウェア\" + 0.007*\"アプリケーション\" + 0.006*\"コスト\" + 0.006*\"提供\" + 0.005*\"要求\" + 0.005*\"RUST\" + 0.005*\"技術\"\n",
      "topic #8 (0.017): 0.045*\"ページ\" + 0.037*\"検索\" + 0.033*\"サイト\" + 0.023*\"URL\" + 0.018*\"メール\" + 0.017*\"API\" + 0.015*\"取得\" + 0.013*\"リンク\" + 0.013*\"情報\" + 0.012*\"Google\"\n",
      "topic #54 (0.017): 0.025*\"選択\" + 0.023*\"起動\" + 0.021*\"クリック\" + 0.020*\"windows\" + 0.019*\"開く\" + 0.018*\"ダウンロード\" + 0.017*\"UNITY\" + 0.013*\"Folder\" + 0.013*\"画面\" + 0.010*\"入力\"\n",
      "topic diff=0.379160, rho=0.258199\n",
      "PROGRESS: pass 0, at document #32000/86748\n",
      "merging changes from 2000 documents into a model of 86748 documents\n",
      "topic #17 (0.017): 0.066*\"ノード\" + 0.040*\"node\" + 0.027*\"トランザクション\" + 0.012*\"音声\" + 0.011*\"red\" + 0.010*\"出力\" + 0.010*\"シート\" + 0.009*\"data\" + 0.009*\"データ\" + 0.008*\"output\"\n",
      "topic #32 (0.017): 0.043*\"選択\" + 0.031*\"画面\" + 0.026*\"ボタン\" + 0.025*\"押す\" + 0.024*\"入力\" + 0.023*\"クリック\" + 0.020*\"キー\" + 0.014*\"開く\" + 0.012*\"タブ\" + 0.012*\"操作\"\n",
      "topic #2 (0.017): 0.027*\"Twitter\" + 0.027*\"Arduino\" + 0.024*\"tweet\" + 0.022*\"接続\" + 0.013*\"ESP\" + 0.012*\"ボード\" + 0.011*\"USB\" + 0.011*\"電源\" + 0.011*\"モーター\" + 0.010*\"WiFi\"\n",
      "topic #6 (0.017): 0.093*\"テスト\" + 0.026*\"SLACK\" + 0.016*\"test\" + 0.015*\"CI\" + 0.011*\"チェック\" + 0.009*\"定義\" + 0.009*\"くれる\" + 0.008*\"自動\" + 0.008*\"対象\" + 0.008*\"エラー\"\n",
      "topic #3 (0.017): 0.052*\"変換\" + 0.021*\"形式\" + 0.020*\"日付\" + 0.019*\"スタック\" + 0.016*\"フィルタ\" + 0.014*\"圧縮\" + 0.011*\"出力\" + 0.010*\"文字コード\" + 0.010*\"date\" + 0.008*\"文字列\"\n",
      "topic diff=0.345920, rho=0.250000\n",
      "PROGRESS: pass 0, at document #34000/86748\n",
      "merging changes from 2000 documents into a model of 86748 documents\n",
      "topic #58 (0.017): 0.065*\"TO\" + 0.054*\"AND\" + 0.031*\"IS\" + 0.023*\"ON\" + 0.017*\"YOU\" + 0.014*\"WITH\" + 0.013*\"BY\" + 0.010*\"It\" + 0.008*\"WILL\" + 0.008*\"ING\"\n",
      "topic #22 (0.017): 0.047*\"動画\" + 0.033*\"単語\" + 0.022*\"再生\" + 0.019*\"経路\" + 0.012*\"作品\" + 0.010*\"分析\" + 0.010*\"タイル\" + 0.009*\"bi\" + 0.008*\"YouTube\" + 0.008*\"power\"\n",
      "topic #32 (0.017): 0.043*\"選択\" + 0.034*\"画面\" + 0.029*\"ボタン\" + 0.026*\"入力\" + 0.026*\"押す\" + 0.024*\"クリック\" + 0.021*\"キー\" + 0.014*\"開く\" + 0.012*\"操作\" + 0.011*\"タブ\"\n",
      "topic #37 (0.017): 0.048*\"map\" + 0.039*\"仮想\" + 0.039*\"vagrant\" + 0.036*\"移行\" + 0.028*\"box\" + 0.021*\"ELIXIR\" + 0.014*\"並列\" + 0.012*\"pyenv\" + 0.011*\"kintone\" + 0.011*\"mock\"\n",
      "topic #6 (0.017): 0.105*\"テスト\" + 0.023*\"SLACK\" + 0.016*\"test\" + 0.014*\"CI\" + 0.013*\"チェック\" + 0.009*\"くれる\" + 0.009*\"定義\" + 0.008*\"自動\" + 0.008*\"対象\" + 0.008*\"エラー\"\n",
      "topic diff=0.312732, rho=0.242536\n"
     ]
    },
    {
     "name": "stderr",
     "output_type": "stream",
     "text": [
      "PROGRESS: pass 0, at document #36000/86748\n",
      "merging changes from 2000 documents into a model of 86748 documents\n",
      "topic #17 (0.017): 0.063*\"ノード\" + 0.042*\"node\" + 0.034*\"トランザクション\" + 0.012*\"音声\" + 0.012*\"S1\" + 0.011*\"red\" + 0.009*\"data\" + 0.008*\"output\" + 0.008*\"出力\" + 0.008*\"データ\"\n",
      "topic #50 (0.017): 0.077*\"コマンド\" + 0.035*\"コンテナ\" + 0.034*\"起動\" + 0.027*\"docker\" + 0.023*\"イメージ\" + 0.016*\"ディレクトリ\" + 0.012*\"Linux\" + 0.009*\"オプション\" + 0.009*\"ターミナル\" + 0.009*\"構築\"\n",
      "topic #57 (0.017): 0.028*\"lambda\" + 0.025*\"ジョブ\" + 0.024*\"テンプレート\" + 0.021*\"メッセージ\" + 0.016*\"選択\" + 0.015*\"Lambda\" + 0.013*\"関数\" + 0.012*\"キュー\" + 0.011*\"FLOW\" + 0.010*\"クリック\"\n",
      "topic #10 (0.017): 0.036*\"パッケージ\" + 0.030*\"バージョン\" + 0.025*\"ディレクトリ\" + 0.024*\"ビルド\" + 0.020*\"プロジェクト\" + 0.018*\"ライブラリ\" + 0.016*\"java\" + 0.013*\"コマンド\" + 0.012*\"パス\" + 0.010*\"導入\"\n",
      "topic #45 (0.017): 0.079*\"git\" + 0.050*\"GitHub\" + 0.047*\"ブランチ\" + 0.046*\"リポジトリ\" + 0.041*\"コミット\" + 0.026*\"PUSH\" + 0.018*\"master\" + 0.016*\"リモート\" + 0.016*\"マージ\" + 0.015*\"作業\"\n",
      "topic diff=0.283243, rho=0.235702\n",
      "PROGRESS: pass 0, at document #38000/86748\n",
      "merging changes from 2000 documents into a model of 86748 documents\n",
      "topic #4 (0.017): 0.059*\"モデル\" + 0.057*\"学習\" + 0.029*\"データ\" + 0.016*\"機械学習\" + 0.015*\"予測\" + 0.015*\"分類\" + 0.013*\"精度\" + 0.012*\"GPU\" + 0.010*\"訓練\" + 0.010*\"特徴\"\n",
      "topic #58 (0.017): 0.064*\"TO\" + 0.049*\"AND\" + 0.033*\"IS\" + 0.022*\"ON\" + 0.017*\"YOU\" + 0.013*\"BY\" + 0.013*\"WITH\" + 0.010*\"It\" + 0.008*\"ING\" + 0.008*\"WILL\"\n",
      "topic #7 (0.017): 0.058*\"docker\" + 0.020*\"コンテナ\" + 0.019*\"compose\" + 0.016*\"起動\" + 0.013*\"yml\" + 0.012*\".S\" + 0.012*\"LOCAL\" + 0.011*\"config\" + 0.011*\"conf\" + 0.009*\"nginx\"\n",
      "topic #27 (0.017): 0.026*\"データ\" + 0.024*\"暗号\" + 0.022*\"商品\" + 0.019*\"署名\" + 0.018*\"バイト\" + 0.016*\"暗号化\" + 0.014*\"ハッシュ\" + 0.014*\"乱数\" + 0.011*\"生成\" + 0.011*\"鍵\"\n",
      "topic #20 (0.017): 0.047*\"ログイン\" + 0.041*\"パスワード\" + 0.030*\"user\" + 0.028*\"認証\" + 0.026*\"ユーザー\" + 0.025*\"rails\" + 0.013*\"アクション\" + 0.011*\"ユーザ\" + 0.011*\"URL\" + 0.010*\"機能\"\n",
      "topic diff=0.255334, rho=0.229416\n",
      "-11.442 per-word bound, 2781.3 perplexity estimate based on a held-out corpus of 2000 documents with 314017 words\n",
      "PROGRESS: pass 0, at document #40000/86748\n",
      "merging changes from 2000 documents into a model of 86748 documents\n",
      "topic #9 (0.017): 0.069*\"画像\" + 0.019*\"計算\" + 0.013*\"座標\" + 0.011*\"カメラ\" + 0.010*\"サイズ\" + 0.009*\"描画\" + 0.009*\"検出\" + 0.008*\"頂点\" + 0.008*\"変換\" + 0.007*\"出力\"\n",
      "topic #30 (0.017): 0.014*\"機能\" + 0.012*\"サポート\" + 0.012*\"CROWD\" + 0.011*\"サービス\" + 0.010*\"提供\" + 0.009*\"対応\" + 0.009*\"Blockchain\" + 0.008*\"可能\" + 0.008*\"リリース\" + 0.008*\"ネットワーク\"\n",
      "topic #27 (0.017): 0.024*\"データ\" + 0.023*\"暗号\" + 0.021*\"署名\" + 0.019*\"商品\" + 0.018*\"バイト\" + 0.015*\"暗号化\" + 0.015*\"ハッシュ\" + 0.013*\"生成\" + 0.012*\"乱数\" + 0.011*\"鍵\"\n",
      "topic #10 (0.017): 0.035*\"パッケージ\" + 0.029*\"バージョン\" + 0.026*\"ディレクトリ\" + 0.024*\"ビルド\" + 0.023*\"プロジェクト\" + 0.018*\"ライブラリ\" + 0.015*\"java\" + 0.013*\"コマンド\" + 0.012*\"パス\" + 0.010*\"生成\"\n",
      "topic #25 (0.017): 0.063*\"アプリ\" + 0.026*\"ANDROID\" + 0.024*\"LINE\" + 0.022*\"bot\" + 0.019*\"Xcode\" + 0.019*\"iOS\" + 0.011*\"STEP\" + 0.011*\"画面\" + 0.010*\"メッセージ\" + 0.009*\"line\"\n",
      "topic diff=0.231590, rho=0.223607\n",
      "PROGRESS: pass 0, at document #42000/86748\n",
      "merging changes from 2000 documents into a model of 86748 documents\n",
      "topic #33 (0.017): 0.111*\"ログ\" + 0.106*\"出力\" + 0.024*\"log\" + 0.014*\"標準\" + 0.011*\".NET\" + 0.009*\"レベル\" + 0.008*\"デバッグ\" + 0.008*\"promise\" + 0.008*\"C#\" + 0.008*\"コンソール\"\n",
      "topic #21 (0.017): 0.056*\"モジュール\" + 0.038*\"typescript\" + 0.019*\"import\" + 0.017*\"LED\" + 0.017*\"TS\" + 0.016*\"webpack\" + 0.016*\"ES\" + 0.016*\"module\" + 0.011*\"JS\" + 0.011*\"制御\"\n",
      "topic #19 (0.017): 0.059*\"開発\" + 0.053*\"作者\" + 0.030*\"言語\" + 0.024*\"ツール\" + 0.023*\"管理\" + 0.022*\"プロジェクト\" + 0.015*\"angular\" + 0.012*\"日本語\" + 0.011*\"機能\" + 0.011*\"差分\"\n",
      "topic #52 (0.017): 0.011*\"エンジニア\" + 0.008*\"投稿\" + 0.008*\"公開\" + 0.008*\"プログラミング\" + 0.007*\"いい\" + 0.007*\"くれる\" + 0.006*\"勉強\" + 0.006*\"Qiita\" + 0.006*\"ん\" + 0.006*\"出来る\"\n",
      "topic #23 (0.017): 0.015*\"コメント\" + 0.011*\"書き方\" + 0.010*\"文字\" + 0.010*\"改行\" + 0.008*\"言語\" + 0.008*\"変数\" + 0.008*\"スペース\" + 0.008*\"ん\" + 0.008*\"問題\" + 0.007*\"いい\"\n",
      "topic diff=0.211094, rho=0.218218\n",
      "PROGRESS: pass 0, at document #44000/86748\n",
      "merging changes from 2000 documents into a model of 86748 documents\n",
      "topic #47 (0.017): 0.059*\"文字\" + 0.028*\"要素\" + 0.020*\"セル\" + 0.020*\"位置\" + 0.017*\"アニメーション\" + 0.015*\"幅\" + 0.015*\"色\" + 0.013*\"text\" + 0.011*\"シート\" + 0.011*\"テキスト\"\n",
      "topic #27 (0.017): 0.024*\"暗号\" + 0.023*\"データ\" + 0.021*\"署名\" + 0.020*\"バイト\" + 0.016*\"暗号化\" + 0.014*\"ハッシュ\" + 0.014*\"商品\" + 0.013*\"ハッシュ値\" + 0.013*\"生成\" + 0.012*\"方式\"\n",
      "topic #24 (0.017): 0.100*\"PHP\" + 0.057*\"RUBY\" + 0.035*\"rails\" + 0.030*\"gem\" + 0.028*\"bit\" + 0.019*\"RuBy\" + 0.017*\"Elasticsearch\" + 0.017*\"S2\" + 0.017*\"composer\" + 0.017*\"bundle\"\n",
      "topic #57 (0.017): 0.032*\"テンプレート\" + 0.029*\"lambda\" + 0.021*\"メッセージ\" + 0.020*\"ジョブ\" + 0.018*\"タスク\" + 0.016*\"Lambda\" + 0.015*\"関数\" + 0.015*\"キュー\" + 0.014*\"選択\" + 0.013*\"FLOW\"\n",
      "topic #59 (0.017): 0.021*\"例外\" + 0.018*\"terraform\" + 0.017*\"非同期\" + 0.016*\"発生\" + 0.015*\"THREAD\" + 0.014*\"Kotlin\" + 0.014*\"名前空間\" + 0.013*\"テスト\" + 0.011*\"呼び出す\" + 0.011*\"jupyter\"\n",
      "topic diff=0.194531, rho=0.213201\n",
      "PROGRESS: pass 0, at document #46000/86748\n",
      "merging changes from 2000 documents into a model of 86748 documents\n",
      "topic #52 (0.017): 0.013*\"エンジニア\" + 0.009*\"投稿\" + 0.008*\"プログラミング\" + 0.008*\"公開\" + 0.007*\"いい\" + 0.007*\"くれる\" + 0.006*\"Twitter\" + 0.006*\"勉強\" + 0.006*\"Qiita\" + 0.005*\"スライド\"\n",
      "topic #3 (0.017): 0.075*\"変換\" + 0.032*\"形式\" + 0.021*\"日付\" + 0.015*\"スタック\" + 0.014*\"フォーマット\" + 0.013*\"圧縮\" + 0.013*\"出力\" + 0.012*\"JSON\" + 0.010*\"フィルタ\" + 0.009*\"マッピング\"\n",
      "topic #58 (0.017): 0.060*\"TO\" + 0.058*\"AND\" + 0.034*\"IS\" + 0.021*\"ON\" + 0.017*\"YOU\" + 0.015*\"WITH\" + 0.013*\"BY\" + 0.012*\"It\" + 0.007*\"AN\" + 0.007*\"ING\"\n",
      "topic #55 (0.017): 0.065*\"配列\" + 0.057*\"要素\" + 0.037*\"リスト\" + 0.034*\"string\" + 0.022*\"値\" + 0.022*\"インデックス\" + 0.020*\"key\" + 0.016*\"list\" + 0.015*\"ソート\" + 0.013*\"int\"\n",
      "topic #20 (0.017): 0.048*\"ログイン\" + 0.039*\"パスワード\" + 0.030*\"rails\" + 0.028*\"認証\" + 0.027*\"user\" + 0.026*\"ユーザー\" + 0.017*\"アクション\" + 0.013*\"コントローラ\" + 0.012*\"ユーザ\" + 0.011*\"ルーティング\"\n",
      "topic diff=0.179274, rho=0.208514\n",
      "PROGRESS: pass 0, at document #48000/86748\n",
      "merging changes from 2000 documents into a model of 86748 documents\n",
      "topic #6 (0.017): 0.149*\"テスト\" + 0.027*\"SLACK\" + 0.020*\"test\" + 0.015*\"CI\" + 0.015*\"チェック\" + 0.010*\"自動\" + 0.009*\"対象\" + 0.008*\"YAML\" + 0.007*\"くれる\" + 0.007*\"定義\"\n",
      "topic #46 (0.017): 0.022*\"システム\" + 0.011*\"設計\" + 0.008*\"開発\" + 0.007*\"アプリケーション\" + 0.007*\"コスト\" + 0.006*\"実現\" + 0.006*\"提供\" + 0.006*\"アーキテクチャ\" + 0.006*\"機能\" + 0.005*\"考える\"\n",
      "topic #35 (0.017): 0.017*\"計算\" + 0.017*\"関数\" + 0.012*\"frac\" + 0.012*\"パラメータ\" + 0.012*\"分布\" + 0.012*\"ベクトル\" + 0.011*\"boldsymbol\" + 0.011*\"mathbf\" + 0.010*\"値\" + 0.010*\"theta\"\n",
      "topic #28 (0.017): 0.073*\"AWS\" + 0.035*\"インスタンス\" + 0.034*\"サービス\" + 0.022*\"EC2\" + 0.021*\"リソース\" + 0.015*\"Amazon\" + 0.014*\"CLOUD\" + 0.013*\"S3\" + 0.012*\"管理\" + 0.012*\"iam\"\n",
      "topic #3 (0.017): 0.075*\"変換\" + 0.033*\"形式\" + 0.021*\"日付\" + 0.015*\"圧縮\" + 0.014*\"出力\" + 0.014*\"フォーマット\" + 0.014*\"スタック\" + 0.012*\"JSON\" + 0.009*\"フィルタ\" + 0.009*\"文字列\"\n",
      "topic diff=0.173229, rho=0.204124\n",
      "PROGRESS: pass 0, at document #50000/86748\n",
      "merging changes from 2000 documents into a model of 86748 documents\n",
      "topic #5 (0.017): 0.038*\"ユーザー\" + 0.035*\"登録\" + 0.027*\"情報\" + 0.024*\"画面\" + 0.020*\"サービス\" + 0.016*\"機能\" + 0.016*\"取得\" + 0.015*\"管理\" + 0.015*\"id\" + 0.015*\"ユーザ\"\n",
      "topic #27 (0.017): 0.029*\"暗号\" + 0.026*\"暗号化\" + 0.022*\"署名\" + 0.021*\"データ\" + 0.020*\"バイト\" + 0.017*\"商品\" + 0.015*\"鍵\" + 0.015*\"生成\" + 0.014*\"方式\" + 0.014*\"ハッシュ\"\n",
      "topic #44 (0.017): 0.190*\"データ\" + 0.048*\"取得\" + 0.021*\"分析\" + 0.019*\"情報\" + 0.015*\"グラフ\" + 0.011*\"抽出\" + 0.010*\"クエリ\" + 0.009*\"CSV\" + 0.007*\"集計\" + 0.006*\"平均\"\n",
      "topic #13 (0.017): 0.120*\"クラス\" + 0.088*\"メソッド\" + 0.062*\"オブジェクト\" + 0.028*\"実装\" + 0.027*\"定義\" + 0.023*\"インスタンス\" + 0.020*\"プロパティ\" + 0.018*\"生成\" + 0.014*\"継承\" + 0.011*\"呼び出す\"\n",
      "topic #42 (0.017): 0.064*\"テーブル\" + 0.035*\"id\" + 0.025*\"削除\" + 0.022*\"レコード\" + 0.022*\"データ\" + 0.022*\"カラム\" + 0.021*\"SQL\" + 0.016*\"モデル\" + 0.014*\"データベース\" + 0.014*\"保存\"\n",
      "topic diff=0.162872, rho=0.200000\n",
      "PROGRESS: pass 0, at document #52000/86748\n",
      "merging changes from 2000 documents into a model of 86748 documents\n",
      "topic #58 (0.017): 0.061*\"TO\" + 0.052*\"AND\" + 0.036*\"IS\" + 0.019*\"ON\" + 0.015*\"YOU\" + 0.014*\"WITH\" + 0.013*\"BY\" + 0.012*\"It\" + 0.008*\"ING\" + 0.008*\"data\"\n",
      "topic #53 (0.017): 0.015*\"チーム\" + 0.009*\"考える\" + 0.009*\"行動\" + 0.008*\"メンバー\" + 0.008*\"作業\" + 0.008*\"プロダクト\" + 0.008*\"テスト\" + 0.007*\"課題\" + 0.007*\"価値\" + 0.007*\"レビュー\"\n",
      "topic #9 (0.017): 0.076*\"画像\" + 0.014*\"座標\" + 0.013*\"計算\" + 0.011*\"カメラ\" + 0.010*\"サイズ\" + 0.010*\"描画\" + 0.008*\"検出\" + 0.007*\"回転\" + 0.007*\"大きい\" + 0.007*\"速度\"\n"
     ]
    },
    {
     "name": "stderr",
     "output_type": "stream",
     "text": [
      "topic #3 (0.017): 0.081*\"変換\" + 0.032*\"形式\" + 0.019*\"日付\" + 0.018*\"JSON\" + 0.015*\"フォーマット\" + 0.014*\"出力\" + 0.013*\"圧縮\" + 0.012*\"スタック\" + 0.011*\"フィルタ\" + 0.010*\"文字列\"\n",
      "topic #50 (0.017): 0.092*\"コマンド\" + 0.037*\"起動\" + 0.029*\"コンテナ\" + 0.024*\"docker\" + 0.020*\"イメージ\" + 0.016*\"ディレクトリ\" + 0.012*\"Linux\" + 0.012*\"ターミナル\" + 0.011*\"オプション\" + 0.009*\"OS\"\n",
      "topic diff=0.157925, rho=0.196116\n",
      "PROGRESS: pass 0, at document #54000/86748\n",
      "merging changes from 2000 documents into a model of 86748 documents\n",
      "topic #51 (0.017): 0.058*\"プロセス\" + 0.053*\"a.\" + 0.032*\"flutter\" + 0.027*\"AND\" + 0.021*\"H.\" + 0.020*\"parameter\" + 0.018*\"命令\" + 0.018*\"widget\" + 0.013*\"セクション\" + 0.010*\"process\"\n",
      "topic #32 (0.017): 0.050*\"選択\" + 0.041*\"画面\" + 0.036*\"入力\" + 0.035*\"クリック\" + 0.035*\"ボタン\" + 0.027*\"押す\" + 0.020*\"キー\" + 0.019*\"開く\" + 0.013*\"編集\" + 0.013*\"タブ\"\n",
      "topic #35 (0.017): 0.017*\"関数\" + 0.017*\"theta\" + 0.016*\"計算\" + 0.016*\"boldsymbol\" + 0.015*\"frac\" + 0.013*\"パラメータ\" + 0.013*\"分布\" + 0.012*\"mathbf\" + 0.011*\"ベクトル\" + 0.010*\"値\"\n",
      "topic #52 (0.017): 0.011*\"エンジニア\" + 0.010*\"投稿\" + 0.008*\"公開\" + 0.008*\"プログラミング\" + 0.007*\"くれる\" + 0.007*\"いい\" + 0.007*\"Qiita\" + 0.006*\"テーマ\" + 0.006*\"Twitter\" + 0.006*\"勉強\"\n",
      "topic #56 (0.017): 0.051*\"接続\" + 0.047*\"サーバー\" + 0.029*\"ネットワーク\" + 0.026*\"IP\" + 0.023*\"ポート\" + 0.023*\"IPアドレス\" + 0.021*\"プラグイン\" + 0.016*\"通信\" + 0.013*\"アドレス\" + 0.011*\"ストリーム\"\n",
      "topic diff=0.145196, rho=0.192450\n",
      "PROGRESS: pass 0, at document #56000/86748\n",
      "merging changes from 2000 documents into a model of 86748 documents\n",
      "topic #25 (0.017): 0.085*\"アプリ\" + 0.028*\"ANDROID\" + 0.023*\"bot\" + 0.021*\"iOS\" + 0.019*\"LINE\" + 0.016*\"Xcode\" + 0.015*\"通知\" + 0.011*\"STEP\" + 0.010*\"画面\" + 0.010*\"メッセージ\"\n",
      "topic #29 (0.017): 0.017*\"mathrm\" + 0.014*\"計算\" + 0.013*\"状態\" + 0.011*\"回路\" + 0.011*\"ゲート\" + 0.010*\"量子\" + 0.009*\"シミュレーション\" + 0.008*\"量子ビット\" + 0.008*\"量子コンピュータ\" + 0.008*\"QUANTUM\"\n",
      "topic #3 (0.017): 0.090*\"変換\" + 0.033*\"形式\" + 0.020*\"JSON\" + 0.019*\"日付\" + 0.015*\"フォーマット\" + 0.013*\"出力\" + 0.012*\"圧縮\" + 0.012*\"date\" + 0.011*\"スタック\" + 0.011*\"フィルタ\"\n",
      "topic #32 (0.017): 0.052*\"選択\" + 0.040*\"画面\" + 0.037*\"クリック\" + 0.036*\"入力\" + 0.035*\"ボタン\" + 0.027*\"押す\" + 0.020*\"キー\" + 0.019*\"開く\" + 0.013*\"編集\" + 0.012*\"タブ\"\n",
      "topic #37 (0.017): 0.071*\"仮想\" + 0.058*\"map\" + 0.046*\"vagrant\" + 0.045*\"移行\" + 0.031*\"box\" + 0.030*\"仮想マシン\" + 0.028*\"VirtualBox\" + 0.019*\"ELIXIR\" + 0.017*\"スライス\" + 0.016*\"述語\"\n",
      "topic diff=0.128249, rho=0.188982\n",
      "PROGRESS: pass 0, at document #58000/86748\n",
      "merging changes from 2000 documents into a model of 86748 documents\n",
      "topic #47 (0.017): 0.049*\"文字\" + 0.034*\"要素\" + 0.022*\"セル\" + 0.020*\"色\" + 0.017*\"位置\" + 0.017*\"幅\" + 0.017*\"テキスト\" + 0.017*\"エクセル\" + 0.016*\"プロパティ\" + 0.015*\"シート\"\n",
      "topic #56 (0.017): 0.050*\"接続\" + 0.050*\"サーバー\" + 0.032*\"ネットワーク\" + 0.027*\"ポート\" + 0.025*\"IPアドレス\" + 0.025*\"IP\" + 0.019*\"プラグイン\" + 0.016*\"通信\" + 0.013*\"アドレス\" + 0.011*\"ストリーム\"\n",
      "topic #18 (0.017): 0.062*\"API\" + 0.039*\"リクエスト\" + 0.031*\"HTTP\" + 0.026*\"client\" + 0.019*\"送信\" + 0.017*\"サーバ\" + 0.016*\"レスポンス\" + 0.016*\"JSON\" + 0.015*\"取得\" + 0.014*\"通信\"\n",
      "topic #28 (0.017): 0.066*\"AWS\" + 0.044*\"インスタンス\" + 0.037*\"サービス\" + 0.023*\"リソース\" + 0.022*\"EC2\" + 0.019*\"CLOUD\" + 0.013*\"S3\" + 0.013*\"iam\" + 0.012*\"Amazon\" + 0.012*\"リージョン\"\n",
      "topic #19 (0.017): 0.075*\"開発\" + 0.035*\"言語\" + 0.033*\"ツール\" + 0.029*\"管理\" + 0.025*\"プロジェクト\" + 0.016*\"FRAMeWORK\" + 0.015*\"機能\" + 0.013*\"差分\" + 0.013*\"日本語\" + 0.012*\"native\"\n",
      "topic diff=0.125357, rho=0.185695\n",
      "-11.480 per-word bound, 2857.2 perplexity estimate based on a held-out corpus of 2000 documents with 331781 words\n",
      "PROGRESS: pass 0, at document #60000/86748\n",
      "merging changes from 2000 documents into a model of 86748 documents\n",
      "topic #56 (0.017): 0.050*\"接続\" + 0.050*\"サーバー\" + 0.033*\"ネットワーク\" + 0.027*\"ポート\" + 0.026*\"IPアドレス\" + 0.024*\"IP\" + 0.018*\"プラグイン\" + 0.018*\"通信\" + 0.013*\"アドレス\" + 0.011*\"ストリーム\"\n",
      "topic #4 (0.017): 0.063*\"モデル\" + 0.053*\"学習\" + 0.026*\"データ\" + 0.017*\"予測\" + 0.016*\"機械学習\" + 0.016*\"特徴\" + 0.016*\"分類\" + 0.014*\"精度\" + 0.011*\"GPU\" + 0.010*\"データセット\"\n",
      "topic #23 (0.017): 0.016*\"コメント\" + 0.015*\"文字\" + 0.011*\"書き方\" + 0.010*\"改行\" + 0.010*\"スペース\" + 0.009*\"文字列\" + 0.008*\"言語\" + 0.008*\"意味\" + 0.007*\"やすい\" + 0.007*\"つける\"\n",
      "topic #30 (0.017): 0.017*\"機能\" + 0.014*\"サポート\" + 0.013*\"サービス\" + 0.012*\"提供\" + 0.011*\"無料\" + 0.011*\"対応\" + 0.010*\"リリース\" + 0.010*\"可能\" + 0.010*\"CROWD\" + 0.007*\"Edge\"\n",
      "topic #20 (0.017): 0.047*\"ログイン\" + 0.040*\"パスワード\" + 0.028*\"user\" + 0.028*\"rails\" + 0.025*\"認証\" + 0.021*\"ユーザー\" + 0.016*\"アクション\" + 0.014*\"コントローラ\" + 0.013*\"ユーザ\" + 0.012*\"URL\"\n",
      "topic diff=0.117629, rho=0.182574\n",
      "PROGRESS: pass 0, at document #62000/86748\n",
      "merging changes from 2000 documents into a model of 86748 documents\n",
      "topic #52 (0.017): 0.011*\"投稿\" + 0.011*\"エンジニア\" + 0.008*\"公開\" + 0.007*\"Twitter\" + 0.007*\"Qiita\" + 0.007*\"くれる\" + 0.006*\"プログラミング\" + 0.006*\"いい\" + 0.006*\"仕事\" + 0.005*\"テーマ\"\n",
      "topic #43 (0.017): 0.045*\"デプロイ\" + 0.023*\"firebase\" + 0.023*\"CLOUD\" + 0.021*\"プロジェクト\" + 0.021*\"アカウント\" + 0.020*\"アップロード\" + 0.017*\"Heroku\" + 0.014*\"アプリ\" + 0.013*\"app\" + 0.012*\"選択\"\n",
      "topic #51 (0.017): 0.077*\"プロセス\" + 0.049*\"flutter\" + 0.043*\"a.\" + 0.022*\"命令\" + 0.022*\"AND\" + 0.018*\"widget\" + 0.014*\"parameter\" + 0.014*\"H.\" + 0.011*\"セクション\" + 0.011*\"dart\"\n",
      "topic #23 (0.017): 0.016*\"コメント\" + 0.015*\"文字\" + 0.012*\"改行\" + 0.011*\"書き方\" + 0.009*\"スペース\" + 0.009*\"文字列\" + 0.008*\"意味\" + 0.008*\"言語\" + 0.007*\"やすい\" + 0.007*\"つける\"\n",
      "topic #45 (0.017): 0.074*\"git\" + 0.060*\"GitHub\" + 0.054*\"ブランチ\" + 0.051*\"コミット\" + 0.049*\"リポジトリ\" + 0.026*\"PUSH\" + 0.021*\"master\" + 0.018*\"Clone\" + 0.017*\"コマンド\" + 0.017*\"マージ\"\n",
      "topic diff=0.107827, rho=0.179605\n",
      "PROGRESS: pass 0, at document #64000/86748\n",
      "merging changes from 2000 documents into a model of 86748 documents\n",
      "topic #39 (0.017): 0.081*\"プログラム\" + 0.028*\"ver\" + 0.021*\"文書\" + 0.018*\"解析\" + 0.018*\"python\" + 0.018*\"資料\" + 0.016*\"履歴\" + 0.015*\"記録\" + 0.014*\"document\" + 0.014*\"いいね\"\n",
      "topic #7 (0.017): 0.077*\"docker\" + 0.027*\"コンテナ\" + 0.020*\"compose\" + 0.019*\".S\" + 0.015*\"yml\" + 0.015*\"nginx\" + 0.014*\"起動\" + 0.012*\"config\" + 0.011*\"構築\" + 0.011*\"conf\"\n",
      "topic #22 (0.017): 0.064*\"動画\" + 0.053*\"単語\" + 0.029*\"再生\" + 0.016*\"再構成\" + 0.016*\"YouTube\" + 0.011*\"経路\" + 0.011*\"bi\" + 0.010*\"類似\" + 0.009*\"文章\" + 0.009*\"power\"\n",
      "topic #38 (0.017): 0.045*\"イベント\" + 0.043*\"状態\" + 0.026*\"ボタン\" + 0.025*\"state\" + 0.024*\"コンポーネント\" + 0.019*\"遷移\" + 0.018*\"実装\" + 0.018*\"画面\" + 0.017*\"更新\" + 0.016*\"UI\"\n",
      "topic #43 (0.017): 0.044*\"デプロイ\" + 0.025*\"firebase\" + 0.023*\"CLOUD\" + 0.021*\"プロジェクト\" + 0.021*\"アカウント\" + 0.019*\"アップロード\" + 0.018*\"Heroku\" + 0.014*\"アプリ\" + 0.013*\"app\" + 0.012*\"選択\"\n",
      "topic diff=0.101506, rho=0.176777\n",
      "PROGRESS: pass 0, at document #66000/86748\n",
      "merging changes from 2000 documents into a model of 86748 documents\n",
      "topic #7 (0.017): 0.076*\"docker\" + 0.028*\"コンテナ\" + 0.021*\"compose\" + 0.018*\".S\" + 0.015*\"起動\" + 0.015*\"nginx\" + 0.015*\"yml\" + 0.012*\"config\" + 0.011*\"構築\" + 0.010*\"ROS\"\n",
      "topic #23 (0.017): 0.018*\"コメント\" + 0.017*\"文字\" + 0.011*\"改行\" + 0.011*\"書き方\" + 0.010*\"スペース\" + 0.009*\"文字列\" + 0.008*\"意味\" + 0.007*\"言語\" + 0.007*\"やすい\" + 0.007*\"つける\"\n",
      "topic #44 (0.017): 0.208*\"データ\" + 0.046*\"取得\" + 0.021*\"分析\" + 0.019*\"情報\" + 0.016*\"グラフ\" + 0.011*\"CSV\" + 0.010*\"抽出\" + 0.009*\"集計\" + 0.006*\"クエリ\" + 0.006*\"可視化\"\n",
      "topic #28 (0.017): 0.073*\"AWS\" + 0.040*\"インスタンス\" + 0.039*\"サービス\" + 0.022*\"リソース\" + 0.021*\"EC2\" + 0.017*\"Amazon\" + 0.017*\"CLOUD\" + 0.015*\"S3\" + 0.014*\"iam\" + 0.011*\"アクセス\"\n",
      "topic #2 (0.017): 0.035*\"接続\" + 0.032*\"デバイス\" + 0.023*\"USB\" + 0.020*\"Arduino\" + 0.017*\"ボード\" + 0.017*\"Raspberry Pi\" + 0.017*\"tweet\" + 0.015*\"ESP\" + 0.014*\"プログラム\" + 0.014*\"電源\"\n",
      "topic diff=0.098754, rho=0.174078\n",
      "PROGRESS: pass 0, at document #68000/86748\n",
      "merging changes from 2000 documents into a model of 86748 documents\n",
      "topic #29 (0.017): 0.017*\"状態\" + 0.012*\"計算\" + 0.011*\"シミュレーション\" + 0.010*\"mathrm\" + 0.010*\"ロボット\" + 0.008*\"測定\" + 0.008*\"電子\" + 0.007*\"方向\" + 0.007*\"回路\" + 0.007*\"量子\"\n",
      "topic #27 (0.017): 0.029*\"商品\" + 0.026*\"署名\" + 0.025*\"バイト\" + 0.024*\"暗号\" + 0.020*\"暗号化\" + 0.019*\"鍵\" + 0.018*\"方式\" + 0.016*\"生成\" + 0.014*\"ハッシュ\" + 0.014*\"データ\"\n",
      "topic #12 (0.017): 0.184*\"python\" + 0.042*\"py\" + 0.024*\"Django\" + 0.019*\"pip\" + 0.014*\"プログラム\" + 0.013*\"txt\" + 0.012*\"anaconda\" + 0.010*\"OpenCV\" + 0.010*\"ライブラリ\" + 0.009*\"flask\"\n",
      "topic #21 (0.017): 0.080*\"モジュール\" + 0.038*\"typescript\" + 0.022*\"import\" + 0.022*\"TS\" + 0.019*\"module\" + 0.016*\"webpack\" + 0.015*\"LED\" + 0.015*\"2W\" + 0.013*\"ピン\" + 0.013*\"ES\"\n",
      "topic #42 (0.017): 0.066*\"テーブル\" + 0.034*\"id\" + 0.032*\"削除\" + 0.025*\"データ\" + 0.024*\"SQL\" + 0.022*\"レコード\" + 0.022*\"データベース\" + 0.021*\"カラム\" + 0.016*\"db\" + 0.016*\"更新\"\n",
      "topic diff=0.089824, rho=0.171499\n",
      "PROGRESS: pass 0, at document #70000/86748\n"
     ]
    },
    {
     "name": "stderr",
     "output_type": "stream",
     "text": [
      "merging changes from 2000 documents into a model of 86748 documents\n",
      "topic #30 (0.017): 0.019*\"サポート\" + 0.019*\"機能\" + 0.016*\"対応\" + 0.012*\"提供\" + 0.011*\"サービス\" + 0.010*\"可能\" + 0.010*\"リリース\" + 0.010*\"無料\" + 0.009*\"CROWD\" + 0.008*\"Edge\"\n",
      "topic #47 (0.017): 0.042*\"文字\" + 0.027*\"要素\" + 0.024*\"セル\" + 0.022*\"色\" + 0.020*\"エクセル\" + 0.018*\"PT\" + 0.017*\"位置\" + 0.016*\"テキスト\" + 0.016*\"text\" + 0.016*\"幅\"\n",
      "topic #39 (0.017): 0.090*\"いいね\" + 0.085*\"プログラム\" + 0.030*\"文書\" + 0.027*\"ver\" + 0.019*\"解析\" + 0.018*\"資料\" + 0.014*\"履歴\" + 0.014*\"python\" + 0.013*\"document\" + 0.013*\"selenium\"\n",
      "topic #27 (0.017): 0.033*\"商品\" + 0.028*\"署名\" + 0.024*\"暗号\" + 0.023*\"バイト\" + 0.020*\"暗号化\" + 0.020*\"鍵\" + 0.018*\"方式\" + 0.016*\"生成\" + 0.013*\"データ\" + 0.013*\"ハッシュ\"\n",
      "topic #45 (0.017): 0.075*\"git\" + 0.063*\"GitHub\" + 0.052*\"ブランチ\" + 0.049*\"リポジトリ\" + 0.049*\"コミット\" + 0.024*\"PUSH\" + 0.021*\"master\" + 0.018*\"Clone\" + 0.017*\"マージ\" + 0.016*\"コマンド\"\n",
      "topic diff=0.088487, rho=0.169031\n",
      "PROGRESS: pass 0, at document #72000/86748\n",
      "merging changes from 2000 documents into a model of 86748 documents\n",
      "topic #56 (0.017): 0.056*\"接続\" + 0.046*\"サーバー\" + 0.035*\"ネットワーク\" + 0.029*\"ポート\" + 0.025*\"IPアドレス\" + 0.024*\"IP\" + 0.020*\"通信\" + 0.016*\"番号\" + 0.012*\"プラグイン\" + 0.012*\"アドレス\"\n",
      "topic #34 (0.017): 0.041*\"AZURE\" + 0.040*\"SSH\" + 0.037*\"サーバ\" + 0.034*\"ドメイン\" + 0.021*\"key\" + 0.019*\"証明書\" + 0.019*\"接続\" + 0.018*\"アクセス\" + 0.016*\"認証\" + 0.016*\"鍵\"\n",
      "topic #28 (0.017): 0.072*\"AWS\" + 0.042*\"サービス\" + 0.037*\"インスタンス\" + 0.023*\"リソース\" + 0.021*\"EC2\" + 0.017*\"Amazon\" + 0.016*\"S3\" + 0.016*\"iam\" + 0.015*\"CLOUD\" + 0.012*\"service\"\n",
      "topic #21 (0.017): 0.083*\"モジュール\" + 0.042*\"typescript\" + 0.023*\"TS\" + 0.023*\"import\" + 0.017*\"module\" + 0.017*\"webpack\" + 0.017*\"LED\" + 0.014*\"ピン\" + 0.013*\"ES\" + 0.012*\"IE\"\n",
      "topic #45 (0.017): 0.075*\"git\" + 0.064*\"GitHub\" + 0.051*\"コミット\" + 0.049*\"ブランチ\" + 0.048*\"リポジトリ\" + 0.025*\"PUSH\" + 0.020*\"master\" + 0.018*\"Clone\" + 0.018*\"マージ\" + 0.016*\"コマンド\"\n",
      "topic diff=0.087740, rho=0.166667\n",
      "PROGRESS: pass 0, at document #74000/86748\n",
      "merging changes from 2000 documents into a model of 86748 documents\n",
      "topic #32 (0.017): 0.060*\"選択\" + 0.047*\"クリック\" + 0.044*\"画面\" + 0.036*\"入力\" + 0.035*\"ボタン\" + 0.029*\"押す\" + 0.021*\"キー\" + 0.020*\"開く\" + 0.014*\"操作\" + 0.012*\"メニュー\"\n",
      "topic #58 (0.017): 0.068*\"TO\" + 0.046*\"AND\" + 0.035*\"IS\" + 0.019*\"ON\" + 0.018*\"YOU\" + 0.014*\"WITH\" + 0.013*\"BY\" + 0.012*\"It\" + 0.008*\"WILL\" + 0.008*\"ING\"\n",
      "topic #21 (0.017): 0.081*\"モジュール\" + 0.043*\"typescript\" + 0.023*\"TS\" + 0.022*\"import\" + 0.018*\"LED\" + 0.018*\"module\" + 0.016*\"ピン\" + 0.016*\"webpack\" + 0.015*\"V2\" + 0.014*\"gpio\"\n",
      "topic #31 (0.017): 0.019*\"理解\" + 0.015*\"勉強\" + 0.013*\"問題\" + 0.013*\"知識\" + 0.012*\"学習\" + 0.012*\"試験\" + 0.011*\"読む\" + 0.011*\"学ぶ\" + 0.010*\"内容\" + 0.010*\"本\"\n",
      "topic #53 (0.017): 0.016*\"チーム\" + 0.010*\"作業\" + 0.010*\"レビュー\" + 0.009*\"考える\" + 0.009*\"課題\" + 0.008*\"メンバー\" + 0.007*\"プロダクト\" + 0.007*\"行動\" + 0.006*\"組織\" + 0.006*\"改善\"\n",
      "topic diff=0.085253, rho=0.164399\n",
      "PROGRESS: pass 0, at document #76000/86748\n",
      "merging changes from 2000 documents into a model of 86748 documents\n",
      "topic #39 (0.017): 0.101*\"プログラム\" + 0.063*\"いいね\" + 0.031*\"文書\" + 0.029*\"解析\" + 0.027*\"ver\" + 0.020*\"資料\" + 0.014*\"記録\" + 0.014*\"document\" + 0.013*\"python\" + 0.012*\"辞書\"\n",
      "topic #19 (0.017): 0.083*\"開発\" + 0.038*\"ツール\" + 0.038*\"言語\" + 0.031*\"管理\" + 0.025*\"プロジェクト\" + 0.019*\"機能\" + 0.018*\"FRAMeWORK\" + 0.013*\"日本語\" + 0.011*\"アプリケーション\" + 0.011*\"native\"\n",
      "topic #47 (0.017): 0.042*\"文字\" + 0.026*\"セル\" + 0.026*\"要素\" + 0.021*\"色\" + 0.020*\"エクセル\" + 0.019*\"text\" + 0.018*\"幅\" + 0.018*\"テキスト\" + 0.017*\"位置\" + 0.015*\"PX\"\n",
      "topic #41 (0.017): 0.046*\"JS\" + 0.036*\"HTML\" + 0.027*\"CSS\" + 0.027*\"タグ\" + 0.025*\"Vue\" + 0.024*\"JavaScript\" + 0.022*\"コンポーネント\" + 0.020*\"Re・Act\" + 0.012*\"要素\" + 0.011*\"記述\"\n",
      "topic #37 (0.017): 0.092*\"仮想\" + 0.043*\"移行\" + 0.042*\"仮想マシン\" + 0.040*\"map\" + 0.039*\"vagrant\" + 0.036*\"VirtualBox\" + 0.036*\"box\" + 0.028*\"kintone\" + 0.028*\"ELIXIR\" + 0.020*\"VM\"\n",
      "topic diff=0.077997, rho=0.162221\n",
      "PROGRESS: pass 0, at document #78000/86748\n",
      "merging changes from 2000 documents into a model of 86748 documents\n",
      "topic #47 (0.017): 0.039*\"文字\" + 0.027*\"要素\" + 0.027*\"セル\" + 0.021*\"色\" + 0.020*\"エクセル\" + 0.020*\"幅\" + 0.019*\"text\" + 0.018*\"テキスト\" + 0.018*\"位置\" + 0.015*\"アニメーション\"\n",
      "topic #25 (0.017): 0.105*\"アプリ\" + 0.033*\"ANDROID\" + 0.022*\"bot\" + 0.022*\"iOS\" + 0.021*\"Xcode\" + 0.019*\"LINE\" + 0.012*\"画面\" + 0.011*\"app\" + 0.010*\"Apple\" + 0.010*\"STEP\"\n",
      "topic #27 (0.017): 0.029*\"暗号\" + 0.029*\"商品\" + 0.025*\"バイト\" + 0.024*\"署名\" + 0.022*\"暗号化\" + 0.020*\"方式\" + 0.020*\"鍵\" + 0.016*\"生成\" + 0.012*\"ハッシュ\" + 0.012*\"データ\"\n",
      "topic #54 (0.017): 0.033*\"windows\" + 0.032*\"ダウンロード\" + 0.023*\"起動\" + 0.022*\"Folder\" + 0.020*\"開く\" + 0.017*\"選択\" + 0.016*\"UNITY\" + 0.012*\"手順\" + 0.011*\"VSCode\" + 0.011*\"クリック\"\n",
      "topic #30 (0.017): 0.020*\"機能\" + 0.019*\"サポート\" + 0.016*\"対応\" + 0.012*\"提供\" + 0.011*\"サービス\" + 0.010*\"可能\" + 0.010*\"リリース\" + 0.010*\"無料\" + 0.009*\"CROWD\" + 0.007*\"アップデート\"\n",
      "topic diff=0.076526, rho=0.160128\n",
      "-11.606 per-word bound, 3117.4 perplexity estimate based on a held-out corpus of 2000 documents with 338404 words\n",
      "PROGRESS: pass 0, at document #80000/86748\n",
      "merging changes from 2000 documents into a model of 86748 documents\n",
      "topic #32 (0.017): 0.059*\"選択\" + 0.047*\"クリック\" + 0.046*\"画面\" + 0.037*\"入力\" + 0.035*\"ボタン\" + 0.029*\"押す\" + 0.021*\"開く\" + 0.020*\"キー\" + 0.014*\"操作\" + 0.013*\"タブ\"\n",
      "topic #37 (0.017): 0.100*\"仮想\" + 0.051*\"移行\" + 0.045*\"仮想マシン\" + 0.038*\"map\" + 0.037*\"box\" + 0.037*\"VirtualBox\" + 0.037*\"vagrant\" + 0.033*\"kintone\" + 0.024*\"ELIXIR\" + 0.020*\"VM\"\n",
      "topic #57 (0.017): 0.042*\"メッセージ\" + 0.038*\"タスク\" + 0.034*\"テンプレート\" + 0.026*\"lambda\" + 0.023*\"ジョブ\" + 0.018*\"通知\" + 0.017*\"トリガー\" + 0.014*\"カスタム\" + 0.014*\"関数\" + 0.013*\"Lambda\"\n",
      "topic #8 (0.017): 0.053*\"ページ\" + 0.045*\"検索\" + 0.038*\"サイト\" + 0.032*\"URL\" + 0.025*\"メール\" + 0.022*\"リンク\" + 0.017*\"取得\" + 0.016*\"chrome\" + 0.014*\"情報\" + 0.013*\"送信\"\n",
      "topic #35 (0.017): 0.018*\"計算\" + 0.016*\"関数\" + 0.013*\"ベクトル\" + 0.013*\"frac\" + 0.012*\"用いる\" + 0.011*\"分布\" + 0.011*\"theta\" + 0.011*\"パラメータ\" + 0.011*\"求める\" + 0.011*\"boldsymbol\"\n",
      "topic diff=0.073183, rho=0.158114\n",
      "PROGRESS: pass 0, at document #82000/86748\n",
      "merging changes from 2000 documents into a model of 86748 documents\n",
      "topic #52 (0.017): 0.014*\"投稿\" + 0.011*\"エンジニア\" + 0.009*\"Qiita\" + 0.009*\"Twitter\" + 0.007*\"公開\" + 0.007*\"くれる\" + 0.007*\"テーマ\" + 0.006*\"いただく\" + 0.006*\"参加\" + 0.006*\"プログラミング\"\n",
      "topic #13 (0.017): 0.118*\"クラス\" + 0.091*\"メソッド\" + 0.064*\"オブジェクト\" + 0.035*\"実装\" + 0.027*\"インスタンス\" + 0.027*\"定義\" + 0.022*\"生成\" + 0.018*\"プロパティ\" + 0.015*\"継承\" + 0.011*\"呼び出す\"\n",
      "topic #35 (0.017): 0.018*\"計算\" + 0.016*\"関数\" + 0.013*\"frac\" + 0.012*\"用いる\" + 0.012*\"ベクトル\" + 0.012*\"分布\" + 0.011*\"求める\" + 0.011*\"パラメータ\" + 0.011*\"boldsymbol\" + 0.011*\"行列\"\n",
      "topic #53 (0.017): 0.017*\"チーム\" + 0.010*\"作業\" + 0.010*\"課題\" + 0.010*\"メンバー\" + 0.009*\"プロダクト\" + 0.009*\"考える\" + 0.009*\"レビュー\" + 0.007*\"プロジェクト\" + 0.007*\"組織\" + 0.006*\"改善\"\n",
      "topic #51 (0.017): 0.090*\"プロセス\" + 0.059*\"flutter\" + 0.035*\"a.\" + 0.032*\"widget\" + 0.031*\"命令\" + 0.016*\"dart\" + 0.015*\"AND\" + 0.014*\"H.\" + 0.013*\"process\" + 0.012*\"セクション\"\n",
      "topic diff=0.068758, rho=0.156174\n",
      "PROGRESS: pass 0, at document #84000/86748\n",
      "merging changes from 2000 documents into a model of 86748 documents\n",
      "topic #17 (0.017): 0.089*\"ノード\" + 0.035*\"node\" + 0.025*\"トランザクション\" + 0.012*\"red\" + 0.009*\"音声\" + 0.009*\"data\" + 0.009*\"max\" + 0.009*\"E1\" + 0.008*\"F8\" + 0.007*\"FF\"\n",
      "topic #59 (0.017): 0.034*\"例外\" + 0.031*\"THREAD\" + 0.029*\"非同期\" + 0.017*\"Kotlin\" + 0.017*\"発生\" + 0.016*\"同期\" + 0.014*\"terraform\" + 0.013*\"名前空間\" + 0.012*\"コールバック\" + 0.012*\"コンテキスト\"\n",
      "topic #30 (0.017): 0.020*\"機能\" + 0.017*\"サポート\" + 0.017*\"対応\" + 0.013*\"提供\" + 0.012*\"サービス\" + 0.010*\"可能\" + 0.010*\"リリース\" + 0.010*\"無料\" + 0.010*\"CROWD\" + 0.007*\"アップデート\"\n",
      "topic #21 (0.017): 0.094*\"モジュール\" + 0.044*\"typescript\" + 0.024*\"import\" + 0.024*\"TS\" + 0.018*\"LED\" + 0.017*\"module\" + 0.017*\"ピン\" + 0.016*\"webpack\" + 0.015*\"ES\" + 0.013*\"V2\"\n",
      "topic #14 (0.017): 0.083*\"エラー\" + 0.026*\"MySQL\" + 0.022*\"発生\" + 0.021*\"解決\" + 0.020*\"原因\" + 0.019*\"問題\" + 0.019*\"db\" + 0.017*\"laravel\" + 0.013*\"バージョン\" + 0.012*\"データベース\"\n",
      "topic diff=0.066308, rho=0.154303\n",
      "PROGRESS: pass 0, at document #86000/86748\n",
      "merging changes from 2000 documents into a model of 86748 documents\n",
      "topic #28 (0.017): 0.074*\"AWS\" + 0.040*\"サービス\" + 0.036*\"インスタンス\" + 0.026*\"リソース\" + 0.024*\"EC2\" + 0.017*\"Amazon\" + 0.017*\"S3\" + 0.015*\"iam\" + 0.015*\"ポリシー\" + 0.013*\"CLOUD\"\n",
      "topic #23 (0.017): 0.034*\"文字\" + 0.016*\"コメント\" + 0.012*\"書き方\" + 0.012*\"文字列\" + 0.011*\"スペース\" + 0.011*\"改行\" + 0.011*\"意味\" + 0.007*\"数字\" + 0.007*\"やすい\" + 0.007*\"大文字\"\n",
      "topic #11 (0.017): 0.051*\"()\" + 0.048*\"文字列\" + 0.046*\"引数\" + 0.031*\"値\" + 0.027*\"メソッド\" + 0.026*\"返す\" + 0.023*\"渡す\" + 0.018*\"関数\" + 0.016*\"取得\" + 0.016*\"入力\"\n"
     ]
    },
    {
     "name": "stderr",
     "output_type": "stream",
     "text": [
      "topic #53 (0.017): 0.017*\"チーム\" + 0.010*\"作業\" + 0.010*\"メンバー\" + 0.010*\"課題\" + 0.010*\"プロダクト\" + 0.009*\"考える\" + 0.008*\"レビュー\" + 0.007*\"組織\" + 0.007*\"プロジェクト\" + 0.006*\"開発\"\n",
      "topic #5 (0.017): 0.041*\"ユーザー\" + 0.039*\"登録\" + 0.035*\"情報\" + 0.023*\"ユーザ\" + 0.021*\"サービス\" + 0.018*\"アカウント\" + 0.018*\"取得\" + 0.017*\"管理\" + 0.016*\"機能\" + 0.016*\"id\"\n",
      "topic diff=0.064472, rho=0.152499\n",
      "-11.496 per-word bound, 2889.1 perplexity estimate based on a held-out corpus of 748 documents with 129006 words\n",
      "PROGRESS: pass 0, at document #86748/86748\n",
      "merging changes from 748 documents into a model of 86748 documents\n",
      "topic #39 (0.017): 0.139*\"プログラム\" + 0.046*\"いいね\" + 0.030*\"解析\" + 0.028*\"文書\" + 0.025*\"selenium\" + 0.021*\"ver\" + 0.018*\"資料\" + 0.018*\"辞書\" + 0.014*\"記録\" + 0.014*\"document\"\n",
      "topic #27 (0.017): 0.037*\"暗号\" + 0.029*\"暗号化\" + 0.025*\"バイト\" + 0.024*\"署名\" + 0.024*\"商品\" + 0.024*\"株式会社\" + 0.023*\"方式\" + 0.023*\"鍵\" + 0.019*\"ハッシュ\" + 0.017*\"ハッシュ値\"\n",
      "topic #57 (0.017): 0.041*\"タスク\" + 0.040*\"メッセージ\" + 0.033*\"テンプレート\" + 0.028*\"lambda\" + 0.023*\"通知\" + 0.018*\"ジョブ\" + 0.016*\"トリガー\" + 0.014*\"関数\" + 0.014*\"カスタム\" + 0.013*\"Lambda\"\n",
      "topic #8 (0.017): 0.052*\"ページ\" + 0.047*\"検索\" + 0.038*\"サイト\" + 0.033*\"URL\" + 0.025*\"メール\" + 0.022*\"リンク\" + 0.017*\"取得\" + 0.017*\"chrome\" + 0.014*\"情報\" + 0.013*\"送信\"\n",
      "topic #24 (0.017): 0.163*\"PHP\" + 0.071*\"RUBY\" + 0.067*\"rails\" + 0.036*\"gem\" + 0.027*\"RuBy\" + 0.025*\"bit\" + 0.021*\"composer\" + 0.019*\"bundle\" + 0.018*\"バージョン\" + 0.017*\"Elasticsearch\"\n",
      "topic diff=0.072119, rho=0.150756\n",
      "PROGRESS: pass 1, at document #2000/86748\n",
      "merging changes from 2000 documents into a model of 86748 documents\n",
      "topic #50 (0.017): 0.108*\"コマンド\" + 0.043*\"起動\" + 0.019*\"ディレクトリ\" + 0.019*\"イメージ\" + 0.018*\"コンテナ\" + 0.016*\"Linux\" + 0.015*\"オプション\" + 0.013*\"OS\" + 0.012*\"ターミナル\" + 0.011*\"docker\"\n",
      "topic #14 (0.017): 0.081*\"エラー\" + 0.026*\"MySQL\" + 0.022*\"発生\" + 0.022*\"原因\" + 0.021*\"解決\" + 0.019*\"問題\" + 0.019*\"db\" + 0.017*\"laravel\" + 0.014*\"バージョン\" + 0.012*\"データベース\"\n",
      "topic #57 (0.017): 0.039*\"メッセージ\" + 0.038*\"タスク\" + 0.032*\"テンプレート\" + 0.027*\"lambda\" + 0.024*\"通知\" + 0.018*\"ジョブ\" + 0.016*\"トリガー\" + 0.014*\"Lambda\" + 0.014*\"関数\" + 0.014*\"フロー\"\n",
      "topic #42 (0.017): 0.066*\"テーブル\" + 0.034*\"id\" + 0.029*\"SQL\" + 0.027*\"削除\" + 0.026*\"データ\" + 0.026*\"データベース\" + 0.022*\"レコード\" + 0.022*\"カラム\" + 0.021*\"db\" + 0.014*\"クエリ\"\n",
      "topic #39 (0.017): 0.134*\"プログラム\" + 0.040*\"いいね\" + 0.028*\"解析\" + 0.026*\"文書\" + 0.026*\"ver\" + 0.020*\"selenium\" + 0.017*\"資料\" + 0.016*\"辞書\" + 0.014*\"記録\" + 0.014*\"document\"\n",
      "topic diff=0.070607, rho=0.148456\n",
      "PROGRESS: pass 1, at document #4000/86748\n",
      "merging changes from 2000 documents into a model of 86748 documents\n",
      "topic #11 (0.017): 0.054*\"()\" + 0.047*\"引数\" + 0.045*\"文字列\" + 0.031*\"値\" + 0.027*\"メソッド\" + 0.026*\"返す\" + 0.022*\"渡す\" + 0.018*\"関数\" + 0.018*\"取得\" + 0.017*\"TRUE\"\n",
      "topic #29 (0.017): 0.020*\"状態\" + 0.016*\"ロボット\" + 0.012*\"計算\" + 0.011*\"図\" + 0.010*\"量子\" + 0.009*\"ゲート\" + 0.008*\"シミュレーション\" + 0.008*\"測定\" + 0.007*\"表現\" + 0.007*\"呼ぶ\"\n",
      "topic #20 (0.017): 0.048*\"ログイン\" + 0.034*\"ユーザー\" + 0.034*\"user\" + 0.031*\"パスワード\" + 0.021*\"認証\" + 0.017*\"rails\" + 0.014*\"アクション\" + 0.013*\"ページ\" + 0.013*\"実装\" + 0.012*\"機能\"\n",
      "topic #26 (0.017): 0.056*\"Kubernetes\" + 0.036*\"pod\" + 0.035*\"修正\" + 0.031*\"クラスタ\" + 0.015*\"cluster\" + 0.014*\"()\" + 0.013*\"削除\" + 0.012*\"FLAG\" + 0.012*\"namespace\" + 0.011*\"context\"\n",
      "topic #28 (0.017): 0.080*\"AWS\" + 0.044*\"サービス\" + 0.034*\"インスタンス\" + 0.026*\"リソース\" + 0.021*\"EC2\" + 0.017*\"S3\" + 0.016*\"Amazon\" + 0.016*\"CLOUD\" + 0.014*\"iam\" + 0.014*\"ポリシー\"\n",
      "topic diff=0.059274, rho=0.148456\n",
      "PROGRESS: pass 1, at document #6000/86748\n",
      "merging changes from 2000 documents into a model of 86748 documents\n",
      "topic #56 (0.017): 0.060*\"接続\" + 0.044*\"サーバー\" + 0.041*\"ネットワーク\" + 0.032*\"ポート\" + 0.025*\"IPアドレス\" + 0.025*\"IP\" + 0.021*\"通信\" + 0.016*\"アドレス\" + 0.015*\"ホスト\" + 0.014*\"番号\"\n",
      "topic #21 (0.017): 0.092*\"モジュール\" + 0.041*\"typescript\" + 0.023*\"TS\" + 0.023*\"import\" + 0.020*\"ES\" + 0.020*\"module\" + 0.019*\"webpack\" + 0.017*\"ピン\" + 0.014*\"babel\" + 0.013*\"LED\"\n",
      "topic #28 (0.017): 0.080*\"AWS\" + 0.044*\"サービス\" + 0.035*\"インスタンス\" + 0.025*\"リソース\" + 0.021*\"EC2\" + 0.019*\"S3\" + 0.017*\"CLOUD\" + 0.017*\"Amazon\" + 0.014*\"iam\" + 0.014*\"service\"\n",
      "topic #55 (0.017): 0.077*\"配列\" + 0.064*\"要素\" + 0.048*\"リスト\" + 0.023*\"値\" + 0.022*\"インデックス\" + 0.016*\"ソート\" + 0.016*\"array\" + 0.015*\"list\" + 0.015*\"string\" + 0.014*\"int\"\n",
      "topic #22 (0.017): 0.068*\"動画\" + 0.061*\"単語\" + 0.033*\"再生\" + 0.021*\"音声\" + 0.019*\"YouTube\" + 0.018*\"文章\" + 0.016*\"MeCab\" + 0.015*\"power\" + 0.011*\"bi\" + 0.011*\"類似\"\n",
      "topic diff=0.057402, rho=0.148456\n",
      "PROGRESS: pass 1, at document #8000/86748\n",
      "merging changes from 2000 documents into a model of 86748 documents\n",
      "topic #48 (0.017): 0.044*\"計算\" + 0.038*\"問題\" + 0.017*\"値\" + 0.017*\"条件\" + 0.015*\"求める\" + 0.012*\"考える\" + 0.012*\"数値\" + 0.011*\"最大\" + 0.010*\"解く\" + 0.010*\"表す\"\n",
      "topic #11 (0.017): 0.054*\"()\" + 0.048*\"引数\" + 0.045*\"文字列\" + 0.031*\"値\" + 0.026*\"メソッド\" + 0.026*\"返す\" + 0.023*\"渡す\" + 0.018*\"関数\" + 0.018*\"取得\" + 0.016*\"TRUE\"\n",
      "topic #21 (0.017): 0.090*\"モジュール\" + 0.039*\"typescript\" + 0.022*\"TS\" + 0.021*\"import\" + 0.020*\"webpack\" + 0.020*\"ES\" + 0.019*\"module\" + 0.016*\"ピン\" + 0.013*\"babel\" + 0.012*\"LED\"\n",
      "topic #34 (0.017): 0.044*\"サーバ\" + 0.040*\"SSH\" + 0.037*\"AZURE\" + 0.032*\"ドメイン\" + 0.022*\"証明書\" + 0.021*\"認証\" + 0.020*\"接続\" + 0.017*\"アクセス\" + 0.015*\"key\" + 0.015*\"SSL\"\n",
      "topic #6 (0.017): 0.216*\"テスト\" + 0.033*\"SLACK\" + 0.027*\"test\" + 0.019*\"CI\" + 0.015*\"チェック\" + 0.015*\"自動\" + 0.010*\"検証\" + 0.010*\"対象\" + 0.009*\"失敗\" + 0.008*\"修正\"\n",
      "topic diff=0.054647, rho=0.148456\n",
      "PROGRESS: pass 1, at document #10000/86748\n",
      "merging changes from 2000 documents into a model of 86748 documents\n",
      "topic #23 (0.017): 0.037*\"文字\" + 0.016*\"コメント\" + 0.012*\"文字列\" + 0.012*\"書き方\" + 0.011*\"改行\" + 0.010*\"意味\" + 0.010*\"スペース\" + 0.008*\"数字\" + 0.007*\"やすい\" + 0.007*\"表記\"\n",
      "topic #26 (0.017): 0.064*\"Kubernetes\" + 0.039*\"pod\" + 0.037*\"修正\" + 0.032*\"クラスタ\" + 0.015*\"()\" + 0.014*\"cluster\" + 0.014*\"削除\" + 0.012*\"namespace\" + 0.012*\"access\" + 0.011*\"context\"\n",
      "topic #52 (0.017): 0.015*\"投稿\" + 0.012*\"エンジニア\" + 0.011*\"Twitter\" + 0.009*\"Qiita\" + 0.007*\"参加\" + 0.006*\"くれる\" + 0.006*\"公開\" + 0.006*\"いただく\" + 0.006*\"デザイン\" + 0.006*\"いい\"\n",
      "topic #16 (0.017): 0.036*\"メモリ\" + 0.025*\"cpu\" + 0.018*\"サイズ\" + 0.014*\"キャッシュ\" + 0.013*\"ブロック\" + 0.013*\"領域\" + 0.012*\"容量\" + 0.012*\"OS\" + 0.011*\"ディスク\" + 0.011*\"バックアップ\"\n",
      "topic #49 (0.017): 0.024*\"ん\" + 0.022*\"いい\" + 0.016*\"言う\" + 0.011*\"くれる\" + 0.011*\"いう\" + 0.010*\"しれる\" + 0.010*\"読む\" + 0.010*\"分かる\" + 0.009*\"動く\" + 0.008*\"調べる\"\n",
      "topic diff=0.052798, rho=0.148456\n",
      "PROGRESS: pass 1, at document #12000/86748\n",
      "merging changes from 2000 documents into a model of 86748 documents\n",
      "topic #27 (0.017): 0.036*\"暗号\" + 0.028*\"署名\" + 0.026*\"暗号化\" + 0.025*\"鍵\" + 0.024*\"バイト\" + 0.024*\"方式\" + 0.022*\"商品\" + 0.021*\"生成\" + 0.017*\"ハッシュ\" + 0.013*\"ハッシュ値\"\n",
      "topic #21 (0.017): 0.090*\"モジュール\" + 0.036*\"typescript\" + 0.021*\"module\" + 0.021*\"import\" + 0.020*\"webpack\" + 0.020*\"ES\" + 0.019*\"TS\" + 0.017*\"ピン\" + 0.011*\"babel\" + 0.011*\"モード\"\n",
      "topic #52 (0.017): 0.015*\"投稿\" + 0.012*\"エンジニア\" + 0.011*\"Twitter\" + 0.009*\"Qiita\" + 0.007*\"参加\" + 0.007*\"公開\" + 0.006*\"くれる\" + 0.006*\"いただく\" + 0.006*\"プログラミング\" + 0.006*\"デザイン\"\n",
      "topic #45 (0.017): 0.087*\"git\" + 0.074*\"GitHub\" + 0.059*\"リポジトリ\" + 0.042*\"ブランチ\" + 0.036*\"コミット\" + 0.027*\"PUSH\" + 0.020*\"Clone\" + 0.018*\"master\" + 0.015*\"作業\" + 0.015*\"ローカル\"\n",
      "topic #33 (0.017): 0.186*\"出力\" + 0.107*\"ログ\" + 0.025*\"log\" + 0.023*\"標準\" + 0.017*\"監視\" + 0.015*\"レベル\" + 0.015*\"デバッグ\" + 0.012*\"C#\" + 0.011*\"コンソール\" + 0.009*\".NET\"\n",
      "topic diff=0.055848, rho=0.148456\n",
      "PROGRESS: pass 1, at document #14000/86748\n",
      "merging changes from 2000 documents into a model of 86748 documents\n",
      "topic #7 (0.017): 0.094*\"docker\" + 0.047*\"コンテナ\" + 0.021*\"起動\" + 0.018*\"compose\" + 0.018*\"イメージ\" + 0.018*\"nginx\" + 0.012*\"server\" + 0.012*\"yml\" + 0.012*\"ETC\" + 0.011*\"構築\"\n",
      "topic #33 (0.017): 0.189*\"出力\" + 0.105*\"ログ\" + 0.027*\"log\" + 0.026*\"標準\" + 0.016*\"監視\" + 0.015*\"デバッグ\" + 0.014*\"レベル\" + 0.012*\"コンソール\" + 0.011*\"C#\" + 0.009*\".NET\"\n",
      "topic #58 (0.017): 0.061*\"TO\" + 0.044*\"AND\" + 0.034*\"IS\" + 0.020*\"ON\" + 0.016*\"BY\" + 0.016*\"YOU\" + 0.015*\"WITH\" + 0.012*\"It\" + 0.008*\"ING\" + 0.007*\"AN\"\n",
      "topic #21 (0.017): 0.090*\"モジュール\" + 0.033*\"typescript\" + 0.021*\"import\" + 0.021*\"module\" + 0.020*\"webpack\" + 0.020*\"ES\" + 0.019*\"TS\" + 0.016*\"ピン\" + 0.011*\"babel\" + 0.011*\"動作\"\n",
      "topic #32 (0.017): 0.060*\"選択\" + 0.051*\"クリック\" + 0.047*\"画面\" + 0.039*\"ボタン\" + 0.038*\"入力\" + 0.031*\"押す\" + 0.022*\"開く\" + 0.021*\"キー\" + 0.014*\"タブ\" + 0.013*\"メニュー\"\n",
      "topic diff=0.053218, rho=0.148456\n",
      "PROGRESS: pass 1, at document #16000/86748\n",
      "merging changes from 2000 documents into a model of 86748 documents\n"
     ]
    },
    {
     "name": "stderr",
     "output_type": "stream",
     "text": [
      "topic #0 (0.017): 0.062*\"C++\" + 0.062*\"コンパイル\" + 0.044*\"spring\" + 0.042*\"java\" + 0.027*\"main\" + 0.026*\"BOOT\" + 0.024*\"oci\" + 0.023*\"コンパイラ\" + 0.020*\"OPEN\" + 0.015*\"SWAGGER\"\n",
      "topic #56 (0.017): 0.065*\"接続\" + 0.042*\"サーバー\" + 0.040*\"ネットワーク\" + 0.030*\"ポート\" + 0.027*\"IP\" + 0.026*\"IPアドレス\" + 0.023*\"通信\" + 0.015*\"アドレス\" + 0.013*\"ストリーム\" + 0.013*\"ホスト\"\n",
      "topic #52 (0.017): 0.014*\"投稿\" + 0.013*\"エンジニア\" + 0.011*\"Twitter\" + 0.009*\"Qiita\" + 0.007*\"公開\" + 0.006*\"参加\" + 0.006*\"くれる\" + 0.006*\"いただく\" + 0.006*\"会社\" + 0.006*\"プログラミング\"\n",
      "topic #11 (0.017): 0.055*\"()\" + 0.052*\"引数\" + 0.048*\"文字列\" + 0.031*\"値\" + 0.029*\"返す\" + 0.026*\"メソッド\" + 0.023*\"渡す\" + 0.018*\"関数\" + 0.018*\"取得\" + 0.017*\"TRUE\"\n",
      "topic #39 (0.017): 0.108*\"プログラム\" + 0.040*\"ver\" + 0.028*\"解析\" + 0.026*\"文書\" + 0.024*\"いいね\" + 0.021*\"資料\" + 0.021*\"追記\" + 0.013*\"document\" + 0.013*\"履歴\" + 0.012*\"よい\"\n",
      "topic diff=0.048420, rho=0.148456\n",
      "PROGRESS: pass 1, at document #18000/86748\n",
      "merging changes from 2000 documents into a model of 86748 documents\n",
      "topic #27 (0.017): 0.033*\"暗号\" + 0.026*\"署名\" + 0.025*\"鍵\" + 0.024*\"暗号化\" + 0.022*\"商品\" + 0.021*\"生成\" + 0.021*\"方式\" + 0.021*\"バイト\" + 0.018*\"ハッシュ\" + 0.013*\"データ\"\n",
      "topic #35 (0.017): 0.019*\"関数\" + 0.017*\"計算\" + 0.016*\"行列\" + 0.014*\"ベクトル\" + 0.013*\"分布\" + 0.012*\"boldsymbol\" + 0.012*\"確率\" + 0.011*\"frac\" + 0.010*\"用いる\" + 0.010*\"値\"\n",
      "topic #26 (0.017): 0.063*\"Kubernetes\" + 0.044*\"修正\" + 0.033*\"クラスタ\" + 0.032*\"pod\" + 0.018*\"access\" + 0.015*\"()\" + 0.015*\"cluster\" + 0.014*\"削除\" + 0.011*\"namespace\" + 0.010*\"context\"\n",
      "topic #53 (0.017): 0.017*\"チーム\" + 0.010*\"考える\" + 0.009*\"メンバー\" + 0.009*\"作業\" + 0.008*\"課題\" + 0.008*\"プロダクト\" + 0.008*\"組織\" + 0.007*\"セッション\" + 0.007*\"レビュー\" + 0.006*\"プロジェクト\"\n",
      "topic #48 (0.017): 0.045*\"計算\" + 0.039*\"問題\" + 0.018*\"条件\" + 0.016*\"値\" + 0.014*\"求める\" + 0.013*\"考える\" + 0.011*\"数値\" + 0.010*\"最大\" + 0.010*\"整数\" + 0.010*\"探索\"\n",
      "topic diff=0.051075, rho=0.148456\n",
      "-11.524 per-word bound, 2945.5 perplexity estimate based on a held-out corpus of 2000 documents with 340515 words\n",
      "PROGRESS: pass 1, at document #20000/86748\n",
      "merging changes from 2000 documents into a model of 86748 documents\n",
      "topic #16 (0.017): 0.032*\"メモリ\" + 0.026*\"cpu\" + 0.017*\"キャッシュ\" + 0.016*\"サイズ\" + 0.013*\"ブロック\" + 0.013*\"バックアップ\" + 0.011*\"容量\" + 0.011*\"カード\" + 0.011*\"OS\" + 0.011*\"領域\"\n",
      "topic #40 (0.017): 0.055*\"ゲーム\" + 0.027*\"フォント\" + 0.023*\"移動\" + 0.017*\"位置\" + 0.015*\"プレイヤー\" + 0.015*\"UNITY\" + 0.014*\"シーン\" + 0.011*\"敵\" + 0.010*\"font\" + 0.009*\"TIME ZONE\"\n",
      "topic #17 (0.017): 0.087*\"ノード\" + 0.042*\"node\" + 0.018*\"トランザクション\" + 0.016*\"Blockchain\" + 0.015*\"red\" + 0.011*\"max\" + 0.010*\"data\" + 0.009*\"コントラクト\" + 0.008*\"E2\" + 0.008*\"ブロック\"\n",
      "topic #13 (0.017): 0.109*\"クラス\" + 0.093*\"メソッド\" + 0.066*\"オブジェクト\" + 0.038*\"実装\" + 0.027*\"定義\" + 0.024*\"インスタンス\" + 0.022*\"プロパティ\" + 0.021*\"生成\" + 0.014*\"継承\" + 0.012*\"呼び出す\"\n",
      "topic #2 (0.017): 0.035*\"接続\" + 0.032*\"デバイス\" + 0.026*\"USB\" + 0.023*\"Raspberry Pi\" + 0.021*\"Arduino\" + 0.014*\"電源\" + 0.013*\"ESP\" + 0.013*\"センサ\" + 0.013*\"WiFi\" + 0.012*\"tweet\"\n",
      "topic diff=0.050421, rho=0.148456\n",
      "PROGRESS: pass 1, at document #22000/86748\n",
      "merging changes from 2000 documents into a model of 86748 documents\n",
      "topic #24 (0.017): 0.155*\"PHP\" + 0.073*\"rails\" + 0.068*\"RUBY\" + 0.043*\"gem\" + 0.027*\"RuBy\" + 0.022*\"bit\" + 0.021*\"composer\" + 0.018*\"gemfile\" + 0.018*\"バージョン\" + 0.018*\"Elasticsearch\"\n",
      "topic #54 (0.017): 0.037*\"windows\" + 0.034*\"ダウンロード\" + 0.025*\"Folder\" + 0.024*\"起動\" + 0.019*\"開く\" + 0.014*\"UNITY\" + 0.013*\"VSCode\" + 0.013*\"選択\" + 0.011*\"手順\" + 0.009*\"PC\"\n",
      "topic #36 (0.017): 0.083*\"グループ\" + 0.036*\"ルール\" + 0.035*\"ルート\" + 0.027*\"VPC\" + 0.022*\"Cluster\" + 0.021*\"サブネット\" + 0.020*\"タイプ\" + 0.018*\"ターゲット\" + 0.018*\"セキュリティ\" + 0.017*\"インスタンス\"\n",
      "topic #52 (0.017): 0.015*\"投稿\" + 0.013*\"エンジニア\" + 0.012*\"Twitter\" + 0.010*\"Qiita\" + 0.008*\"プログラミング\" + 0.007*\"参加\" + 0.007*\"公開\" + 0.006*\"仕事\" + 0.006*\"いただく\" + 0.006*\"くれる\"\n",
      "topic #5 (0.017): 0.046*\"登録\" + 0.042*\"ユーザー\" + 0.038*\"情報\" + 0.027*\"ユーザ\" + 0.023*\"サービス\" + 0.021*\"アカウント\" + 0.020*\"取得\" + 0.017*\"管理\" + 0.016*\"id\" + 0.015*\"機能\"\n",
      "topic diff=0.051970, rho=0.148456\n",
      "PROGRESS: pass 1, at document #24000/86748\n",
      "merging changes from 2000 documents into a model of 86748 documents\n",
      "topic #54 (0.017): 0.038*\"windows\" + 0.033*\"ダウンロード\" + 0.025*\"起動\" + 0.024*\"Folder\" + 0.019*\"開く\" + 0.014*\"UNITY\" + 0.013*\"VSCode\" + 0.013*\"選択\" + 0.011*\"手順\" + 0.009*\"PC\"\n",
      "topic #45 (0.017): 0.077*\"git\" + 0.069*\"GitHub\" + 0.059*\"リポジトリ\" + 0.043*\"ブランチ\" + 0.039*\"コミット\" + 0.023*\"PUSH\" + 0.019*\"Clone\" + 0.016*\"master\" + 0.016*\"作業\" + 0.016*\"ローカル\"\n",
      "topic #57 (0.017): 0.042*\"メッセージ\" + 0.035*\"タスク\" + 0.031*\"テンプレート\" + 0.028*\"lambda\" + 0.022*\"通知\" + 0.017*\"キュー\" + 0.016*\"関数\" + 0.016*\"ジョブ\" + 0.015*\"Lambda\" + 0.015*\"FLOW\"\n",
      "topic #0 (0.017): 0.065*\"C++\" + 0.064*\"コンパイル\" + 0.049*\"java\" + 0.043*\"spring\" + 0.028*\"コンパイラ\" + 0.023*\"main\" + 0.022*\"BOOT\" + 0.020*\"oci\" + 0.020*\"OPEN\" + 0.014*\"gcc\"\n",
      "topic #50 (0.017): 0.104*\"コマンド\" + 0.044*\"起動\" + 0.019*\"ディレクトリ\" + 0.018*\"Linux\" + 0.017*\"オプション\" + 0.016*\"イメージ\" + 0.013*\"OS\" + 0.012*\"ターミナル\" + 0.011*\"Ubuntu\" + 0.009*\"構築\"\n",
      "topic diff=0.045345, rho=0.148456\n",
      "PROGRESS: pass 1, at document #26000/86748\n",
      "merging changes from 2000 documents into a model of 86748 documents\n",
      "topic #11 (0.017): 0.059*\"()\" + 0.053*\"引数\" + 0.046*\"文字列\" + 0.035*\"値\" + 0.028*\"返す\" + 0.026*\"メソッド\" + 0.024*\"渡す\" + 0.019*\"取得\" + 0.017*\"関数\" + 0.017*\"TRUE\"\n",
      "topic #23 (0.017): 0.042*\"文字\" + 0.018*\"コメント\" + 0.015*\"文字列\" + 0.012*\"改行\" + 0.011*\"スペース\" + 0.011*\"書き方\" + 0.010*\"意味\" + 0.009*\"数字\" + 0.007*\"パターン\" + 0.007*\"大文字\"\n",
      "topic #3 (0.017): 0.090*\"変換\" + 0.040*\"形式\" + 0.024*\"JSON\" + 0.020*\"日付\" + 0.018*\"フォーマット\" + 0.015*\"時刻\" + 0.014*\"圧縮\" + 0.013*\"出力\" + 0.012*\"スタック\" + 0.011*\"date\"\n",
      "topic #4 (0.017): 0.059*\"モデル\" + 0.046*\"学習\" + 0.018*\"データ\" + 0.015*\"予測\" + 0.014*\"機械学習\" + 0.014*\"分類\" + 0.014*\"GPU\" + 0.013*\"精度\" + 0.012*\"TensorFlow\" + 0.011*\"特徴\"\n",
      "topic #32 (0.017): 0.060*\"選択\" + 0.052*\"画面\" + 0.052*\"クリック\" + 0.041*\"入力\" + 0.039*\"ボタン\" + 0.030*\"押す\" + 0.022*\"キー\" + 0.022*\"開く\" + 0.014*\"メニュー\" + 0.013*\"操作\"\n",
      "topic diff=0.043123, rho=0.148456\n",
      "PROGRESS: pass 1, at document #28000/86748\n",
      "merging changes from 2000 documents into a model of 86748 documents\n",
      "topic #49 (0.017): 0.023*\"いい\" + 0.023*\"ん\" + 0.015*\"言う\" + 0.012*\"くれる\" + 0.012*\"いう\" + 0.010*\"しれる\" + 0.010*\"分かる\" + 0.010*\"動く\" + 0.009*\"読む\" + 0.009*\"調べる\"\n",
      "topic #9 (0.017): 0.082*\"画像\" + 0.017*\"座標\" + 0.012*\"描画\" + 0.011*\"カメラ\" + 0.010*\"検出\" + 0.009*\"サイズ\" + 0.008*\"回転\" + 0.008*\"色\" + 0.007*\"位置\" + 0.007*\"部分\"\n",
      "topic #18 (0.017): 0.073*\"API\" + 0.042*\"リクエスト\" + 0.029*\"HTTP\" + 0.023*\"client\" + 0.018*\"送信\" + 0.017*\"レスポンス\" + 0.017*\"取得\" + 0.016*\"JSON\" + 0.015*\"サーバー\" + 0.014*\"実装\"\n",
      "topic #56 (0.017): 0.071*\"接続\" + 0.044*\"ネットワーク\" + 0.040*\"サーバー\" + 0.030*\"ポート\" + 0.028*\"IPアドレス\" + 0.024*\"通信\" + 0.023*\"IP\" + 0.020*\"ホスト\" + 0.015*\"ストリーム\" + 0.014*\"アドレス\"\n",
      "topic #28 (0.017): 0.073*\"AWS\" + 0.043*\"サービス\" + 0.035*\"インスタンス\" + 0.025*\"リソース\" + 0.023*\"S3\" + 0.021*\"EC2\" + 0.017*\"Amazon\" + 0.017*\"CLOUD\" + 0.015*\"iam\" + 0.014*\"ポリシー\"\n",
      "topic diff=0.045374, rho=0.148456\n",
      "PROGRESS: pass 1, at document #30000/86748\n",
      "merging changes from 2000 documents into a model of 86748 documents\n",
      "topic #55 (0.017): 0.069*\"配列\" + 0.062*\"要素\" + 0.052*\"リスト\" + 0.020*\"値\" + 0.019*\"string\" + 0.017*\"インデックス\" + 0.015*\"list\" + 0.015*\"ソート\" + 0.015*\"int\" + 0.013*\"key\"\n",
      "topic #15 (0.017): 0.014*\"情報\" + 0.014*\"評価\" + 0.012*\"攻撃\" + 0.011*\"対策\" + 0.011*\"価格\" + 0.010*\"注文\" + 0.008*\"期間\" + 0.008*\"金額\" + 0.007*\"特定\" + 0.007*\"シグナル\"\n",
      "topic #11 (0.017): 0.058*\"()\" + 0.053*\"引数\" + 0.047*\"文字列\" + 0.035*\"値\" + 0.027*\"返す\" + 0.025*\"メソッド\" + 0.024*\"渡す\" + 0.020*\"取得\" + 0.017*\"関数\" + 0.016*\"TRUE\"\n",
      "topic #13 (0.017): 0.114*\"クラス\" + 0.091*\"メソッド\" + 0.066*\"オブジェクト\" + 0.037*\"実装\" + 0.027*\"インスタンス\" + 0.025*\"定義\" + 0.021*\"生成\" + 0.020*\"プロパティ\" + 0.014*\"継承\" + 0.012*\"呼び出す\"\n",
      "topic #12 (0.017): 0.197*\"python\" + 0.040*\"py\" + 0.032*\"Django\" + 0.022*\"ライブラリ\" + 0.021*\"pip\" + 0.013*\"anaconda\" + 0.013*\"OpenCV\" + 0.013*\"txt\" + 0.010*\"Jupyter Notebook\" + 0.010*\"プログラム\"\n",
      "topic diff=0.044236, rho=0.148456\n",
      "PROGRESS: pass 1, at document #32000/86748\n",
      "merging changes from 2000 documents into a model of 86748 documents\n",
      "topic #43 (0.017): 0.043*\"デプロイ\" + 0.025*\"firebase\" + 0.025*\"アップロード\" + 0.024*\"CLOUD\" + 0.021*\"プロジェクト\" + 0.018*\"Heroku\" + 0.016*\"アプリ\" + 0.015*\"app\" + 0.014*\"アカウント\" + 0.014*\"ローカル\"\n",
      "topic #58 (0.017): 0.061*\"TO\" + 0.052*\"AND\" + 0.030*\"IS\" + 0.023*\"ON\" + 0.016*\"WITH\" + 0.015*\"YOU\" + 0.015*\"BY\" + 0.010*\"It\" + 0.009*\"ING\" + 0.008*\"N・O\"\n",
      "topic #51 (0.017): 0.061*\"a.\" + 0.052*\"flutter\" + 0.050*\"プロセス\" + 0.032*\"widget\" + 0.029*\"命令\" + 0.026*\"AND\" + 0.021*\"QUANTUM\" + 0.019*\"H.\" + 0.013*\"arXiv\" + 0.012*\"セクション\"\n"
     ]
    },
    {
     "name": "stderr",
     "output_type": "stream",
     "text": [
      "topic #49 (0.017): 0.023*\"いい\" + 0.023*\"ん\" + 0.015*\"言う\" + 0.012*\"くれる\" + 0.012*\"いう\" + 0.010*\"分かる\" + 0.010*\"しれる\" + 0.010*\"動く\" + 0.009*\"読む\" + 0.009*\"調べる\"\n",
      "topic #10 (0.017): 0.040*\"パッケージ\" + 0.032*\"バージョン\" + 0.030*\"ビルド\" + 0.028*\"ディレクトリ\" + 0.026*\"プロジェクト\" + 0.020*\"ライブラリ\" + 0.015*\"パス\" + 0.015*\"プラグイン\" + 0.013*\"生成\" + 0.011*\"導入\"\n",
      "topic diff=0.047774, rho=0.148456\n",
      "PROGRESS: pass 1, at document #34000/86748\n",
      "merging changes from 2000 documents into a model of 86748 documents\n",
      "topic #6 (0.017): 0.217*\"テスト\" + 0.033*\"test\" + 0.033*\"SLACK\" + 0.021*\"CI\" + 0.016*\"チェック\" + 0.015*\"自動\" + 0.013*\"対象\" + 0.010*\"検証\" + 0.009*\"修正\" + 0.009*\"失敗\"\n",
      "topic #59 (0.017): 0.029*\"例外\" + 0.027*\"非同期\" + 0.024*\"THREAD\" + 0.022*\"Kotlin\" + 0.020*\"terraform\" + 0.017*\"同期\" + 0.015*\"発生\" + 0.014*\"終了\" + 0.012*\"promise\" + 0.012*\"コールバック\"\n",
      "topic #4 (0.017): 0.058*\"モデル\" + 0.048*\"学習\" + 0.017*\"データ\" + 0.016*\"予測\" + 0.016*\"機械学習\" + 0.014*\"分類\" + 0.013*\"精度\" + 0.013*\"GPU\" + 0.011*\"特徴\" + 0.011*\"TensorFlow\"\n",
      "topic #46 (0.017): 0.019*\"システム\" + 0.012*\"設計\" + 0.009*\"機能\" + 0.008*\"アプリケーション\" + 0.007*\"実現\" + 0.007*\"可能\" + 0.007*\"考える\" + 0.007*\"コスト\" + 0.006*\"提供\" + 0.006*\"技術\"\n",
      "topic #54 (0.017): 0.038*\"windows\" + 0.034*\"ダウンロード\" + 0.025*\"起動\" + 0.024*\"Folder\" + 0.018*\"開く\" + 0.014*\"UNITY\" + 0.012*\"選択\" + 0.012*\"VSCode\" + 0.010*\"手順\" + 0.010*\"MAC\"\n",
      "topic diff=0.043417, rho=0.148456\n",
      "PROGRESS: pass 1, at document #36000/86748\n",
      "merging changes from 2000 documents into a model of 86748 documents\n",
      "topic #52 (0.017): 0.015*\"投稿\" + 0.013*\"Twitter\" + 0.013*\"エンジニア\" + 0.011*\"Qiita\" + 0.008*\"参加\" + 0.007*\"プログラミング\" + 0.007*\"公開\" + 0.007*\"いただく\" + 0.006*\"仕事\" + 0.006*\"会社\"\n",
      "topic #43 (0.017): 0.043*\"デプロイ\" + 0.024*\"アップロード\" + 0.024*\"CLOUD\" + 0.022*\"firebase\" + 0.021*\"プロジェクト\" + 0.018*\"Heroku\" + 0.016*\"アプリ\" + 0.015*\"app\" + 0.014*\"アカウント\" + 0.014*\"ローカル\"\n",
      "topic #34 (0.017): 0.049*\"サーバ\" + 0.044*\"SSH\" + 0.043*\"AZURE\" + 0.028*\"ドメイン\" + 0.021*\"証明書\" + 0.020*\"接続\" + 0.019*\"アクセス\" + 0.017*\"認証\" + 0.016*\"DNS\" + 0.014*\"key\"\n",
      "topic #56 (0.017): 0.078*\"接続\" + 0.042*\"サーバー\" + 0.041*\"ネットワーク\" + 0.033*\"ポート\" + 0.025*\"IPアドレス\" + 0.024*\"通信\" + 0.023*\"IP\" + 0.018*\"ホスト\" + 0.014*\"アドレス\" + 0.013*\"ストリーム\"\n",
      "topic #59 (0.017): 0.029*\"例外\" + 0.027*\"非同期\" + 0.025*\"THREAD\" + 0.021*\"Kotlin\" + 0.020*\"terraform\" + 0.018*\"同期\" + 0.014*\"発生\" + 0.013*\"終了\" + 0.012*\"promise\" + 0.012*\"コールバック\"\n",
      "topic diff=0.040328, rho=0.148456\n",
      "PROGRESS: pass 1, at document #38000/86748\n",
      "merging changes from 2000 documents into a model of 86748 documents\n",
      "topic #13 (0.017): 0.116*\"クラス\" + 0.100*\"メソッド\" + 0.068*\"オブジェクト\" + 0.035*\"実装\" + 0.026*\"インスタンス\" + 0.026*\"定義\" + 0.020*\"生成\" + 0.019*\"プロパティ\" + 0.015*\"継承\" + 0.013*\"呼び出す\"\n",
      "topic #2 (0.017): 0.037*\"デバイス\" + 0.033*\"接続\" + 0.031*\"USB\" + 0.025*\"Raspberry Pi\" + 0.018*\"Arduino\" + 0.015*\"センサー\" + 0.015*\"ボード\" + 0.014*\"電源\" + 0.013*\"ESP\" + 0.013*\"PC\"\n",
      "topic #44 (0.017): 0.222*\"データ\" + 0.035*\"取得\" + 0.020*\"CSV\" + 0.019*\"グラフ\" + 0.019*\"分析\" + 0.015*\"情報\" + 0.010*\"抽出\" + 0.007*\"集計\" + 0.006*\"可視化\" + 0.006*\"data\"\n",
      "topic #36 (0.017): 0.087*\"グループ\" + 0.038*\"ルート\" + 0.035*\"ルール\" + 0.028*\"VPC\" + 0.023*\"タイプ\" + 0.022*\"Redis\" + 0.019*\"サブネット\" + 0.018*\"ボリューム\" + 0.018*\"Cluster\" + 0.018*\"group\"\n",
      "topic #17 (0.017): 0.078*\"ノード\" + 0.044*\"node\" + 0.027*\"トランザクション\" + 0.019*\"Blockchain\" + 0.014*\"red\" + 0.014*\"S1\" + 0.012*\"data\" + 0.010*\"チェーン\" + 0.009*\"SE\" + 0.008*\"max\"\n",
      "topic diff=0.041978, rho=0.148456\n",
      "-11.422 per-word bound, 2744.7 perplexity estimate based on a held-out corpus of 2000 documents with 314017 words\n",
      "PROGRESS: pass 1, at document #40000/86748\n",
      "merging changes from 2000 documents into a model of 86748 documents\n",
      "topic #29 (0.017): 0.022*\"状態\" + 0.021*\"量子\" + 0.019*\"計算\" + 0.016*\"量子コンピュータ\" + 0.014*\"ゲート\" + 0.013*\"量子ビット\" + 0.011*\"ロボット\" + 0.011*\"回路\" + 0.009*\"表現\" + 0.009*\"呼ぶ\"\n",
      "topic #35 (0.017): 0.021*\"関数\" + 0.017*\"計算\" + 0.017*\"行列\" + 0.014*\"boldsymbol\" + 0.014*\"ベクトル\" + 0.013*\"frac\" + 0.013*\"確率\" + 0.012*\"パラメータ\" + 0.012*\"分布\" + 0.012*\"値\"\n",
      "topic #46 (0.017): 0.020*\"システム\" + 0.012*\"設計\" + 0.009*\"機能\" + 0.008*\"アプリケーション\" + 0.007*\"考える\" + 0.007*\"可能\" + 0.007*\"実現\" + 0.007*\"コスト\" + 0.006*\"提供\" + 0.006*\"持つ\"\n",
      "topic #55 (0.017): 0.074*\"配列\" + 0.061*\"要素\" + 0.048*\"string\" + 0.046*\"リスト\" + 0.044*\"key\" + 0.017*\"値\" + 0.017*\"インデックス\" + 0.017*\"list\" + 0.016*\"int\" + 0.014*\"ソート\"\n",
      "topic #49 (0.017): 0.023*\"ん\" + 0.023*\"いい\" + 0.014*\"言う\" + 0.012*\"くれる\" + 0.011*\"いう\" + 0.010*\"分かる\" + 0.010*\"しれる\" + 0.009*\"動く\" + 0.009*\"読む\" + 0.009*\"入れる\"\n",
      "topic diff=0.039099, rho=0.148456\n",
      "PROGRESS: pass 1, at document #42000/86748\n",
      "merging changes from 2000 documents into a model of 86748 documents\n",
      "topic #9 (0.017): 0.089*\"画像\" + 0.016*\"座標\" + 0.013*\"描画\" + 0.012*\"カメラ\" + 0.011*\"頂点\" + 0.010*\"検出\" + 0.009*\"サイズ\" + 0.009*\"色\" + 0.009*\"位置\" + 0.007*\"回転\"\n",
      "topic #44 (0.017): 0.222*\"データ\" + 0.034*\"取得\" + 0.020*\"分析\" + 0.019*\"CSV\" + 0.019*\"グラフ\" + 0.015*\"情報\" + 0.011*\"抽出\" + 0.008*\"集計\" + 0.006*\"可視化\" + 0.006*\"data\"\n",
      "topic #10 (0.017): 0.040*\"パッケージ\" + 0.032*\"バージョン\" + 0.030*\"ビルド\" + 0.028*\"ディレクトリ\" + 0.027*\"プロジェクト\" + 0.018*\"ライブラリ\" + 0.015*\"プラグイン\" + 0.014*\"パス\" + 0.013*\"生成\" + 0.011*\"コマンド\"\n",
      "topic #42 (0.017): 0.067*\"テーブル\" + 0.036*\"データベース\" + 0.034*\"id\" + 0.030*\"データ\" + 0.030*\"SQL\" + 0.026*\"db\" + 0.024*\"削除\" + 0.023*\"レコード\" + 0.021*\"カラム\" + 0.017*\"クエリ\"\n",
      "topic #46 (0.017): 0.021*\"システム\" + 0.012*\"設計\" + 0.009*\"機能\" + 0.008*\"アプリケーション\" + 0.007*\"考える\" + 0.007*\"可能\" + 0.007*\"実現\" + 0.006*\"コスト\" + 0.006*\"提供\" + 0.006*\"持つ\"\n",
      "topic diff=0.037358, rho=0.148456\n",
      "PROGRESS: pass 1, at document #44000/86748\n",
      "merging changes from 2000 documents into a model of 86748 documents\n",
      "topic #49 (0.017): 0.024*\"いい\" + 0.023*\"ん\" + 0.015*\"言う\" + 0.012*\"くれる\" + 0.011*\"いう\" + 0.010*\"しれる\" + 0.010*\"分かる\" + 0.009*\"動く\" + 0.009*\"読む\" + 0.009*\"調べる\"\n",
      "topic #15 (0.017): 0.017*\"評価\" + 0.013*\"情報\" + 0.012*\"対策\" + 0.010*\"攻撃\" + 0.010*\"価格\" + 0.009*\"注文\" + 0.008*\"期間\" + 0.008*\"アルゴリズム\" + 0.007*\"リスク\" + 0.006*\"特定\"\n",
      "topic #13 (0.017): 0.118*\"クラス\" + 0.104*\"メソッド\" + 0.066*\"オブジェクト\" + 0.035*\"実装\" + 0.026*\"定義\" + 0.026*\"インスタンス\" + 0.022*\"プロパティ\" + 0.020*\"生成\" + 0.015*\"継承\" + 0.013*\"呼び出す\"\n",
      "topic #20 (0.017): 0.044*\"ログイン\" + 0.031*\"パスワード\" + 0.030*\"user\" + 0.025*\"ユーザー\" + 0.018*\"rails\" + 0.017*\"認証\" + 0.016*\"アクション\" + 0.016*\"コントローラ\" + 0.015*\"モデル\" + 0.015*\"機能\"\n",
      "topic #37 (0.017): 0.081*\"仮想\" + 0.061*\"仮想マシン\" + 0.061*\"移行\" + 0.049*\"VM\" + 0.047*\"vagrant\" + 0.041*\"box\" + 0.041*\"VirtualBox\" + 0.033*\"map\" + 0.020*\"ELIXIR\" + 0.018*\"スナップショット\"\n",
      "topic diff=0.035125, rho=0.148456\n",
      "PROGRESS: pass 1, at document #46000/86748\n",
      "merging changes from 2000 documents into a model of 86748 documents\n",
      "topic #32 (0.017): 0.062*\"選択\" + 0.056*\"画面\" + 0.054*\"クリック\" + 0.044*\"入力\" + 0.039*\"ボタン\" + 0.030*\"押す\" + 0.022*\"開く\" + 0.019*\"キー\" + 0.013*\"タブ\" + 0.013*\"メニュー\"\n",
      "topic #17 (0.017): 0.081*\"ノード\" + 0.050*\"node\" + 0.024*\"トランザクション\" + 0.016*\"Blockchain\" + 0.013*\"S1\" + 0.012*\"red\" + 0.010*\"data\" + 0.008*\"E1\" + 0.008*\"ブロック\" + 0.008*\"チェーン\"\n",
      "topic #21 (0.017): 0.104*\"モジュール\" + 0.042*\"typescript\" + 0.024*\"module\" + 0.021*\"TS\" + 0.021*\"import\" + 0.018*\"V2\" + 0.017*\"webpack\" + 0.016*\"ST\" + 0.016*\"ピン\" + 0.015*\"ES\"\n",
      "topic #19 (0.017): 0.094*\"開発\" + 0.043*\"ツール\" + 0.037*\"作者\" + 0.037*\"言語\" + 0.027*\"機能\" + 0.025*\"プロジェクト\" + 0.020*\"FRAMeWORK\" + 0.020*\"管理\" + 0.014*\"アプリケーション\" + 0.014*\"日本語\"\n",
      "topic #46 (0.017): 0.020*\"システム\" + 0.012*\"設計\" + 0.008*\"機能\" + 0.008*\"アプリケーション\" + 0.007*\"可能\" + 0.007*\"考える\" + 0.007*\"実現\" + 0.006*\"コスト\" + 0.006*\"高い\" + 0.006*\"持つ\"\n",
      "topic diff=0.036304, rho=0.148456\n",
      "PROGRESS: pass 1, at document #48000/86748\n",
      "merging changes from 2000 documents into a model of 86748 documents\n",
      "topic #49 (0.017): 0.023*\"いい\" + 0.023*\"ん\" + 0.014*\"言う\" + 0.012*\"くれる\" + 0.011*\"いう\" + 0.010*\"分かる\" + 0.010*\"しれる\" + 0.009*\"読む\" + 0.009*\"動く\" + 0.009*\"調べる\"\n",
      "topic #17 (0.017): 0.083*\"ノード\" + 0.052*\"node\" + 0.023*\"トランザクション\" + 0.016*\"Blockchain\" + 0.015*\"S1\" + 0.012*\"red\" + 0.009*\"data\" + 0.008*\"ブロック\" + 0.008*\"E1\" + 0.008*\"S2\"\n",
      "topic #28 (0.017): 0.082*\"AWS\" + 0.041*\"サービス\" + 0.038*\"インスタンス\" + 0.026*\"リソース\" + 0.025*\"EC2\" + 0.022*\"S3\" + 0.017*\"Amazon\" + 0.014*\"CLOUD\" + 0.014*\"iam\" + 0.013*\"ポリシー\"\n",
      "topic #8 (0.017): 0.057*\"ページ\" + 0.047*\"検索\" + 0.044*\"サイト\" + 0.034*\"URL\" + 0.025*\"メール\" + 0.023*\"リンク\" + 0.017*\"取得\" + 0.016*\"chrome\" + 0.013*\"情報\" + 0.012*\"送信\"\n",
      "topic #9 (0.017): 0.089*\"画像\" + 0.016*\"座標\" + 0.013*\"描画\" + 0.012*\"カメラ\" + 0.009*\"検出\" + 0.009*\"サイズ\" + 0.009*\"色\" + 0.008*\"位置\" + 0.008*\"回転\" + 0.008*\"頂点\"\n",
      "topic diff=0.039142, rho=0.148456\n",
      "PROGRESS: pass 1, at document #50000/86748\n",
      "merging changes from 2000 documents into a model of 86748 documents\n"
     ]
    },
    {
     "name": "stderr",
     "output_type": "stream",
     "text": [
      "topic #58 (0.017): 0.062*\"TO\" + 0.052*\"AND\" + 0.035*\"IS\" + 0.021*\"ON\" + 0.016*\"YOU\" + 0.015*\"WITH\" + 0.013*\"BY\" + 0.011*\"It\" + 0.008*\"ING\" + 0.007*\"AN\"\n",
      "topic #11 (0.017): 0.061*\"()\" + 0.048*\"引数\" + 0.044*\"文字列\" + 0.037*\"値\" + 0.028*\"返す\" + 0.025*\"メソッド\" + 0.023*\"渡す\" + 0.022*\"取得\" + 0.017*\"TRUE\" + 0.016*\"入力\"\n",
      "topic #30 (0.017): 0.025*\"機能\" + 0.019*\"サポート\" + 0.019*\"対応\" + 0.015*\"提供\" + 0.014*\"可能\" + 0.014*\"サービス\" + 0.011*\"CROWD\" + 0.011*\"無料\" + 0.011*\"リリース\" + 0.008*\"ライセンス\"\n",
      "topic #2 (0.017): 0.036*\"デバイス\" + 0.032*\"接続\" + 0.027*\"USB\" + 0.023*\"Raspberry Pi\" + 0.019*\"Arduino\" + 0.014*\"PC\" + 0.014*\"電源\" + 0.013*\"ボード\" + 0.012*\"tweet\" + 0.012*\"センサー\"\n",
      "topic #14 (0.017): 0.088*\"エラー\" + 0.025*\"解決\" + 0.025*\"原因\" + 0.024*\"発生\" + 0.024*\"問題\" + 0.023*\"MySQL\" + 0.015*\"バージョン\" + 0.014*\"db\" + 0.009*\"oracle\" + 0.009*\"laravel\"\n",
      "topic diff=0.041216, rho=0.148456\n",
      "PROGRESS: pass 1, at document #52000/86748\n",
      "merging changes from 2000 documents into a model of 86748 documents\n",
      "topic #24 (0.017): 0.164*\"PHP\" + 0.097*\"rails\" + 0.064*\"RUBY\" + 0.037*\"gem\" + 0.034*\"laravel\" + 0.026*\"RuBy\" + 0.021*\"Elasticsearch\" + 0.020*\"composer\" + 0.019*\"バージョン\" + 0.015*\"gemfile\"\n",
      "topic #57 (0.017): 0.037*\"タスク\" + 0.035*\"メッセージ\" + 0.033*\"テンプレート\" + 0.033*\"通知\" + 0.028*\"lambda\" + 0.019*\"ジョブ\" + 0.017*\"カスタム\" + 0.017*\"トリガー\" + 0.016*\"関数\" + 0.016*\"Lambda\"\n",
      "topic #20 (0.017): 0.046*\"ログイン\" + 0.031*\"パスワード\" + 0.029*\"user\" + 0.022*\"ユーザー\" + 0.017*\"rails\" + 0.017*\"コントローラ\" + 0.017*\"認証\" + 0.016*\"フォーム\" + 0.015*\"アクション\" + 0.015*\"機能\"\n",
      "topic #12 (0.017): 0.222*\"python\" + 0.045*\"py\" + 0.026*\"Django\" + 0.021*\"ライブラリ\" + 0.021*\"pip\" + 0.016*\"anaconda\" + 0.013*\"txt\" + 0.011*\"インポート\" + 0.011*\"モジュール\" + 0.010*\"import\"\n",
      "topic #2 (0.017): 0.037*\"デバイス\" + 0.030*\"接続\" + 0.026*\"USB\" + 0.022*\"Raspberry Pi\" + 0.020*\"Arduino\" + 0.014*\"電源\" + 0.014*\"PC\" + 0.013*\"ボード\" + 0.011*\"プログラム\" + 0.011*\"LED\"\n",
      "topic diff=0.042347, rho=0.148456\n",
      "PROGRESS: pass 1, at document #54000/86748\n",
      "merging changes from 2000 documents into a model of 86748 documents\n",
      "topic #19 (0.017): 0.095*\"開発\" + 0.043*\"ツール\" + 0.039*\"言語\" + 0.028*\"機能\" + 0.025*\"プロジェクト\" + 0.025*\"FRAMeWORK\" + 0.022*\"作者\" + 0.020*\"管理\" + 0.015*\"アプリケーション\" + 0.014*\"日本語\"\n",
      "topic #33 (0.017): 0.195*\"出力\" + 0.109*\"ログ\" + 0.027*\"log\" + 0.025*\"標準\" + 0.021*\"監視\" + 0.018*\"デバッグ\" + 0.014*\"レベル\" + 0.013*\"コンソール\" + 0.012*\"preview\" + 0.009*\"C#\"\n",
      "topic #28 (0.017): 0.078*\"AWS\" + 0.042*\"サービス\" + 0.041*\"インスタンス\" + 0.025*\"EC2\" + 0.025*\"リソース\" + 0.022*\"S3\" + 0.016*\"CLOUD\" + 0.016*\"iam\" + 0.015*\"Amazon\" + 0.014*\"ポリシー\"\n",
      "topic #56 (0.017): 0.088*\"接続\" + 0.039*\"ネットワーク\" + 0.038*\"サーバー\" + 0.031*\"ポート\" + 0.028*\"IP\" + 0.025*\"IPアドレス\" + 0.023*\"通信\" + 0.014*\"アドレス\" + 0.014*\"ホスト\" + 0.014*\"サーバ\"\n",
      "topic #24 (0.017): 0.164*\"PHP\" + 0.091*\"rails\" + 0.066*\"RUBY\" + 0.038*\"gem\" + 0.037*\"laravel\" + 0.025*\"RuBy\" + 0.021*\"Elasticsearch\" + 0.021*\"composer\" + 0.020*\"バージョン\" + 0.016*\"gemfile\"\n",
      "topic diff=0.040217, rho=0.148456\n",
      "PROGRESS: pass 1, at document #56000/86748\n",
      "merging changes from 2000 documents into a model of 86748 documents\n",
      "topic #30 (0.017): 0.025*\"機能\" + 0.019*\"対応\" + 0.019*\"サポート\" + 0.016*\"提供\" + 0.014*\"サービス\" + 0.013*\"可能\" + 0.011*\"リリース\" + 0.011*\"無料\" + 0.010*\"CROWD\" + 0.008*\"ライセンス\"\n",
      "topic #2 (0.017): 0.035*\"デバイス\" + 0.031*\"接続\" + 0.027*\"USB\" + 0.021*\"Raspberry Pi\" + 0.018*\"Arduino\" + 0.015*\"PC\" + 0.014*\"電源\" + 0.012*\"ボード\" + 0.012*\"センサ\" + 0.011*\"LED\"\n",
      "topic #13 (0.017): 0.124*\"クラス\" + 0.096*\"メソッド\" + 0.068*\"オブジェクト\" + 0.038*\"実装\" + 0.025*\"インスタンス\" + 0.025*\"定義\" + 0.020*\"生成\" + 0.020*\"プロパティ\" + 0.014*\"継承\" + 0.012*\"呼び出す\"\n",
      "topic #21 (0.017): 0.102*\"モジュール\" + 0.046*\"typescript\" + 0.023*\"import\" + 0.022*\"module\" + 0.021*\"TS\" + 0.018*\"V2\" + 0.017*\"webpack\" + 0.015*\"ピン\" + 0.015*\"ES\" + 0.015*\"ST\"\n",
      "topic #6 (0.017): 0.240*\"テスト\" + 0.034*\"test\" + 0.032*\"SLACK\" + 0.023*\"CI\" + 0.016*\"チェック\" + 0.014*\"自動\" + 0.013*\"対象\" + 0.011*\"検証\" + 0.009*\"circleci\" + 0.009*\"失敗\"\n",
      "topic diff=0.035713, rho=0.148456\n",
      "PROGRESS: pass 1, at document #58000/86748\n",
      "merging changes from 2000 documents into a model of 86748 documents\n",
      "topic #11 (0.017): 0.064*\"()\" + 0.049*\"引数\" + 0.045*\"文字列\" + 0.038*\"値\" + 0.029*\"返す\" + 0.023*\"渡す\" + 0.023*\"メソッド\" + 0.023*\"取得\" + 0.017*\"False\" + 0.017*\"TRUE\"\n",
      "topic #51 (0.017): 0.073*\"プロセス\" + 0.052*\"a.\" + 0.043*\"flutter\" + 0.029*\"AND\" + 0.024*\"widget\" + 0.019*\"命令\" + 0.017*\"H.\" + 0.016*\"QUANTUM\" + 0.016*\"parameter\" + 0.014*\"セクション\"\n",
      "topic #40 (0.017): 0.055*\"ゲーム\" + 0.036*\"UNITY\" + 0.027*\"移動\" + 0.021*\"位置\" + 0.020*\"フォント\" + 0.016*\"シーン\" + 0.013*\"プレイヤー\" + 0.011*\"MATLAB\" + 0.010*\"空間\" + 0.010*\"オブジェクト\"\n",
      "topic #47 (0.017): 0.033*\"要素\" + 0.024*\"色\" + 0.023*\"セル\" + 0.022*\"テキスト\" + 0.019*\"エクセル\" + 0.019*\"幅\" + 0.018*\"シート\" + 0.018*\"プロパティ\" + 0.017*\"位置\" + 0.017*\"text\"\n",
      "topic #45 (0.017): 0.077*\"git\" + 0.067*\"GitHub\" + 0.052*\"リポジトリ\" + 0.047*\"ブランチ\" + 0.040*\"コミット\" + 0.025*\"PUSH\" + 0.022*\"Clone\" + 0.021*\"master\" + 0.016*\"マージ\" + 0.015*\"ローカル\"\n",
      "topic diff=0.037223, rho=0.148456\n",
      "-11.452 per-word bound, 2800.8 perplexity estimate based on a held-out corpus of 2000 documents with 331781 words\n",
      "PROGRESS: pass 1, at document #60000/86748\n",
      "merging changes from 2000 documents into a model of 86748 documents\n",
      "topic #33 (0.017): 0.192*\"出力\" + 0.118*\"ログ\" + 0.025*\"標準\" + 0.025*\"log\" + 0.018*\"レベル\" + 0.018*\"デバッグ\" + 0.018*\"監視\" + 0.011*\"コンソール\" + 0.009*\"preview\" + 0.009*\"情報\"\n",
      "topic #57 (0.017): 0.041*\"タスク\" + 0.033*\"テンプレート\" + 0.031*\"通知\" + 0.031*\"メッセージ\" + 0.025*\"lambda\" + 0.018*\"ジョブ\" + 0.017*\"カスタム\" + 0.016*\"トリガー\" + 0.015*\"関数\" + 0.014*\"Lambda\"\n",
      "topic #1 (0.017): 0.081*\"関数\" + 0.048*\"変数\" + 0.036*\"定義\" + 0.036*\"型\" + 0.023*\"値\" + 0.017*\"引数\" + 0.014*\"宣言\" + 0.012*\"参照\" + 0.008*\"代入\" + 0.008*\"実装\"\n",
      "topic #4 (0.017): 0.062*\"モデル\" + 0.050*\"学習\" + 0.018*\"データ\" + 0.018*\"予測\" + 0.016*\"特徴\" + 0.015*\"機械学習\" + 0.015*\"分類\" + 0.013*\"精度\" + 0.011*\"入力\" + 0.010*\"GPU\"\n",
      "topic #6 (0.017): 0.239*\"テスト\" + 0.033*\"test\" + 0.028*\"SLACK\" + 0.024*\"CI\" + 0.017*\"チェック\" + 0.015*\"自動\" + 0.014*\"対象\" + 0.012*\"検証\" + 0.009*\"修正\" + 0.009*\"モック\"\n",
      "topic diff=0.036781, rho=0.148456\n",
      "PROGRESS: pass 1, at document #62000/86748\n",
      "merging changes from 2000 documents into a model of 86748 documents\n",
      "topic #27 (0.017): 0.029*\"署名\" + 0.028*\"商品\" + 0.027*\"暗号\" + 0.025*\"方式\" + 0.023*\"生成\" + 0.022*\"暗号化\" + 0.020*\"鍵\" + 0.020*\"ハッシュ\" + 0.018*\"バイト\" + 0.012*\"ハッシュ値\"\n",
      "topic #48 (0.017): 0.040*\"計算\" + 0.039*\"問題\" + 0.020*\"値\" + 0.016*\"求める\" + 0.015*\"条件\" + 0.012*\"数値\" + 0.012*\"考える\" + 0.012*\"最大\" + 0.011*\"整数\" + 0.010*\"入力\"\n",
      "topic #46 (0.017): 0.019*\"システム\" + 0.012*\"設計\" + 0.008*\"機能\" + 0.007*\"考える\" + 0.007*\"可能\" + 0.007*\"アプリケーション\" + 0.006*\"コスト\" + 0.006*\"実現\" + 0.006*\"持つ\" + 0.006*\"高い\"\n",
      "topic #23 (0.017): 0.046*\"文字\" + 0.020*\"文字列\" + 0.016*\"コメント\" + 0.014*\"改行\" + 0.012*\"スペース\" + 0.011*\"意味\" + 0.010*\"書き方\" + 0.010*\"数字\" + 0.008*\"パターン\" + 0.007*\"空白\"\n",
      "topic #25 (0.017): 0.121*\"アプリ\" + 0.036*\"ANDROID\" + 0.025*\"iOS\" + 0.024*\"bot\" + 0.019*\"Xcode\" + 0.019*\"LINE\" + 0.014*\"Apple\" + 0.014*\"app\" + 0.013*\"STEP\" + 0.012*\"端末\"\n",
      "topic diff=0.032888, rho=0.148456\n",
      "PROGRESS: pass 1, at document #64000/86748\n",
      "merging changes from 2000 documents into a model of 86748 documents\n",
      "topic #38 (0.017): 0.047*\"コンポーネント\" + 0.043*\"イベント\" + 0.042*\"状態\" + 0.024*\"state\" + 0.022*\"実装\" + 0.020*\"UI\" + 0.020*\"更新\" + 0.018*\"遷移\" + 0.017*\"VIEW\" + 0.015*\"ボタン\"\n",
      "topic #24 (0.017): 0.156*\"PHP\" + 0.104*\"rails\" + 0.066*\"RUBY\" + 0.051*\"laravel\" + 0.039*\"gem\" + 0.028*\"RuBy\" + 0.021*\"composer\" + 0.018*\"バージョン\" + 0.017*\"bundle\" + 0.017*\"gemfile\"\n",
      "topic #47 (0.017): 0.032*\"要素\" + 0.025*\"色\" + 0.023*\"テキスト\" + 0.022*\"セル\" + 0.019*\"幅\" + 0.018*\"エクセル\" + 0.017*\"text\" + 0.016*\"プロパティ\" + 0.016*\"位置\" + 0.016*\"シート\"\n",
      "topic #55 (0.017): 0.079*\"配列\" + 0.077*\"要素\" + 0.049*\"リスト\" + 0.025*\"string\" + 0.019*\"key\" + 0.019*\"list\" + 0.019*\"int\" + 0.019*\"インデックス\" + 0.018*\"値\" + 0.016*\"ソート\"\n",
      "topic #33 (0.017): 0.200*\"出力\" + 0.115*\"ログ\" + 0.026*\"標準\" + 0.025*\"log\" + 0.017*\"デバッグ\" + 0.017*\"レベル\" + 0.015*\"監視\" + 0.010*\"コンソール\" + 0.009*\"情報\" + 0.008*\"preview\"\n",
      "topic diff=0.034007, rho=0.148456\n",
      "PROGRESS: pass 1, at document #66000/86748\n",
      "merging changes from 2000 documents into a model of 86748 documents\n",
      "topic #20 (0.017): 0.044*\"ログイン\" + 0.031*\"user\" + 0.030*\"パスワード\" + 0.020*\"ユーザー\" + 0.018*\"認証\" + 0.016*\"フォーム\" + 0.016*\"機能\" + 0.015*\"rails\" + 0.015*\"モデル\" + 0.014*\"コントローラ\"\n",
      "topic #29 (0.017): 0.019*\"状態\" + 0.015*\"計算\" + 0.013*\"シミュレーション\" + 0.011*\"ロボット\" + 0.011*\"mathrm\" + 0.010*\"測定\" + 0.009*\"電子\" + 0.008*\"ゲート\" + 0.008*\"図\" + 0.008*\"表現\"\n",
      "topic #10 (0.017): 0.038*\"パッケージ\" + 0.033*\"バージョン\" + 0.032*\"ビルド\" + 0.031*\"ディレクトリ\" + 0.028*\"プロジェクト\" + 0.018*\"ライブラリ\" + 0.016*\"パス\" + 0.013*\"プラグイン\" + 0.013*\"生成\" + 0.011*\"コマンド\"\n"
     ]
    },
    {
     "name": "stderr",
     "output_type": "stream",
     "text": [
      "topic #0 (0.017): 0.062*\"java\" + 0.059*\"C++\" + 0.057*\"コンパイル\" + 0.041*\"spring\" + 0.039*\".S\" + 0.033*\"main\" + 0.025*\"コンパイラ\" + 0.021*\"BOOT\" + 0.018*\"OPEN\" + 0.012*\"oci\"\n",
      "topic #22 (0.017): 0.075*\"動画\" + 0.056*\"単語\" + 0.035*\"再生\" + 0.026*\"音声\" + 0.020*\"文章\" + 0.018*\"YouTube\" + 0.015*\"再構成\" + 0.014*\"音\" + 0.013*\"bi\" + 0.013*\"類似\"\n",
      "topic diff=0.034610, rho=0.148456\n",
      "PROGRESS: pass 1, at document #68000/86748\n",
      "merging changes from 2000 documents into a model of 86748 documents\n",
      "topic #14 (0.017): 0.090*\"エラー\" + 0.026*\"問題\" + 0.026*\"発生\" + 0.025*\"解決\" + 0.024*\"原因\" + 0.023*\"MySQL\" + 0.016*\"バージョン\" + 0.013*\"db\" + 0.010*\"失敗\" + 0.009*\"対応\"\n",
      "topic #37 (0.017): 0.094*\"仮想\" + 0.049*\"仮想マシン\" + 0.047*\"box\" + 0.047*\"VM\" + 0.043*\"移行\" + 0.042*\"ELIXIR\" + 0.041*\"vagrant\" + 0.040*\"VirtualBox\" + 0.036*\"map\" + 0.023*\"ゲスト\"\n",
      "topic #42 (0.017): 0.068*\"テーブル\" + 0.039*\"データベース\" + 0.033*\"データ\" + 0.031*\"id\" + 0.030*\"db\" + 0.030*\"SQL\" + 0.027*\"削除\" + 0.023*\"レコード\" + 0.020*\"カラム\" + 0.017*\"更新\"\n",
      "topic #19 (0.017): 0.096*\"開発\" + 0.040*\"ツール\" + 0.036*\"言語\" + 0.032*\"機能\" + 0.024*\"プロジェクト\" + 0.023*\"FRAMeWORK\" + 0.021*\"管理\" + 0.016*\"アプリケーション\" + 0.013*\"日本語\" + 0.011*\"web\"\n",
      "topic #55 (0.017): 0.078*\"配列\" + 0.076*\"要素\" + 0.051*\"リスト\" + 0.023*\"string\" + 0.020*\"list\" + 0.019*\"int\" + 0.017*\"key\" + 0.017*\"値\" + 0.017*\"インデックス\" + 0.016*\"array\"\n",
      "topic diff=0.030663, rho=0.148456\n",
      "PROGRESS: pass 1, at document #70000/86748\n",
      "merging changes from 2000 documents into a model of 86748 documents\n",
      "topic #17 (0.017): 0.072*\"ノード\" + 0.031*\"node\" + 0.016*\"トランザクション\" + 0.015*\"FF\" + 0.013*\"red\" + 0.011*\"data\" + 0.011*\"1W\" + 0.010*\"E2\" + 0.010*\"Blockchain\" + 0.010*\"S1\"\n",
      "topic #48 (0.017): 0.044*\"計算\" + 0.035*\"問題\" + 0.020*\"値\" + 0.016*\"条件\" + 0.016*\"求める\" + 0.013*\"数値\" + 0.013*\"考える\" + 0.012*\"最大\" + 0.010*\"入力\" + 0.010*\"数字\"\n",
      "topic #9 (0.017): 0.088*\"画像\" + 0.018*\"座標\" + 0.013*\"描画\" + 0.012*\"カメラ\" + 0.009*\"回転\" + 0.008*\"色\" + 0.008*\"位置\" + 0.008*\"3D\" + 0.008*\"検出\" + 0.008*\"サイズ\"\n",
      "topic #51 (0.017): 0.079*\"プロセス\" + 0.047*\"flutter\" + 0.044*\"a.\" + 0.031*\"widget\" + 0.025*\"命令\" + 0.024*\"AND\" + 0.015*\"セクション\" + 0.013*\"parameter\" + 0.012*\"H.\" + 0.012*\"automation\"\n",
      "topic #37 (0.017): 0.097*\"仮想\" + 0.055*\"仮想マシン\" + 0.048*\"VM\" + 0.044*\"VirtualBox\" + 0.044*\"vagrant\" + 0.043*\"box\" + 0.042*\"移行\" + 0.036*\"ELIXIR\" + 0.035*\"map\" + 0.024*\"ゲスト\"\n",
      "topic diff=0.034273, rho=0.148456\n",
      "PROGRESS: pass 1, at document #72000/86748\n",
      "merging changes from 2000 documents into a model of 86748 documents\n",
      "topic #45 (0.017): 0.077*\"git\" + 0.065*\"GitHub\" + 0.050*\"コミット\" + 0.048*\"ブランチ\" + 0.048*\"リポジトリ\" + 0.024*\"PUSH\" + 0.019*\"Clone\" + 0.018*\"master\" + 0.017*\"マージ\" + 0.015*\"コマンド\"\n",
      "topic #37 (0.017): 0.093*\"仮想\" + 0.054*\"仮想マシン\" + 0.051*\"VirtualBox\" + 0.047*\"VM\" + 0.043*\"vagrant\" + 0.042*\"box\" + 0.041*\"移行\" + 0.033*\"ELIXIR\" + 0.032*\"map\" + 0.029*\"ゲスト\"\n",
      "topic #13 (0.017): 0.122*\"クラス\" + 0.091*\"メソッド\" + 0.064*\"オブジェクト\" + 0.038*\"実装\" + 0.027*\"インスタンス\" + 0.026*\"定義\" + 0.022*\"生成\" + 0.020*\"プロパティ\" + 0.016*\"継承\" + 0.011*\"呼び出す\"\n",
      "topic #42 (0.017): 0.069*\"テーブル\" + 0.041*\"データベース\" + 0.033*\"id\" + 0.032*\"データ\" + 0.031*\"SQL\" + 0.030*\"db\" + 0.026*\"削除\" + 0.024*\"レコード\" + 0.021*\"カラム\" + 0.017*\"更新\"\n",
      "topic #18 (0.017): 0.081*\"API\" + 0.042*\"リクエスト\" + 0.026*\"HTTP\" + 0.021*\"client\" + 0.020*\"送信\" + 0.019*\"取得\" + 0.016*\"レスポンス\" + 0.015*\"トークン\" + 0.015*\"実装\" + 0.015*\"JSON\"\n",
      "topic diff=0.035904, rho=0.148456\n",
      "PROGRESS: pass 1, at document #74000/86748\n",
      "merging changes from 2000 documents into a model of 86748 documents\n",
      "topic #40 (0.017): 0.051*\"ゲーム\" + 0.035*\"UNITY\" + 0.033*\"移動\" + 0.024*\"シーン\" + 0.019*\"位置\" + 0.019*\"フォント\" + 0.015*\"プレイヤー\" + 0.013*\"オブジェクト\" + 0.011*\"VR\" + 0.010*\"スクリプト\"\n",
      "topic #12 (0.017): 0.221*\"python\" + 0.046*\"py\" + 0.026*\"ライブラリ\" + 0.026*\"Django\" + 0.021*\"pip\" + 0.016*\"anaconda\" + 0.013*\"txt\" + 0.012*\"OpenCV\" + 0.010*\"インポート\" + 0.010*\"モジュール\"\n",
      "topic #22 (0.017): 0.072*\"動画\" + 0.058*\"単語\" + 0.039*\"再生\" + 0.027*\"音声\" + 0.024*\"文章\" + 0.020*\"YouTube\" + 0.013*\"音\" + 0.012*\"配信\" + 0.012*\"bi\" + 0.011*\"power\"\n",
      "topic #57 (0.017): 0.052*\"メッセージ\" + 0.036*\"タスク\" + 0.033*\"通知\" + 0.031*\"テンプレート\" + 0.025*\"lambda\" + 0.020*\"ジョブ\" + 0.016*\"トリガー\" + 0.015*\"カスタム\" + 0.014*\"関数\" + 0.013*\"イベント\"\n",
      "topic #47 (0.017): 0.027*\"要素\" + 0.026*\"セル\" + 0.024*\"色\" + 0.023*\"エクセル\" + 0.020*\"テキスト\" + 0.020*\"text\" + 0.018*\"幅\" + 0.017*\"PX\" + 0.016*\"PT\" + 0.016*\"シート\"\n",
      "topic diff=0.034482, rho=0.148456\n",
      "PROGRESS: pass 1, at document #76000/86748\n",
      "merging changes from 2000 documents into a model of 86748 documents\n",
      "topic #10 (0.017): 0.037*\"パッケージ\" + 0.034*\"ビルド\" + 0.033*\"バージョン\" + 0.031*\"ディレクトリ\" + 0.029*\"プロジェクト\" + 0.017*\"ライブラリ\" + 0.017*\"パス\" + 0.014*\"プラグイン\" + 0.012*\"生成\" + 0.011*\"導入\"\n",
      "topic #17 (0.017): 0.074*\"ノード\" + 0.031*\"node\" + 0.016*\"トランザクション\" + 0.013*\"red\" + 0.012*\"data\" + 0.011*\"ブロック\" + 0.011*\"E1\" + 0.011*\"FF\" + 0.010*\"E2\" + 0.009*\"SE\"\n",
      "topic #43 (0.017): 0.047*\"デプロイ\" + 0.032*\"CLOUD\" + 0.031*\"firebase\" + 0.023*\"プロジェクト\" + 0.020*\"アップロード\" + 0.019*\"Heroku\" + 0.018*\"app\" + 0.018*\"アプリ\" + 0.016*\"Google\" + 0.014*\"ローカル\"\n",
      "topic #13 (0.017): 0.123*\"クラス\" + 0.092*\"メソッド\" + 0.063*\"オブジェクト\" + 0.039*\"実装\" + 0.028*\"インスタンス\" + 0.026*\"定義\" + 0.022*\"生成\" + 0.020*\"プロパティ\" + 0.016*\"継承\" + 0.011*\"呼び出す\"\n",
      "topic #2 (0.017): 0.033*\"デバイス\" + 0.030*\"接続\" + 0.022*\"USB\" + 0.020*\"Raspberry Pi\" + 0.018*\"Arduino\" + 0.015*\"ボード\" + 0.014*\"PC\" + 0.014*\"LED\" + 0.013*\"ESP\" + 0.013*\"電源\"\n",
      "topic diff=0.031622, rho=0.148456\n",
      "PROGRESS: pass 1, at document #78000/86748\n",
      "merging changes from 2000 documents into a model of 86748 documents\n",
      "topic #52 (0.017): 0.016*\"投稿\" + 0.014*\"Twitter\" + 0.012*\"エンジニア\" + 0.011*\"Qiita\" + 0.008*\"参加\" + 0.007*\"いただく\" + 0.007*\"テーマ\" + 0.006*\"公開\" + 0.006*\"会社\" + 0.005*\"デザイン\"\n",
      "topic #18 (0.017): 0.080*\"API\" + 0.042*\"リクエスト\" + 0.027*\"HTTP\" + 0.023*\"client\" + 0.018*\"送信\" + 0.018*\"取得\" + 0.017*\"レスポンス\" + 0.015*\"実装\" + 0.014*\"トークン\" + 0.014*\"サーバ\"\n",
      "topic #37 (0.017): 0.096*\"仮想\" + 0.058*\"仮想マシン\" + 0.051*\"移行\" + 0.050*\"VirtualBox\" + 0.046*\"VM\" + 0.041*\"box\" + 0.040*\"vagrant\" + 0.028*\"kintone\" + 0.027*\"ELIXIR\" + 0.027*\"ゲスト\"\n",
      "topic #32 (0.017): 0.066*\"選択\" + 0.056*\"クリック\" + 0.053*\"画面\" + 0.041*\"入力\" + 0.039*\"ボタン\" + 0.031*\"押す\" + 0.023*\"開く\" + 0.019*\"キー\" + 0.014*\"メニュー\" + 0.013*\"タブ\"\n",
      "topic #30 (0.017): 0.025*\"機能\" + 0.023*\"対応\" + 0.022*\"サポート\" + 0.015*\"提供\" + 0.013*\"可能\" + 0.012*\"リリース\" + 0.012*\"サービス\" + 0.011*\"無料\" + 0.009*\"CROWD\" + 0.008*\"導入\"\n",
      "topic diff=0.032340, rho=0.148456\n",
      "-11.595 per-word bound, 3093.0 perplexity estimate based on a held-out corpus of 2000 documents with 338404 words\n",
      "PROGRESS: pass 1, at document #80000/86748\n",
      "merging changes from 2000 documents into a model of 86748 documents\n",
      "topic #10 (0.017): 0.038*\"パッケージ\" + 0.033*\"ビルド\" + 0.032*\"ディレクトリ\" + 0.032*\"バージョン\" + 0.030*\"プロジェクト\" + 0.017*\"パス\" + 0.017*\"ライブラリ\" + 0.016*\"プラグイン\" + 0.013*\"生成\" + 0.010*\"導入\"\n",
      "topic #11 (0.017): 0.061*\"()\" + 0.051*\"引数\" + 0.042*\"文字列\" + 0.041*\"値\" + 0.030*\"返す\" + 0.028*\"取得\" + 0.024*\"メソッド\" + 0.022*\"渡す\" + 0.016*\"TRUE\" + 0.015*\"入力\"\n",
      "topic #40 (0.017): 0.050*\"ゲーム\" + 0.038*\"UNITY\" + 0.033*\"移動\" + 0.022*\"位置\" + 0.020*\"フォント\" + 0.020*\"シーン\" + 0.015*\"プレイヤー\" + 0.013*\"オブジェクト\" + 0.012*\"VR\" + 0.012*\"スクリプト\"\n",
      "topic #35 (0.017): 0.018*\"関数\" + 0.016*\"計算\" + 0.014*\"frac\" + 0.013*\"ベクトル\" + 0.013*\"行列\" + 0.012*\"確率\" + 0.012*\"分布\" + 0.012*\"theta\" + 0.011*\"求める\" + 0.011*\"boldsymbol\"\n",
      "topic #12 (0.017): 0.220*\"python\" + 0.045*\"py\" + 0.030*\"Django\" + 0.027*\"ライブラリ\" + 0.021*\"pip\" + 0.014*\"anaconda\" + 0.012*\"txt\" + 0.011*\"仮想\" + 0.011*\"OpenCV\" + 0.010*\"pyenv\"\n",
      "topic diff=0.031332, rho=0.148456\n",
      "PROGRESS: pass 1, at document #82000/86748\n",
      "merging changes from 2000 documents into a model of 86748 documents\n",
      "topic #42 (0.017): 0.071*\"テーブル\" + 0.039*\"データベース\" + 0.033*\"SQL\" + 0.032*\"id\" + 0.031*\"データ\" + 0.031*\"db\" + 0.026*\"削除\" + 0.025*\"レコード\" + 0.022*\"カラム\" + 0.016*\"クエリ\"\n",
      "topic #56 (0.017): 0.081*\"接続\" + 0.039*\"ネットワーク\" + 0.037*\"サーバー\" + 0.031*\"ポート\" + 0.027*\"IP\" + 0.026*\"IPアドレス\" + 0.025*\"通信\" + 0.016*\"アドレス\" + 0.016*\"番号\" + 0.014*\"ホスト\"\n",
      "topic #15 (0.017): 0.020*\"評価\" + 0.013*\"情報\" + 0.013*\"攻撃\" + 0.013*\"価格\" + 0.011*\"対策\" + 0.008*\"ユニット\" + 0.007*\"金額\" + 0.007*\"注文\" + 0.007*\"期間\" + 0.007*\"判断\"\n",
      "topic #26 (0.017): 0.061*\"Kubernetes\" + 0.039*\"クラスタ\" + 0.036*\"修正\" + 0.033*\"pod\" + 0.019*\"YAML\" + 0.016*\"cluster\" + 0.016*\"削除\" + 0.015*\"FLAG\" + 0.013*\"namespace\" + 0.012*\"context\"\n",
      "topic #28 (0.017): 0.083*\"AWS\" + 0.042*\"サービス\" + 0.039*\"インスタンス\" + 0.027*\"EC2\" + 0.025*\"リソース\" + 0.023*\"S3\" + 0.017*\"Amazon\" + 0.017*\"iam\" + 0.013*\"ポリシー\" + 0.013*\"CLOUD\"\n",
      "topic diff=0.031494, rho=0.148456\n",
      "PROGRESS: pass 1, at document #84000/86748\n"
     ]
    },
    {
     "name": "stderr",
     "output_type": "stream",
     "text": [
      "merging changes from 2000 documents into a model of 86748 documents\n",
      "topic #21 (0.017): 0.118*\"モジュール\" + 0.047*\"typescript\" + 0.027*\"import\" + 0.027*\"TS\" + 0.020*\"module\" + 0.018*\"ピン\" + 0.018*\"webpack\" + 0.017*\"V2\" + 0.016*\"ES\" + 0.014*\"ST\"\n",
      "topic #57 (0.017): 0.047*\"タスク\" + 0.046*\"メッセージ\" + 0.035*\"通知\" + 0.033*\"テンプレート\" + 0.025*\"lambda\" + 0.020*\"ジョブ\" + 0.016*\"トリガー\" + 0.013*\"フロー\" + 0.013*\"関数\" + 0.013*\"カスタム\"\n",
      "topic #40 (0.017): 0.055*\"ゲーム\" + 0.038*\"UNITY\" + 0.032*\"移動\" + 0.023*\"フォント\" + 0.020*\"位置\" + 0.017*\"シーン\" + 0.014*\"オブジェクト\" + 0.013*\"スクリプト\" + 0.013*\"プレイヤー\" + 0.011*\"MATLAB\"\n",
      "topic #33 (0.017): 0.202*\"出力\" + 0.104*\"ログ\" + 0.033*\"log\" + 0.028*\"標準\" + 0.022*\"監視\" + 0.018*\"デバッグ\" + 0.015*\"レベル\" + 0.014*\"コンソール\" + 0.013*\"C#\" + 0.009*\"情報\"\n",
      "topic #12 (0.017): 0.221*\"python\" + 0.044*\"py\" + 0.028*\"Django\" + 0.028*\"ライブラリ\" + 0.020*\"pip\" + 0.013*\"anaconda\" + 0.013*\"OpenCV\" + 0.012*\"インポート\" + 0.011*\"仮想\" + 0.010*\"txt\"\n",
      "topic diff=0.031108, rho=0.148456\n",
      "PROGRESS: pass 1, at document #86000/86748\n",
      "merging changes from 2000 documents into a model of 86748 documents\n",
      "topic #48 (0.017): 0.048*\"計算\" + 0.040*\"問題\" + 0.018*\"値\" + 0.018*\"条件\" + 0.015*\"求める\" + 0.013*\"数値\" + 0.012*\"最大\" + 0.011*\"考える\" + 0.010*\"アルゴリズム\" + 0.010*\"入力\"\n",
      "topic #27 (0.017): 0.032*\"暗号\" + 0.028*\"暗号化\" + 0.027*\"方式\" + 0.024*\"株式会社\" + 0.023*\"鍵\" + 0.023*\"生成\" + 0.022*\"バイト\" + 0.022*\"商品\" + 0.021*\"署名\" + 0.020*\"ハッシュ\"\n",
      "topic #22 (0.017): 0.072*\"動画\" + 0.059*\"単語\" + 0.035*\"再生\" + 0.031*\"音声\" + 0.022*\"文章\" + 0.021*\"YouTube\" + 0.019*\"MeCab\" + 0.018*\"power\" + 0.016*\"辞書\" + 0.014*\"音\"\n",
      "topic #31 (0.017): 0.023*\"理解\" + 0.022*\"勉強\" + 0.017*\"読む\" + 0.017*\"学習\" + 0.016*\"知識\" + 0.014*\"プログラミング\" + 0.014*\"問題\" + 0.014*\"学ぶ\" + 0.012*\"内容\" + 0.012*\"試験\"\n",
      "topic #53 (0.017): 0.017*\"チーム\" + 0.012*\"作業\" + 0.011*\"課題\" + 0.010*\"メンバー\" + 0.010*\"プロダクト\" + 0.009*\"考える\" + 0.009*\"開発\" + 0.008*\"レビュー\" + 0.007*\"プロジェクト\" + 0.007*\"組織\"\n",
      "topic diff=0.030492, rho=0.148456\n",
      "-11.470 per-word bound, 2837.2 perplexity estimate based on a held-out corpus of 748 documents with 129006 words\n",
      "PROGRESS: pass 1, at document #86748/86748\n",
      "merging changes from 748 documents into a model of 86748 documents\n",
      "topic #31 (0.017): 0.021*\"理解\" + 0.021*\"勉強\" + 0.017*\"読む\" + 0.016*\"学習\" + 0.016*\"学ぶ\" + 0.015*\"知識\" + 0.014*\"プログラミング\" + 0.013*\"問題\" + 0.012*\"内容\" + 0.011*\"本\"\n",
      "topic #11 (0.017): 0.065*\"()\" + 0.048*\"引数\" + 0.043*\"値\" + 0.040*\"文字列\" + 0.031*\"返す\" + 0.030*\"取得\" + 0.024*\"メソッド\" + 0.023*\"渡す\" + 0.019*\"TRUE\" + 0.016*\"False\"\n",
      "topic #21 (0.017): 0.114*\"モジュール\" + 0.044*\"typescript\" + 0.026*\"TS\" + 0.026*\"import\" + 0.022*\"module\" + 0.020*\"webpack\" + 0.019*\"ピン\" + 0.018*\"モード\" + 0.018*\"ES\" + 0.015*\"ST\"\n",
      "topic #3 (0.017): 0.083*\"変換\" + 0.045*\"形式\" + 0.032*\"JSON\" + 0.024*\"日付\" + 0.022*\"フォーマット\" + 0.015*\"時刻\" + 0.013*\"読み込む\" + 0.013*\"圧縮\" + 0.012*\"出力\" + 0.012*\"文字列\"\n",
      "topic #23 (0.017): 0.061*\"文字\" + 0.025*\"文字列\" + 0.014*\"コメント\" + 0.013*\"意味\" + 0.013*\"改行\" + 0.012*\"スペース\" + 0.010*\"数字\" + 0.010*\"正規表現\" + 0.010*\"書き方\" + 0.009*\"パターン\"\n",
      "topic diff=0.040948, rho=0.148456\n",
      "PROGRESS: pass 2, at document #2000/86748\n",
      "merging changes from 2000 documents into a model of 86748 documents\n",
      "topic #25 (0.017): 0.127*\"アプリ\" + 0.036*\"ANDROID\" + 0.026*\"bot\" + 0.024*\"iOS\" + 0.020*\"Xcode\" + 0.020*\"LINE\" + 0.013*\"STEP\" + 0.013*\"app\" + 0.013*\"Apple\" + 0.012*\"画面\"\n",
      "topic #28 (0.017): 0.084*\"AWS\" + 0.045*\"サービス\" + 0.036*\"インスタンス\" + 0.028*\"リソース\" + 0.024*\"EC2\" + 0.022*\"S3\" + 0.018*\"Amazon\" + 0.016*\"iam\" + 0.015*\"service\" + 0.015*\"ポリシー\"\n",
      "topic #46 (0.017): 0.020*\"システム\" + 0.010*\"設計\" + 0.009*\"機能\" + 0.008*\"可能\" + 0.007*\"考える\" + 0.007*\"コスト\" + 0.006*\"持つ\" + 0.006*\"実現\" + 0.006*\"高い\" + 0.006*\"ソフトウェア\"\n",
      "topic #19 (0.017): 0.090*\"開発\" + 0.042*\"ツール\" + 0.039*\"言語\" + 0.032*\"機能\" + 0.024*\"プロジェクト\" + 0.023*\"FRAMeWORK\" + 0.019*\"管理\" + 0.017*\"アプリケーション\" + 0.015*\"web\" + 0.013*\"日本語\"\n",
      "topic #27 (0.017): 0.034*\"暗号\" + 0.026*\"署名\" + 0.026*\"暗号化\" + 0.024*\"方式\" + 0.023*\"商品\" + 0.022*\"鍵\" + 0.021*\"生成\" + 0.020*\"株式会社\" + 0.018*\"バイト\" + 0.018*\"ハッシュ\"\n",
      "topic diff=0.039159, rho=0.146846\n",
      "PROGRESS: pass 2, at document #4000/86748\n",
      "merging changes from 2000 documents into a model of 86748 documents\n",
      "topic #29 (0.017): 0.022*\"状態\" + 0.018*\"ロボット\" + 0.014*\"計算\" + 0.012*\"図\" + 0.010*\"量子\" + 0.009*\"ゲート\" + 0.009*\"測定\" + 0.009*\"シミュレーション\" + 0.008*\"制御\" + 0.007*\"呼ぶ\"\n",
      "topic #32 (0.017): 0.066*\"選択\" + 0.058*\"クリック\" + 0.054*\"画面\" + 0.042*\"ボタン\" + 0.041*\"入力\" + 0.031*\"押す\" + 0.023*\"開く\" + 0.019*\"キー\" + 0.015*\"メニュー\" + 0.012*\"タブ\"\n",
      "topic #3 (0.017): 0.089*\"変換\" + 0.045*\"形式\" + 0.031*\"JSON\" + 0.023*\"日付\" + 0.021*\"フォーマット\" + 0.015*\"圧縮\" + 0.014*\"読み込む\" + 0.014*\"時刻\" + 0.012*\"出力\" + 0.012*\"date\"\n",
      "topic #43 (0.017): 0.046*\"デプロイ\" + 0.028*\"CLOUD\" + 0.026*\"firebase\" + 0.023*\"アップロード\" + 0.023*\"プロジェクト\" + 0.019*\"Heroku\" + 0.018*\"app\" + 0.017*\"Google\" + 0.017*\"アプリ\" + 0.015*\"ローカル\"\n",
      "topic #41 (0.017): 0.057*\"JS\" + 0.041*\"HTML\" + 0.032*\"タグ\" + 0.029*\"CSS\" + 0.029*\"JavaScript\" + 0.028*\"Vue\" + 0.019*\"Re・Act\" + 0.013*\"要素\" + 0.012*\"記述\" + 0.012*\"ページ\"\n",
      "topic diff=0.030941, rho=0.146846\n",
      "PROGRESS: pass 2, at document #6000/86748\n",
      "merging changes from 2000 documents into a model of 86748 documents\n",
      "topic #49 (0.017): 0.023*\"ん\" + 0.022*\"いい\" + 0.016*\"言う\" + 0.013*\"くれる\" + 0.011*\"いう\" + 0.010*\"しれる\" + 0.009*\"入れる\" + 0.009*\"分かる\" + 0.009*\"動く\" + 0.008*\"考える\"\n",
      "topic #51 (0.017): 0.075*\"プロセス\" + 0.056*\"flutter\" + 0.042*\"a.\" + 0.031*\"widget\" + 0.020*\"命令\" + 0.020*\"AND\" + 0.014*\"H.\" + 0.012*\"LOGiC\" + 0.011*\"dart\" + 0.011*\"セクション\"\n",
      "topic #2 (0.017): 0.040*\"デバイス\" + 0.030*\"接続\" + 0.023*\"USB\" + 0.022*\"Raspberry Pi\" + 0.019*\"Arduino\" + 0.016*\"電源\" + 0.014*\"センサ\" + 0.013*\"PC\" + 0.013*\"LED\" + 0.012*\"信号\"\n",
      "topic #18 (0.017): 0.077*\"API\" + 0.041*\"リクエスト\" + 0.027*\"HTTP\" + 0.025*\"client\" + 0.019*\"トークン\" + 0.018*\"レスポンス\" + 0.016*\"取得\" + 0.016*\"実装\" + 0.015*\"送信\" + 0.014*\"URL\"\n",
      "topic #35 (0.017): 0.019*\"関数\" + 0.016*\"行列\" + 0.016*\"計算\" + 0.012*\"確率\" + 0.012*\"frac\" + 0.012*\"用いる\" + 0.011*\"ベクトル\" + 0.011*\"求める\" + 0.011*\"theta\" + 0.010*\"分布\"\n",
      "topic diff=0.028947, rho=0.146846\n",
      "PROGRESS: pass 2, at document #8000/86748\n",
      "merging changes from 2000 documents into a model of 86748 documents\n",
      "topic #36 (0.017): 0.093*\"グループ\" + 0.044*\"ルール\" + 0.041*\"ルート\" + 0.036*\"VPC\" + 0.028*\"タイプ\" + 0.024*\"Cluster\" + 0.023*\"サブネット\" + 0.020*\"セキュリティ\" + 0.019*\"Redis\" + 0.016*\"インスタンス\"\n",
      "topic #37 (0.017): 0.105*\"仮想\" + 0.076*\"仮想マシン\" + 0.059*\"移行\" + 0.052*\"VM\" + 0.048*\"VirtualBox\" + 0.043*\"vagrant\" + 0.034*\"kintone\" + 0.033*\"box\" + 0.028*\"ELIXIR\" + 0.026*\"ゲスト\"\n",
      "topic #33 (0.017): 0.212*\"出力\" + 0.108*\"ログ\" + 0.029*\"log\" + 0.027*\"標準\" + 0.021*\"監視\" + 0.017*\"デバッグ\" + 0.014*\"レベル\" + 0.012*\"コンソール\" + 0.010*\"C#\" + 0.009*\"情報\"\n",
      "topic #21 (0.017): 0.108*\"モジュール\" + 0.042*\"typescript\" + 0.024*\"import\" + 0.024*\"TS\" + 0.022*\"module\" + 0.021*\"webpack\" + 0.020*\"ES\" + 0.018*\"モード\" + 0.017*\"ピン\" + 0.014*\"babel\"\n",
      "topic #34 (0.017): 0.045*\"サーバ\" + 0.041*\"SSH\" + 0.039*\"AZURE\" + 0.033*\"ドメイン\" + 0.023*\"認証\" + 0.022*\"証明書\" + 0.017*\"接続\" + 0.016*\"アクセス\" + 0.015*\"SSL\" + 0.015*\"DNS\"\n",
      "topic diff=0.027663, rho=0.146846\n",
      "PROGRESS: pass 2, at document #10000/86748\n",
      "merging changes from 2000 documents into a model of 86748 documents\n",
      "topic #3 (0.017): 0.087*\"変換\" + 0.043*\"形式\" + 0.031*\"JSON\" + 0.022*\"日付\" + 0.020*\"フォーマット\" + 0.014*\"読み込む\" + 0.014*\"圧縮\" + 0.014*\"時刻\" + 0.012*\"出力\" + 0.011*\"文字列\"\n",
      "topic #4 (0.017): 0.056*\"モデル\" + 0.047*\"学習\" + 0.015*\"予測\" + 0.015*\"機械学習\" + 0.015*\"データ\" + 0.014*\"精度\" + 0.014*\"分類\" + 0.012*\"特徴\" + 0.011*\"論文\" + 0.011*\"GPU\"\n",
      "topic #0 (0.017): 0.095*\"java\" + 0.061*\"コンパイル\" + 0.057*\"C++\" + 0.045*\"spring\" + 0.031*\".S\" + 0.027*\"main\" + 0.025*\"BOOT\" + 0.021*\"コンパイラ\" + 0.017*\"OPEN\" + 0.017*\"oci\"\n",
      "topic #45 (0.017): 0.088*\"git\" + 0.074*\"GitHub\" + 0.057*\"リポジトリ\" + 0.043*\"ブランチ\" + 0.036*\"コミット\" + 0.026*\"PUSH\" + 0.020*\"Clone\" + 0.017*\"master\" + 0.016*\"作業\" + 0.016*\"マージ\"\n",
      "topic #39 (0.017): 0.164*\"プログラム\" + 0.039*\"解析\" + 0.032*\"ver\" + 0.032*\"いいね\" + 0.026*\"文書\" + 0.015*\"資料\" + 0.015*\"言語処理\" + 0.014*\"追記\" + 0.014*\"document\" + 0.013*\"記録\"\n",
      "topic diff=0.026473, rho=0.146846\n",
      "PROGRESS: pass 2, at document #12000/86748\n",
      "merging changes from 2000 documents into a model of 86748 documents\n",
      "topic #46 (0.017): 0.019*\"システム\" + 0.011*\"設計\" + 0.009*\"機能\" + 0.008*\"可能\" + 0.008*\"考える\" + 0.007*\"持つ\" + 0.007*\"コスト\" + 0.006*\"高い\" + 0.006*\"アプリケーション\" + 0.006*\"実現\"\n",
      "topic #43 (0.017): 0.045*\"デプロイ\" + 0.027*\"firebase\" + 0.026*\"CLOUD\" + 0.023*\"アップロード\" + 0.022*\"プロジェクト\" + 0.020*\"Heroku\" + 0.018*\"app\" + 0.016*\"アプリ\" + 0.016*\"Google\" + 0.015*\"ローカル\"\n",
      "topic #37 (0.017): 0.103*\"仮想\" + 0.069*\"仮想マシン\" + 0.059*\"VM\" + 0.053*\"移行\" + 0.045*\"VirtualBox\" + 0.045*\"vagrant\" + 0.038*\"box\" + 0.027*\"ELIXIR\" + 0.026*\"kintone\" + 0.024*\"ゲスト\"\n"
     ]
    },
    {
     "name": "stderr",
     "output_type": "stream",
     "text": [
      "topic #15 (0.017): 0.018*\"評価\" + 0.014*\"対策\" + 0.013*\"攻撃\" + 0.013*\"情報\" + 0.011*\"価格\" + 0.007*\"注文\" + 0.007*\"判断\" + 0.007*\"期間\" + 0.007*\"ユニット\" + 0.007*\"取引\"\n",
      "topic #24 (0.017): 0.164*\"PHP\" + 0.092*\"rails\" + 0.063*\"RUBY\" + 0.057*\"laravel\" + 0.039*\"gem\" + 0.025*\"RuBy\" + 0.022*\"composer\" + 0.020*\"Elasticsearch\" + 0.019*\"バージョン\" + 0.017*\"gemfile\"\n",
      "topic diff=0.030043, rho=0.146846\n",
      "PROGRESS: pass 2, at document #14000/86748\n",
      "merging changes from 2000 documents into a model of 86748 documents\n",
      "topic #6 (0.017): 0.255*\"テスト\" + 0.038*\"test\" + 0.029*\"SLACK\" + 0.024*\"CI\" + 0.016*\"自動\" + 0.016*\"チェック\" + 0.015*\"検証\" + 0.013*\"対象\" + 0.011*\"失敗\" + 0.008*\"修正\"\n",
      "topic #28 (0.017): 0.081*\"AWS\" + 0.049*\"サービス\" + 0.037*\"インスタンス\" + 0.028*\"リソース\" + 0.024*\"S3\" + 0.021*\"EC2\" + 0.019*\"Amazon\" + 0.016*\"CLOUD\" + 0.015*\"iam\" + 0.014*\"ポリシー\"\n",
      "topic #36 (0.017): 0.092*\"グループ\" + 0.043*\"ルール\" + 0.038*\"ルート\" + 0.032*\"VPC\" + 0.026*\"サブネット\" + 0.025*\"タイプ\" + 0.019*\"セキュリティ\" + 0.019*\"Cluster\" + 0.017*\"インスタンス\" + 0.016*\"Redis\"\n",
      "topic #50 (0.017): 0.116*\"コマンド\" + 0.042*\"起動\" + 0.022*\"ディレクトリ\" + 0.019*\"オプション\" + 0.018*\"Linux\" + 0.014*\"ターミナル\" + 0.012*\"Ubuntu\" + 0.011*\"OS\" + 0.008*\"スクリプト\" + 0.008*\"vim\"\n",
      "topic #33 (0.017): 0.222*\"出力\" + 0.107*\"ログ\" + 0.029*\"標準\" + 0.028*\"log\" + 0.019*\"監視\" + 0.017*\"デバッグ\" + 0.013*\"レベル\" + 0.013*\"コンソール\" + 0.010*\"情報\" + 0.009*\"C#\"\n",
      "topic diff=0.029737, rho=0.146846\n",
      "PROGRESS: pass 2, at document #16000/86748\n",
      "merging changes from 2000 documents into a model of 86748 documents\n",
      "topic #40 (0.017): 0.055*\"ゲーム\" + 0.044*\"UNITY\" + 0.028*\"移動\" + 0.020*\"位置\" + 0.018*\"フォント\" + 0.018*\"シーン\" + 0.015*\"オブジェクト\" + 0.015*\"プレイヤー\" + 0.013*\"スクリプト\" + 0.011*\"font\"\n",
      "topic #48 (0.017): 0.053*\"計算\" + 0.037*\"問題\" + 0.019*\"条件\" + 0.017*\"値\" + 0.015*\"求める\" + 0.013*\"考える\" + 0.012*\"アルゴリズム\" + 0.012*\"最大\" + 0.011*\"入力\" + 0.011*\"数値\"\n",
      "topic #1 (0.017): 0.090*\"関数\" + 0.046*\"変数\" + 0.039*\"定義\" + 0.033*\"型\" + 0.023*\"値\" + 0.018*\"引数\" + 0.014*\"参照\" + 0.012*\"宣言\" + 0.009*\"代入\" + 0.008*\"実装\"\n",
      "topic #55 (0.017): 0.080*\"配列\" + 0.070*\"要素\" + 0.059*\"リスト\" + 0.020*\"インデックス\" + 0.019*\"list\" + 0.017*\"値\" + 0.016*\"ソート\" + 0.015*\"array\" + 0.015*\"int\" + 0.014*\"string\"\n",
      "topic #3 (0.017): 0.087*\"変換\" + 0.043*\"形式\" + 0.031*\"JSON\" + 0.020*\"フォーマット\" + 0.020*\"日付\" + 0.014*\"時刻\" + 0.014*\"読み込む\" + 0.013*\"圧縮\" + 0.012*\"マクロ\" + 0.012*\"文字列\"\n",
      "topic diff=0.025375, rho=0.146846\n",
      "PROGRESS: pass 2, at document #18000/86748\n",
      "merging changes from 2000 documents into a model of 86748 documents\n",
      "topic #5 (0.017): 0.048*\"登録\" + 0.045*\"ユーザー\" + 0.044*\"情報\" + 0.035*\"ユーザ\" + 0.030*\"アカウント\" + 0.026*\"取得\" + 0.021*\"認証\" + 0.020*\"id\" + 0.019*\"サービス\" + 0.019*\"管理\"\n",
      "topic #54 (0.017): 0.044*\"windows\" + 0.040*\"ダウンロード\" + 0.029*\"Folder\" + 0.026*\"起動\" + 0.019*\"開く\" + 0.014*\"VSCode\" + 0.011*\"MAC\" + 0.010*\"PC\" + 0.009*\"exe\" + 0.009*\"手順\"\n",
      "topic #38 (0.017): 0.050*\"状態\" + 0.043*\"コンポーネント\" + 0.041*\"イベント\" + 0.032*\"遷移\" + 0.024*\"実装\" + 0.018*\"更新\" + 0.017*\"VIEW\" + 0.016*\"UI\" + 0.015*\"state\" + 0.014*\"画面\"\n",
      "topic #9 (0.017): 0.084*\"画像\" + 0.016*\"座標\" + 0.012*\"描画\" + 0.011*\"カメラ\" + 0.011*\"検出\" + 0.009*\"色\" + 0.008*\"回転\" + 0.008*\"サイズ\" + 0.008*\"位置\" + 0.008*\"部分\"\n",
      "topic #30 (0.017): 0.023*\"機能\" + 0.022*\"対応\" + 0.020*\"サポート\" + 0.016*\"提供\" + 0.014*\"可能\" + 0.013*\"サービス\" + 0.013*\"リリース\" + 0.011*\"無料\" + 0.009*\"CROWD\" + 0.009*\"導入\"\n",
      "topic diff=0.027958, rho=0.146846\n",
      "-11.524 per-word bound, 2945.7 perplexity estimate based on a held-out corpus of 2000 documents with 340515 words\n",
      "PROGRESS: pass 2, at document #20000/86748\n",
      "merging changes from 2000 documents into a model of 86748 documents\n",
      "topic #54 (0.017): 0.044*\"windows\" + 0.041*\"ダウンロード\" + 0.029*\"Folder\" + 0.026*\"起動\" + 0.018*\"開く\" + 0.015*\"VSCode\" + 0.011*\"MAC\" + 0.010*\"PC\" + 0.010*\"手順\" + 0.009*\"exe\"\n",
      "topic #11 (0.017): 0.065*\"()\" + 0.054*\"引数\" + 0.045*\"値\" + 0.036*\"文字列\" + 0.033*\"返す\" + 0.031*\"取得\" + 0.024*\"メソッド\" + 0.024*\"渡す\" + 0.019*\"TRUE\" + 0.014*\"False\"\n",
      "topic #49 (0.017): 0.023*\"いい\" + 0.022*\"ん\" + 0.014*\"言う\" + 0.013*\"くれる\" + 0.012*\"いう\" + 0.010*\"しれる\" + 0.009*\"分かる\" + 0.009*\"入れる\" + 0.009*\"動く\" + 0.009*\"簡単\"\n",
      "topic #2 (0.017): 0.033*\"デバイス\" + 0.032*\"接続\" + 0.027*\"USB\" + 0.024*\"Raspberry Pi\" + 0.020*\"Arduino\" + 0.014*\"LED\" + 0.014*\"電源\" + 0.014*\"PC\" + 0.012*\"スイッチ\" + 0.012*\"ESP\"\n",
      "topic #40 (0.017): 0.056*\"ゲーム\" + 0.042*\"UNITY\" + 0.026*\"移動\" + 0.020*\"位置\" + 0.019*\"フォント\" + 0.016*\"シーン\" + 0.015*\"オブジェクト\" + 0.015*\"プレイヤー\" + 0.013*\"スクリプト\" + 0.011*\"敵\"\n",
      "topic diff=0.028195, rho=0.146846\n",
      "PROGRESS: pass 2, at document #22000/86748\n",
      "merging changes from 2000 documents into a model of 86748 documents\n",
      "topic #40 (0.017): 0.058*\"ゲーム\" + 0.043*\"UNITY\" + 0.025*\"移動\" + 0.021*\"位置\" + 0.017*\"フォント\" + 0.016*\"シーン\" + 0.015*\"オブジェクト\" + 0.015*\"プレイヤー\" + 0.013*\"スクリプト\" + 0.010*\"敵\"\n",
      "topic #47 (0.017): 0.026*\"セル\" + 0.024*\"要素\" + 0.021*\"色\" + 0.020*\"text\" + 0.019*\"テキスト\" + 0.019*\"位置\" + 0.018*\"幅\" + 0.017*\"シート\" + 0.017*\"サイズ\" + 0.017*\"エクセル\"\n",
      "topic #28 (0.017): 0.078*\"AWS\" + 0.045*\"サービス\" + 0.037*\"インスタンス\" + 0.028*\"S3\" + 0.024*\"リソース\" + 0.021*\"EC2\" + 0.019*\"Amazon\" + 0.016*\"CLOUD\" + 0.014*\"iam\" + 0.014*\"service\"\n",
      "topic #44 (0.017): 0.228*\"データ\" + 0.027*\"取得\" + 0.021*\"グラフ\" + 0.020*\"分析\" + 0.019*\"CSV\" + 0.013*\"情報\" + 0.010*\"抽出\" + 0.009*\"集計\" + 0.007*\"pandas\" + 0.007*\"data\"\n",
      "topic #29 (0.017): 0.026*\"量子\" + 0.022*\"状態\" + 0.018*\"ゲート\" + 0.018*\"計算\" + 0.016*\"量子ビット\" + 0.014*\"量子コンピュータ\" + 0.011*\"図\" + 0.011*\"測定\" + 0.010*\"表現\" + 0.010*\"回路\"\n",
      "topic diff=0.031306, rho=0.146846\n",
      "PROGRESS: pass 2, at document #24000/86748\n",
      "merging changes from 2000 documents into a model of 86748 documents\n",
      "topic #11 (0.017): 0.067*\"()\" + 0.054*\"引数\" + 0.047*\"値\" + 0.035*\"文字列\" + 0.032*\"返す\" + 0.032*\"取得\" + 0.024*\"渡す\" + 0.024*\"メソッド\" + 0.018*\"TRUE\" + 0.014*\"False\"\n",
      "topic #13 (0.017): 0.111*\"クラス\" + 0.095*\"メソッド\" + 0.068*\"オブジェクト\" + 0.041*\"実装\" + 0.026*\"定義\" + 0.025*\"インスタンス\" + 0.022*\"生成\" + 0.021*\"プロパティ\" + 0.015*\"継承\" + 0.013*\"呼び出す\"\n",
      "topic #54 (0.017): 0.044*\"windows\" + 0.039*\"ダウンロード\" + 0.029*\"Folder\" + 0.026*\"起動\" + 0.018*\"開く\" + 0.016*\"VSCode\" + 0.011*\"MAC\" + 0.010*\"PC\" + 0.010*\"手順\" + 0.009*\"exe\"\n",
      "topic #43 (0.017): 0.046*\"デプロイ\" + 0.030*\"CLOUD\" + 0.028*\"firebase\" + 0.024*\"アップロード\" + 0.022*\"プロジェクト\" + 0.018*\"Heroku\" + 0.017*\"Google\" + 0.016*\"アプリ\" + 0.016*\"ローカル\" + 0.016*\"app\"\n",
      "topic #17 (0.017): 0.083*\"ノード\" + 0.031*\"node\" + 0.025*\"Blockchain\" + 0.020*\"ブロック\" + 0.016*\"トランザクション\" + 0.014*\"red\" + 0.010*\"E2\" + 0.010*\"data\" + 0.010*\"SE\" + 0.009*\"max\"\n",
      "topic diff=0.025217, rho=0.146846\n",
      "PROGRESS: pass 2, at document #26000/86748\n",
      "merging changes from 2000 documents into a model of 86748 documents\n",
      "topic #45 (0.017): 0.078*\"git\" + 0.070*\"GitHub\" + 0.058*\"リポジトリ\" + 0.045*\"ブランチ\" + 0.041*\"コミット\" + 0.025*\"PUSH\" + 0.020*\"Clone\" + 0.016*\"master\" + 0.016*\"作業\" + 0.015*\"マージ\"\n",
      "topic #43 (0.017): 0.046*\"デプロイ\" + 0.029*\"CLOUD\" + 0.029*\"firebase\" + 0.024*\"アップロード\" + 0.022*\"プロジェクト\" + 0.019*\"Heroku\" + 0.017*\"Google\" + 0.017*\"アプリ\" + 0.017*\"ローカル\" + 0.016*\"app\"\n",
      "topic #30 (0.017): 0.023*\"機能\" + 0.023*\"対応\" + 0.019*\"サポート\" + 0.017*\"提供\" + 0.014*\"可能\" + 0.013*\"サービス\" + 0.012*\"リリース\" + 0.011*\"無料\" + 0.010*\"CROWD\" + 0.008*\"導入\"\n",
      "topic #46 (0.017): 0.018*\"システム\" + 0.012*\"設計\" + 0.010*\"機能\" + 0.008*\"可能\" + 0.008*\"考える\" + 0.007*\"アプリケーション\" + 0.007*\"持つ\" + 0.006*\"実現\" + 0.006*\"高い\" + 0.006*\"コスト\"\n",
      "topic #32 (0.017): 0.064*\"選択\" + 0.057*\"画面\" + 0.056*\"クリック\" + 0.043*\"入力\" + 0.041*\"ボタン\" + 0.031*\"押す\" + 0.023*\"開く\" + 0.021*\"キー\" + 0.015*\"メニュー\" + 0.012*\"タブ\"\n",
      "topic diff=0.023741, rho=0.146846\n",
      "PROGRESS: pass 2, at document #28000/86748\n",
      "merging changes from 2000 documents into a model of 86748 documents\n",
      "topic #21 (0.017): 0.105*\"モジュール\" + 0.046*\"typescript\" + 0.031*\"module\" + 0.025*\"import\" + 0.021*\"TS\" + 0.019*\"ES\" + 0.018*\"webpack\" + 0.016*\"モード\" + 0.015*\"ST\" + 0.015*\"ピン\"\n",
      "topic #58 (0.017): 0.060*\"TO\" + 0.043*\"AND\" + 0.032*\"IS\" + 0.022*\"ON\" + 0.016*\"YOU\" + 0.016*\"WITH\" + 0.014*\"BY\" + 0.011*\"It\" + 0.008*\"ING\" + 0.007*\"WILL\"\n",
      "topic #20 (0.017): 0.037*\"ログイン\" + 0.031*\"user\" + 0.029*\"ユーザー\" + 0.023*\"パスワード\" + 0.020*\"モデル\" + 0.017*\"フォーム\" + 0.015*\"機能\" + 0.015*\"rails\" + 0.015*\"実装\" + 0.013*\"controller\"\n",
      "topic #34 (0.017): 0.045*\"AZURE\" + 0.043*\"サーバ\" + 0.041*\"SSH\" + 0.030*\"ドメイン\" + 0.021*\"証明書\" + 0.018*\"DNS\" + 0.018*\"接続\" + 0.017*\"アクセス\" + 0.016*\"認証\" + 0.014*\"ad\"\n",
      "topic #53 (0.017): 0.016*\"チーム\" + 0.011*\"作業\" + 0.009*\"開発\" + 0.009*\"課題\" + 0.009*\"考える\" + 0.009*\"メンバー\" + 0.008*\"組織\" + 0.007*\"プロジェクト\" + 0.007*\"プロダクト\" + 0.007*\"行動\"\n",
      "topic diff=0.027399, rho=0.146846\n",
      "PROGRESS: pass 2, at document #30000/86748\n",
      "merging changes from 2000 documents into a model of 86748 documents\n",
      "topic #57 (0.017): 0.045*\"メッセージ\" + 0.034*\"通知\" + 0.032*\"タスク\" + 0.026*\"テンプレート\" + 0.026*\"lambda\" + 0.016*\"ジョブ\" + 0.016*\"送信\" + 0.015*\"トリガー\" + 0.014*\"Lambda\" + 0.014*\"関数\"\n"
     ]
    },
    {
     "name": "stderr",
     "output_type": "stream",
     "text": [
      "topic #26 (0.017): 0.052*\"Kubernetes\" + 0.051*\"クラスタ\" + 0.044*\"修正\" + 0.032*\"pod\" + 0.020*\"cluster\" + 0.016*\"access\" + 0.015*\"削除\" + 0.013*\"YAML\" + 0.013*\"コルーチン\" + 0.012*\"namespace\"\n",
      "topic #9 (0.017): 0.090*\"画像\" + 0.018*\"座標\" + 0.013*\"描画\" + 0.012*\"検出\" + 0.011*\"カメラ\" + 0.009*\"色\" + 0.008*\"位置\" + 0.008*\"サイズ\" + 0.008*\"回転\" + 0.008*\"部分\"\n",
      "topic #44 (0.017): 0.230*\"データ\" + 0.026*\"取得\" + 0.021*\"CSV\" + 0.021*\"分析\" + 0.020*\"グラフ\" + 0.012*\"情報\" + 0.010*\"抽出\" + 0.008*\"集計\" + 0.008*\"data\" + 0.006*\"可視化\"\n",
      "topic #23 (0.017): 0.056*\"文字\" + 0.033*\"文字列\" + 0.014*\"コメント\" + 0.014*\"改行\" + 0.012*\"数字\" + 0.011*\"スペース\" + 0.011*\"正規表現\" + 0.010*\"意味\" + 0.010*\"パターン\" + 0.009*\"書き方\"\n",
      "topic diff=0.026375, rho=0.146846\n",
      "PROGRESS: pass 2, at document #32000/86748\n",
      "merging changes from 2000 documents into a model of 86748 documents\n",
      "topic #59 (0.017): 0.029*\"非同期\" + 0.029*\"例外\" + 0.025*\"THREAD\" + 0.021*\"ストリーム\" + 0.021*\"Kotlin\" + 0.020*\"同期\" + 0.018*\"terraform\" + 0.017*\"終了\" + 0.014*\"コールバック\" + 0.014*\"並列\"\n",
      "topic #14 (0.017): 0.095*\"エラー\" + 0.031*\"問題\" + 0.029*\"発生\" + 0.025*\"原因\" + 0.024*\"解決\" + 0.015*\"バージョン\" + 0.015*\"MySQL\" + 0.011*\"失敗\" + 0.011*\"修正\" + 0.011*\"対応\"\n",
      "topic #0 (0.017): 0.094*\"java\" + 0.057*\"コンパイル\" + 0.050*\"C++\" + 0.034*\".S\" + 0.032*\"main\" + 0.032*\"spring\" + 0.021*\"コンパイラ\" + 0.021*\"アノテーション\" + 0.018*\"oci\" + 0.017*\"BOOT\"\n",
      "topic #38 (0.017): 0.043*\"コンポーネント\" + 0.041*\"状態\" + 0.036*\"イベント\" + 0.026*\"遷移\" + 0.023*\"実装\" + 0.021*\"state\" + 0.021*\"更新\" + 0.020*\"UI\" + 0.020*\"VIEW\" + 0.020*\"ワイ\"\n",
      "topic #28 (0.017): 0.080*\"AWS\" + 0.045*\"サービス\" + 0.035*\"インスタンス\" + 0.026*\"リソース\" + 0.025*\"S3\" + 0.022*\"EC2\" + 0.020*\"Amazon\" + 0.016*\"ポリシー\" + 0.015*\"iam\" + 0.014*\"CLOUD\"\n",
      "topic diff=0.030208, rho=0.146846\n",
      "PROGRESS: pass 2, at document #34000/86748\n",
      "merging changes from 2000 documents into a model of 86748 documents\n",
      "topic #15 (0.017): 0.020*\"評価\" + 0.013*\"情報\" + 0.012*\"対策\" + 0.012*\"攻撃\" + 0.011*\"注文\" + 0.010*\"価格\" + 0.008*\"期間\" + 0.007*\"金額\" + 0.007*\"リスク\" + 0.007*\"判断\"\n",
      "topic #5 (0.017): 0.050*\"ユーザー\" + 0.050*\"登録\" + 0.047*\"情報\" + 0.030*\"ユーザ\" + 0.029*\"アカウント\" + 0.027*\"取得\" + 0.022*\"管理\" + 0.021*\"id\" + 0.019*\"認証\" + 0.016*\"サービス\"\n",
      "topic #19 (0.017): 0.085*\"開発\" + 0.074*\"作者\" + 0.036*\"ツール\" + 0.035*\"機能\" + 0.033*\"言語\" + 0.021*\"FRAMeWORK\" + 0.020*\"アプリケーション\" + 0.017*\"プロジェクト\" + 0.015*\"web\" + 0.014*\"管理\"\n",
      "topic #46 (0.017): 0.017*\"システム\" + 0.012*\"設計\" + 0.009*\"機能\" + 0.008*\"可能\" + 0.008*\"考える\" + 0.007*\"アプリケーション\" + 0.007*\"実現\" + 0.007*\"持つ\" + 0.006*\"高い\" + 0.006*\"技術\"\n",
      "topic #10 (0.017): 0.041*\"パッケージ\" + 0.033*\"バージョン\" + 0.032*\"ビルド\" + 0.030*\"プロジェクト\" + 0.029*\"ディレクトリ\" + 0.017*\"ライブラリ\" + 0.017*\"プラグイン\" + 0.015*\"パス\" + 0.014*\"生成\" + 0.011*\"導入\"\n",
      "topic diff=0.026140, rho=0.146846\n",
      "PROGRESS: pass 2, at document #36000/86748\n",
      "merging changes from 2000 documents into a model of 86748 documents\n",
      "topic #30 (0.017): 0.024*\"機能\" + 0.023*\"対応\" + 0.021*\"サポート\" + 0.016*\"提供\" + 0.015*\"可能\" + 0.014*\"サービス\" + 0.014*\"CROWD\" + 0.012*\"リリース\" + 0.009*\"無料\" + 0.009*\"ライセンス\"\n",
      "topic #42 (0.017): 0.065*\"テーブル\" + 0.044*\"データベース\" + 0.036*\"db\" + 0.033*\"SQL\" + 0.032*\"データ\" + 0.029*\"id\" + 0.021*\"レコード\" + 0.021*\"削除\" + 0.020*\"クエリ\" + 0.020*\"カラム\"\n",
      "topic #32 (0.017): 0.063*\"選択\" + 0.058*\"画面\" + 0.057*\"クリック\" + 0.044*\"入力\" + 0.042*\"ボタン\" + 0.032*\"押す\" + 0.023*\"開く\" + 0.019*\"キー\" + 0.014*\"メニュー\" + 0.013*\"タブ\"\n",
      "topic #59 (0.017): 0.027*\"例外\" + 0.027*\"非同期\" + 0.025*\"THREAD\" + 0.022*\"ストリーム\" + 0.021*\"Kotlin\" + 0.020*\"同期\" + 0.019*\"terraform\" + 0.016*\"終了\" + 0.013*\"コールバック\" + 0.013*\"並列\"\n",
      "topic #19 (0.017): 0.088*\"開発\" + 0.064*\"作者\" + 0.036*\"ツール\" + 0.035*\"言語\" + 0.035*\"機能\" + 0.021*\"FRAMeWORK\" + 0.020*\"アプリケーション\" + 0.018*\"プロジェクト\" + 0.015*\"web\" + 0.014*\"管理\"\n",
      "topic diff=0.023937, rho=0.146846\n",
      "PROGRESS: pass 2, at document #38000/86748\n",
      "merging changes from 2000 documents into a model of 86748 documents\n",
      "topic #32 (0.017): 0.064*\"選択\" + 0.059*\"画面\" + 0.056*\"クリック\" + 0.045*\"入力\" + 0.042*\"ボタン\" + 0.032*\"押す\" + 0.024*\"開く\" + 0.019*\"キー\" + 0.014*\"メニュー\" + 0.013*\"タブ\"\n",
      "topic #36 (0.017): 0.094*\"グループ\" + 0.039*\"ルール\" + 0.038*\"ルート\" + 0.027*\"VPC\" + 0.026*\"タイプ\" + 0.021*\"Redis\" + 0.020*\"ターゲット\" + 0.019*\"group\" + 0.019*\"サブネット\" + 0.018*\"セキュリティ\"\n",
      "topic #39 (0.017): 0.160*\"プログラム\" + 0.037*\"ver\" + 0.030*\"解析\" + 0.026*\"文書\" + 0.020*\"追記\" + 0.018*\"いいね\" + 0.015*\"資料\" + 0.015*\"履歴\" + 0.014*\"document\" + 0.014*\"よい\"\n",
      "topic #27 (0.017): 0.030*\"商品\" + 0.029*\"暗号\" + 0.026*\"生成\" + 0.024*\"方式\" + 0.023*\"署名\" + 0.020*\"ハッシュ\" + 0.019*\"暗号化\" + 0.018*\"バイト\" + 0.016*\"鍵\" + 0.015*\"bit\"\n",
      "topic #42 (0.017): 0.064*\"テーブル\" + 0.046*\"データベース\" + 0.038*\"db\" + 0.033*\"SQL\" + 0.033*\"データ\" + 0.029*\"id\" + 0.022*\"レコード\" + 0.020*\"削除\" + 0.020*\"カラム\" + 0.019*\"クエリ\"\n",
      "topic diff=0.026769, rho=0.146846\n",
      "-11.413 per-word bound, 2727.0 perplexity estimate based on a held-out corpus of 2000 documents with 314017 words\n",
      "PROGRESS: pass 2, at document #40000/86748\n",
      "merging changes from 2000 documents into a model of 86748 documents\n",
      "topic #17 (0.017): 0.078*\"ノード\" + 0.039*\"node\" + 0.025*\"トランザクション\" + 0.022*\"Blockchain\" + 0.016*\"ブロック\" + 0.014*\"red\" + 0.013*\"S1\" + 0.011*\"S2\" + 0.010*\"SE\" + 0.010*\"E2\"\n",
      "topic #51 (0.017): 0.060*\"プロセス\" + 0.056*\"a.\" + 0.055*\"flutter\" + 0.029*\"widget\" + 0.028*\"AND\" + 0.021*\"命令\" + 0.020*\"QUANTUM\" + 0.015*\"H.\" + 0.012*\"process\" + 0.011*\"things\"\n",
      "topic #34 (0.017): 0.046*\"サーバ\" + 0.046*\"SSH\" + 0.039*\"AZURE\" + 0.029*\"ドメイン\" + 0.022*\"証明書\" + 0.018*\"アクセス\" + 0.017*\"認証\" + 0.016*\"接続\" + 0.016*\"DNS\" + 0.014*\"鍵\"\n",
      "topic #8 (0.017): 0.059*\"ページ\" + 0.046*\"サイト\" + 0.044*\"検索\" + 0.034*\"URL\" + 0.028*\"メール\" + 0.022*\"リンク\" + 0.020*\"取得\" + 0.019*\"chrome\" + 0.014*\"情報\" + 0.012*\"wordpress\"\n",
      "topic #29 (0.017): 0.023*\"状態\" + 0.022*\"量子\" + 0.020*\"計算\" + 0.016*\"量子コンピュータ\" + 0.015*\"ゲート\" + 0.013*\"量子ビット\" + 0.012*\"ロボット\" + 0.011*\"回路\" + 0.010*\"呼ぶ\" + 0.009*\"表現\"\n",
      "topic diff=0.023993, rho=0.146846\n",
      "PROGRESS: pass 2, at document #42000/86748\n",
      "merging changes from 2000 documents into a model of 86748 documents\n",
      "topic #57 (0.017): 0.042*\"メッセージ\" + 0.040*\"タスク\" + 0.036*\"通知\" + 0.029*\"テンプレート\" + 0.025*\"lambda\" + 0.019*\"ジョブ\" + 0.017*\"送信\" + 0.016*\"トリガー\" + 0.015*\"キュー\" + 0.014*\"Lambda\"\n",
      "topic #15 (0.017): 0.021*\"評価\" + 0.013*\"情報\" + 0.012*\"対策\" + 0.011*\"価格\" + 0.011*\"注文\" + 0.010*\"攻撃\" + 0.009*\"期間\" + 0.007*\"指標\" + 0.007*\"リスク\" + 0.007*\"金額\"\n",
      "topic #14 (0.017): 0.095*\"エラー\" + 0.030*\"問題\" + 0.029*\"発生\" + 0.026*\"原因\" + 0.025*\"解決\" + 0.016*\"MySQL\" + 0.015*\"バージョン\" + 0.011*\"対応\" + 0.010*\"失敗\" + 0.010*\"修正\"\n",
      "topic #6 (0.017): 0.258*\"テスト\" + 0.041*\"test\" + 0.028*\"SLACK\" + 0.023*\"CI\" + 0.017*\"チェック\" + 0.016*\"検証\" + 0.014*\"対象\" + 0.013*\"自動\" + 0.009*\"unittest\" + 0.009*\"失敗\"\n",
      "topic #43 (0.017): 0.045*\"デプロイ\" + 0.027*\"CLOUD\" + 0.027*\"firebase\" + 0.025*\"アップロード\" + 0.024*\"プロジェクト\" + 0.020*\"Heroku\" + 0.019*\"アプリ\" + 0.017*\"ローカル\" + 0.016*\"app\" + 0.016*\"Google\"\n",
      "topic diff=0.023280, rho=0.146846\n",
      "PROGRESS: pass 2, at document #44000/86748\n",
      "merging changes from 2000 documents into a model of 86748 documents\n",
      "topic #49 (0.017): 0.024*\"いい\" + 0.022*\"ん\" + 0.014*\"言う\" + 0.013*\"くれる\" + 0.012*\"いう\" + 0.010*\"入れる\" + 0.010*\"しれる\" + 0.009*\"分かる\" + 0.009*\"簡単\" + 0.009*\"動く\"\n",
      "topic #54 (0.017): 0.049*\"windows\" + 0.041*\"ダウンロード\" + 0.028*\"Folder\" + 0.026*\"起動\" + 0.017*\"開く\" + 0.017*\"VSCode\" + 0.011*\"wsl\" + 0.010*\"手順\" + 0.010*\"MAC\" + 0.010*\"PC\"\n",
      "topic #16 (0.017): 0.033*\"メモリ\" + 0.022*\"cpu\" + 0.019*\"キャッシュ\" + 0.018*\"サイズ\" + 0.017*\"領域\" + 0.012*\"容量\" + 0.012*\"バックアップ\" + 0.012*\"ディスク\" + 0.011*\"パーティション\" + 0.010*\"OS\"\n",
      "topic #44 (0.017): 0.241*\"データ\" + 0.024*\"取得\" + 0.021*\"分析\" + 0.021*\"CSV\" + 0.020*\"グラフ\" + 0.012*\"情報\" + 0.010*\"抽出\" + 0.008*\"集計\" + 0.008*\"data\" + 0.006*\"可視化\"\n",
      "topic #25 (0.017): 0.124*\"アプリ\" + 0.041*\"ANDROID\" + 0.026*\"iOS\" + 0.025*\"LINE\" + 0.024*\"bot\" + 0.022*\"Xcode\" + 0.016*\"app\" + 0.014*\"STEP\" + 0.013*\"端末\" + 0.012*\"画面\"\n",
      "topic diff=0.021217, rho=0.146846\n",
      "PROGRESS: pass 2, at document #46000/86748\n",
      "merging changes from 2000 documents into a model of 86748 documents\n",
      "topic #15 (0.017): 0.020*\"評価\" + 0.012*\"情報\" + 0.012*\"対策\" + 0.010*\"価格\" + 0.010*\"攻撃\" + 0.010*\"注文\" + 0.008*\"期間\" + 0.007*\"リスク\" + 0.006*\"指標\" + 0.006*\"判断\"\n",
      "topic #3 (0.017): 0.091*\"変換\" + 0.046*\"形式\" + 0.030*\"JSON\" + 0.023*\"日付\" + 0.019*\"フォーマット\" + 0.016*\"時刻\" + 0.014*\"読み込む\" + 0.014*\"マクロ\" + 0.013*\"圧縮\" + 0.011*\"出力\"\n",
      "topic #52 (0.017): 0.016*\"投稿\" + 0.015*\"エンジニア\" + 0.014*\"Twitter\" + 0.010*\"Qiita\" + 0.010*\"参加\" + 0.007*\"いただく\" + 0.007*\"会社\" + 0.006*\"tweet\" + 0.005*\"仕事\" + 0.005*\"技術\"\n",
      "topic #38 (0.017): 0.053*\"コンポーネント\" + 0.045*\"イベント\" + 0.037*\"状態\" + 0.022*\"実装\" + 0.021*\"更新\" + 0.020*\"遷移\" + 0.020*\"VIEW\" + 0.018*\"UI\" + 0.018*\"state\" + 0.015*\"ワイ\"\n",
      "topic #44 (0.017): 0.241*\"データ\" + 0.024*\"取得\" + 0.021*\"グラフ\" + 0.021*\"分析\" + 0.021*\"CSV\" + 0.012*\"情報\" + 0.010*\"抽出\" + 0.008*\"集計\" + 0.008*\"data\" + 0.006*\"統計\"\n"
     ]
    },
    {
     "name": "stderr",
     "output_type": "stream",
     "text": [
      "topic diff=0.023038, rho=0.146846\n",
      "PROGRESS: pass 2, at document #48000/86748\n",
      "merging changes from 2000 documents into a model of 86748 documents\n",
      "topic #12 (0.017): 0.231*\"python\" + 0.048*\"py\" + 0.027*\"ライブラリ\" + 0.025*\"Django\" + 0.022*\"pip\" + 0.015*\"anaconda\" + 0.011*\"モジュール\" + 0.011*\"txt\" + 0.011*\"インポート\" + 0.011*\"NumPy\"\n",
      "topic #24 (0.017): 0.162*\"PHP\" + 0.101*\"rails\" + 0.068*\"laravel\" + 0.066*\"RUBY\" + 0.035*\"gem\" + 0.027*\"RuBy\" + 0.018*\"Elasticsearch\" + 0.018*\"composer\" + 0.017*\"バージョン\" + 0.015*\"gemfile\"\n",
      "topic #7 (0.017): 0.110*\"docker\" + 0.087*\"コンテナ\" + 0.044*\"イメージ\" + 0.029*\"起動\" + 0.018*\"構築\" + 0.017*\"compose\" + 0.016*\"nginx\" + 0.013*\"dockerfile\" + 0.010*\"yml\" + 0.010*\"ホスト\"\n",
      "topic #17 (0.017): 0.083*\"ノード\" + 0.046*\"node\" + 0.022*\"トランザクション\" + 0.019*\"Blockchain\" + 0.018*\"ブロック\" + 0.015*\"S1\" + 0.014*\"S2\" + 0.012*\"red\" + 0.009*\"E1\" + 0.009*\"E2\"\n",
      "topic #13 (0.017): 0.120*\"クラス\" + 0.102*\"メソッド\" + 0.064*\"オブジェクト\" + 0.038*\"実装\" + 0.025*\"定義\" + 0.025*\"インスタンス\" + 0.024*\"プロパティ\" + 0.020*\"生成\" + 0.015*\"継承\" + 0.013*\"呼び出す\"\n",
      "topic diff=0.025715, rho=0.146846\n",
      "PROGRESS: pass 2, at document #50000/86748\n",
      "merging changes from 2000 documents into a model of 86748 documents\n",
      "topic #45 (0.017): 0.081*\"git\" + 0.061*\"GitHub\" + 0.050*\"リポジトリ\" + 0.048*\"ブランチ\" + 0.046*\"コミット\" + 0.026*\"PUSH\" + 0.022*\"master\" + 0.020*\"Clone\" + 0.017*\"マージ\" + 0.015*\"ローカル\"\n",
      "topic #24 (0.017): 0.160*\"PHP\" + 0.100*\"rails\" + 0.067*\"laravel\" + 0.066*\"RUBY\" + 0.034*\"gem\" + 0.027*\"RuBy\" + 0.021*\"Elasticsearch\" + 0.020*\"composer\" + 0.017*\"バージョン\" + 0.015*\"bundle\"\n",
      "topic #37 (0.017): 0.081*\"仮想\" + 0.062*\"仮想マシン\" + 0.061*\"VM\" + 0.054*\"移行\" + 0.048*\"VirtualBox\" + 0.046*\"vagrant\" + 0.035*\"box\" + 0.024*\"ゲスト\" + 0.020*\"スナップショット\" + 0.019*\"OS\"\n",
      "topic #13 (0.017): 0.123*\"クラス\" + 0.101*\"メソッド\" + 0.064*\"オブジェクト\" + 0.038*\"実装\" + 0.026*\"定義\" + 0.025*\"インスタンス\" + 0.022*\"プロパティ\" + 0.020*\"生成\" + 0.015*\"継承\" + 0.013*\"呼び出す\"\n",
      "topic #29 (0.017): 0.021*\"状態\" + 0.018*\"計算\" + 0.017*\"量子\" + 0.014*\"ゲート\" + 0.011*\"量子コンピュータ\" + 0.011*\"回路\" + 0.010*\"量子ビット\" + 0.010*\"シミュレーション\" + 0.009*\"図\" + 0.009*\"制御\"\n",
      "topic diff=0.027996, rho=0.146846\n",
      "PROGRESS: pass 2, at document #52000/86748\n",
      "merging changes from 2000 documents into a model of 86748 documents\n",
      "topic #8 (0.017): 0.059*\"ページ\" + 0.047*\"検索\" + 0.047*\"サイト\" + 0.036*\"URL\" + 0.024*\"メール\" + 0.024*\"リンク\" + 0.020*\"取得\" + 0.016*\"chrome\" + 0.013*\"情報\" + 0.012*\"送信\"\n",
      "topic #20 (0.017): 0.037*\"ログイン\" + 0.030*\"user\" + 0.021*\"パスワード\" + 0.020*\"フォーム\" + 0.019*\"ユーザー\" + 0.018*\"モデル\" + 0.017*\"コントローラ\" + 0.016*\"rails\" + 0.016*\"機能\" + 0.015*\"アクション\"\n",
      "topic #32 (0.017): 0.066*\"選択\" + 0.061*\"画面\" + 0.058*\"クリック\" + 0.046*\"入力\" + 0.043*\"ボタン\" + 0.031*\"押す\" + 0.024*\"開く\" + 0.017*\"キー\" + 0.014*\"メニュー\" + 0.013*\"タブ\"\n",
      "topic #27 (0.017): 0.029*\"暗号\" + 0.028*\"生成\" + 0.025*\"方式\" + 0.023*\"商品\" + 0.023*\"署名\" + 0.023*\"暗号化\" + 0.019*\"鍵\" + 0.018*\"バイト\" + 0.017*\"ハッシュ\" + 0.013*\"byte\"\n",
      "topic #26 (0.017): 0.064*\"Kubernetes\" + 0.053*\"修正\" + 0.039*\"クラスタ\" + 0.034*\"pod\" + 0.020*\"削除\" + 0.017*\"cluster\" + 0.016*\"YAML\" + 0.014*\"()\" + 0.013*\"node\" + 0.011*\"マニフェスト\"\n",
      "topic diff=0.029802, rho=0.146846\n",
      "PROGRESS: pass 2, at document #54000/86748\n",
      "merging changes from 2000 documents into a model of 86748 documents\n",
      "topic #35 (0.017): 0.021*\"関数\" + 0.018*\"theta\" + 0.017*\"boldsymbol\" + 0.016*\"frac\" + 0.015*\"行列\" + 0.014*\"計算\" + 0.014*\"分布\" + 0.013*\"ベクトル\" + 0.012*\"mathbf\" + 0.012*\"確率\"\n",
      "topic #10 (0.017): 0.039*\"パッケージ\" + 0.034*\"バージョン\" + 0.034*\"ビルド\" + 0.032*\"プロジェクト\" + 0.030*\"ディレクトリ\" + 0.016*\"ライブラリ\" + 0.015*\"プラグイン\" + 0.014*\"パス\" + 0.014*\"生成\" + 0.011*\"導入\"\n",
      "topic #52 (0.017): 0.016*\"投稿\" + 0.013*\"Twitter\" + 0.013*\"エンジニア\" + 0.010*\"Qiita\" + 0.009*\"参加\" + 0.008*\"tweet\" + 0.007*\"いただく\" + 0.007*\"会社\" + 0.006*\"テーマ\" + 0.006*\"仕事\"\n",
      "topic #8 (0.017): 0.058*\"ページ\" + 0.047*\"検索\" + 0.046*\"サイト\" + 0.035*\"URL\" + 0.024*\"リンク\" + 0.023*\"メール\" + 0.020*\"取得\" + 0.017*\"chrome\" + 0.014*\"情報\" + 0.013*\"wordpress\"\n",
      "topic #11 (0.017): 0.070*\"()\" + 0.051*\"引数\" + 0.049*\"値\" + 0.034*\"取得\" + 0.033*\"返す\" + 0.031*\"文字列\" + 0.024*\"渡す\" + 0.021*\"メソッド\" + 0.020*\"False\" + 0.018*\"TRUE\"\n",
      "topic diff=0.028357, rho=0.146846\n",
      "PROGRESS: pass 2, at document #56000/86748\n",
      "merging changes from 2000 documents into a model of 86748 documents\n",
      "topic #26 (0.017): 0.071*\"Kubernetes\" + 0.050*\"修正\" + 0.039*\"クラスタ\" + 0.030*\"pod\" + 0.020*\"YAML\" + 0.019*\"削除\" + 0.017*\"cluster\" + 0.012*\"()\" + 0.011*\"func\" + 0.011*\"node\"\n",
      "topic #14 (0.017): 0.094*\"エラー\" + 0.031*\"問題\" + 0.029*\"発生\" + 0.027*\"解決\" + 0.026*\"原因\" + 0.016*\"バージョン\" + 0.013*\"MySQL\" + 0.011*\"対応\" + 0.010*\"失敗\" + 0.010*\"修正\"\n",
      "topic #12 (0.017): 0.236*\"python\" + 0.044*\"py\" + 0.027*\"ライブラリ\" + 0.025*\"Django\" + 0.021*\"pip\" + 0.016*\"anaconda\" + 0.012*\"txt\" + 0.012*\"flask\" + 0.011*\"NumPy\" + 0.011*\"仮想\"\n",
      "topic #29 (0.017): 0.020*\"状態\" + 0.018*\"計算\" + 0.016*\"mathrm\" + 0.013*\"ゲート\" + 0.013*\"量子\" + 0.011*\"回路\" + 0.010*\"シミュレーション\" + 0.010*\"量子コンピュータ\" + 0.010*\"量子ビット\" + 0.009*\"測定\"\n",
      "topic #18 (0.017): 0.088*\"API\" + 0.041*\"リクエスト\" + 0.028*\"HTTP\" + 0.024*\"client\" + 0.021*\"取得\" + 0.017*\"トークン\" + 0.017*\"レスポンス\" + 0.016*\"サーバ\" + 0.015*\"サーバー\" + 0.015*\"JSON\"\n",
      "topic diff=0.023706, rho=0.146846\n",
      "PROGRESS: pass 2, at document #58000/86748\n",
      "merging changes from 2000 documents into a model of 86748 documents\n",
      "topic #30 (0.017): 0.025*\"機能\" + 0.022*\"対応\" + 0.020*\"サポート\" + 0.017*\"提供\" + 0.016*\"サービス\" + 0.014*\"可能\" + 0.012*\"リリース\" + 0.011*\"無料\" + 0.011*\"CROWD\" + 0.007*\"導入\"\n",
      "topic #23 (0.017): 0.056*\"文字\" + 0.038*\"文字列\" + 0.015*\"コメント\" + 0.013*\"スペース\" + 0.013*\"改行\" + 0.013*\"数字\" + 0.011*\"意味\" + 0.011*\"正規表現\" + 0.009*\"先頭\" + 0.009*\"パターン\"\n",
      "topic #24 (0.017): 0.160*\"PHP\" + 0.101*\"rails\" + 0.067*\"RUBY\" + 0.067*\"laravel\" + 0.040*\"gem\" + 0.027*\"RuBy\" + 0.021*\"composer\" + 0.019*\"バージョン\" + 0.019*\"Elasticsearch\" + 0.017*\"gemfile\"\n",
      "topic #46 (0.017): 0.019*\"システム\" + 0.012*\"設計\" + 0.009*\"機能\" + 0.008*\"考える\" + 0.008*\"可能\" + 0.006*\"持つ\" + 0.006*\"実現\" + 0.006*\"アプリケーション\" + 0.006*\"複数\" + 0.006*\"高い\"\n",
      "topic #2 (0.017): 0.036*\"デバイス\" + 0.030*\"接続\" + 0.028*\"USB\" + 0.024*\"Raspberry Pi\" + 0.017*\"Arduino\" + 0.016*\"PC\" + 0.015*\"電源\" + 0.013*\"LED\" + 0.013*\"動作\" + 0.012*\"ボード\"\n",
      "topic diff=0.026230, rho=0.146846\n",
      "-11.445 per-word bound, 2788.6 perplexity estimate based on a held-out corpus of 2000 documents with 331781 words\n",
      "PROGRESS: pass 2, at document #60000/86748\n",
      "merging changes from 2000 documents into a model of 86748 documents\n",
      "topic #14 (0.017): 0.094*\"エラー\" + 0.033*\"問題\" + 0.029*\"発生\" + 0.027*\"解決\" + 0.025*\"原因\" + 0.016*\"バージョン\" + 0.013*\"MySQL\" + 0.011*\"失敗\" + 0.010*\"対応\" + 0.010*\"修正\"\n",
      "topic #44 (0.017): 0.250*\"データ\" + 0.025*\"分析\" + 0.022*\"取得\" + 0.020*\"グラフ\" + 0.018*\"CSV\" + 0.012*\"情報\" + 0.010*\"抽出\" + 0.008*\"集計\" + 0.008*\"可視化\" + 0.008*\"data\"\n",
      "topic #25 (0.017): 0.132*\"アプリ\" + 0.038*\"ANDROID\" + 0.027*\"bot\" + 0.026*\"iOS\" + 0.021*\"LINE\" + 0.020*\"Xcode\" + 0.016*\"app\" + 0.014*\"STEP\" + 0.013*\"チャンネル\" + 0.013*\"端末\"\n",
      "topic #29 (0.017): 0.022*\"状態\" + 0.017*\"計算\" + 0.014*\"mathrm\" + 0.012*\"ゲート\" + 0.012*\"量子\" + 0.011*\"シミュレーション\" + 0.010*\"ロボット\" + 0.010*\"回路\" + 0.009*\"測定\" + 0.009*\"呼ぶ\"\n",
      "topic #39 (0.017): 0.182*\"プログラム\" + 0.035*\"解析\" + 0.029*\"ver\" + 0.023*\"文書\" + 0.021*\"いいね\" + 0.016*\"よい\" + 0.016*\"資料\" + 0.015*\"記録\" + 0.014*\"追記\" + 0.014*\"document\"\n",
      "topic diff=0.025664, rho=0.146846\n",
      "PROGRESS: pass 2, at document #62000/86748\n",
      "merging changes from 2000 documents into a model of 86748 documents\n",
      "topic #24 (0.017): 0.162*\"PHP\" + 0.103*\"rails\" + 0.068*\"laravel\" + 0.068*\"RUBY\" + 0.039*\"gem\" + 0.027*\"RuBy\" + 0.022*\"composer\" + 0.018*\"バージョン\" + 0.017*\"Elasticsearch\" + 0.016*\"bundle\"\n",
      "topic #32 (0.017): 0.067*\"選択\" + 0.058*\"クリック\" + 0.055*\"画面\" + 0.044*\"入力\" + 0.041*\"ボタン\" + 0.030*\"押す\" + 0.024*\"開く\" + 0.018*\"キー\" + 0.013*\"メニュー\" + 0.012*\"タブ\"\n",
      "topic #8 (0.017): 0.059*\"ページ\" + 0.048*\"サイト\" + 0.046*\"検索\" + 0.034*\"URL\" + 0.026*\"メール\" + 0.023*\"リンク\" + 0.021*\"取得\" + 0.018*\"chrome\" + 0.014*\"情報\" + 0.013*\"wordpress\"\n",
      "topic #43 (0.017): 0.051*\"デプロイ\" + 0.039*\"CLOUD\" + 0.026*\"firebase\" + 0.023*\"プロジェクト\" + 0.023*\"アップロード\" + 0.020*\"Google\" + 0.020*\"Heroku\" + 0.017*\"アプリ\" + 0.016*\"app\" + 0.015*\"ローカル\"\n",
      "topic #23 (0.017): 0.054*\"文字\" + 0.039*\"文字列\" + 0.014*\"改行\" + 0.014*\"コメント\" + 0.012*\"数字\" + 0.012*\"スペース\" + 0.011*\"正規表現\" + 0.011*\"意味\" + 0.010*\"パターン\" + 0.009*\"置換\"\n",
      "topic diff=0.022702, rho=0.146846\n",
      "PROGRESS: pass 2, at document #64000/86748\n",
      "merging changes from 2000 documents into a model of 86748 documents\n",
      "topic #25 (0.017): 0.136*\"アプリ\" + 0.036*\"ANDROID\" + 0.026*\"iOS\" + 0.026*\"bot\" + 0.020*\"Xcode\" + 0.020*\"LINE\" + 0.016*\"Apple\" + 0.015*\"app\" + 0.013*\"端末\" + 0.013*\"チャンネル\"\n",
      "topic #36 (0.017): 0.092*\"グループ\" + 0.048*\"ルール\" + 0.031*\"ルート\" + 0.030*\"Redis\" + 0.030*\"タイプ\" + 0.027*\"VPC\" + 0.020*\"セキュリティ\" + 0.020*\"ターゲット\" + 0.019*\"ボリューム\" + 0.019*\"サブネット\"\n"
     ]
    },
    {
     "name": "stderr",
     "output_type": "stream",
     "text": [
      "topic #33 (0.017): 0.224*\"出力\" + 0.118*\"ログ\" + 0.028*\"標準\" + 0.025*\"log\" + 0.019*\"デバッグ\" + 0.016*\"監視\" + 0.015*\"レベル\" + 0.011*\"情報\" + 0.010*\"コンソール\" + 0.009*\"内容\"\n",
      "topic #38 (0.017): 0.059*\"コンポーネント\" + 0.042*\"イベント\" + 0.040*\"状態\" + 0.024*\"state\" + 0.022*\"UI\" + 0.022*\"実装\" + 0.021*\"更新\" + 0.018*\"VIEW\" + 0.017*\"遷移\" + 0.012*\"値\"\n",
      "topic #3 (0.017): 0.089*\"変換\" + 0.045*\"形式\" + 0.035*\"JSON\" + 0.024*\"日付\" + 0.021*\"フォーマット\" + 0.018*\"時刻\" + 0.016*\"読み込む\" + 0.014*\"保存\" + 0.013*\"文字列\" + 0.013*\"圧縮\"\n",
      "topic diff=0.024169, rho=0.146846\n",
      "PROGRESS: pass 2, at document #66000/86748\n",
      "merging changes from 2000 documents into a model of 86748 documents\n",
      "topic #57 (0.017): 0.046*\"メッセージ\" + 0.041*\"タスク\" + 0.036*\"通知\" + 0.028*\"テンプレート\" + 0.023*\"lambda\" + 0.020*\"SLACK\" + 0.018*\"送信\" + 0.017*\"ジョブ\" + 0.016*\"トリガー\" + 0.013*\"カスタム\"\n",
      "topic #31 (0.017): 0.024*\"理解\" + 0.022*\"勉強\" + 0.017*\"読む\" + 0.017*\"学習\" + 0.016*\"知識\" + 0.015*\"学ぶ\" + 0.015*\"本\" + 0.014*\"試験\" + 0.014*\"問題\" + 0.014*\"内容\"\n",
      "topic #2 (0.017): 0.040*\"デバイス\" + 0.030*\"接続\" + 0.025*\"USB\" + 0.023*\"Raspberry Pi\" + 0.017*\"Arduino\" + 0.015*\"PC\" + 0.015*\"ボード\" + 0.015*\"電源\" + 0.013*\"信号\" + 0.013*\"動作\"\n",
      "topic #12 (0.017): 0.232*\"python\" + 0.044*\"py\" + 0.028*\"ライブラリ\" + 0.024*\"Django\" + 0.022*\"pip\" + 0.016*\"anaconda\" + 0.014*\"仮想\" + 0.013*\"txt\" + 0.011*\"Jupyter Notebook\" + 0.011*\"NumPy\"\n",
      "topic #42 (0.017): 0.068*\"テーブル\" + 0.048*\"データベース\" + 0.042*\"db\" + 0.034*\"データ\" + 0.030*\"SQL\" + 0.028*\"id\" + 0.023*\"削除\" + 0.023*\"レコード\" + 0.020*\"カラム\" + 0.017*\"更新\"\n",
      "topic diff=0.024805, rho=0.146846\n",
      "PROGRESS: pass 2, at document #68000/86748\n",
      "merging changes from 2000 documents into a model of 86748 documents\n",
      "topic #44 (0.017): 0.252*\"データ\" + 0.026*\"分析\" + 0.022*\"取得\" + 0.019*\"グラフ\" + 0.018*\"CSV\" + 0.012*\"情報\" + 0.010*\"集計\" + 0.010*\"抽出\" + 0.008*\"data\" + 0.007*\"可視化\"\n",
      "topic #16 (0.017): 0.033*\"メモリ\" + 0.021*\"cpu\" + 0.019*\"サイズ\" + 0.016*\"キャッシュ\" + 0.014*\"領域\" + 0.013*\"容量\" + 0.013*\"ディスク\" + 0.011*\"パーティション\" + 0.011*\"OS\" + 0.010*\"バックアップ\"\n",
      "topic #15 (0.017): 0.020*\"評価\" + 0.013*\"情報\" + 0.011*\"攻撃\" + 0.011*\"対策\" + 0.010*\"価格\" + 0.009*\"指標\" + 0.008*\"期間\" + 0.008*\"金額\" + 0.007*\"判断\" + 0.006*\"ユニット\"\n",
      "topic #1 (0.017): 0.090*\"関数\" + 0.052*\"変数\" + 0.039*\"定義\" + 0.039*\"型\" + 0.022*\"値\" + 0.018*\"引数\" + 0.014*\"参照\" + 0.014*\"宣言\" + 0.009*\"代入\" + 0.007*\"可能\"\n",
      "topic #52 (0.017): 0.016*\"投稿\" + 0.013*\"エンジニア\" + 0.013*\"Twitter\" + 0.011*\"参加\" + 0.010*\"Qiita\" + 0.008*\"いただく\" + 0.007*\"tweet\" + 0.006*\"会社\" + 0.006*\"技術\" + 0.006*\"テーマ\"\n",
      "topic diff=0.021296, rho=0.146846\n",
      "PROGRESS: pass 2, at document #70000/86748\n",
      "merging changes from 2000 documents into a model of 86748 documents\n",
      "topic #6 (0.017): 0.287*\"テスト\" + 0.040*\"test\" + 0.027*\"CI\" + 0.022*\"検証\" + 0.016*\"自動\" + 0.015*\"チェック\" + 0.014*\"対象\" + 0.009*\"失敗\" + 0.009*\"SLACK\" + 0.009*\"cd\"\n",
      "topic #15 (0.017): 0.021*\"評価\" + 0.013*\"情報\" + 0.012*\"価格\" + 0.011*\"対策\" + 0.010*\"攻撃\" + 0.008*\"期間\" + 0.008*\"指標\" + 0.008*\"金額\" + 0.007*\"脆弱性\" + 0.007*\"ユニット\"\n",
      "topic #20 (0.017): 0.034*\"ログイン\" + 0.032*\"user\" + 0.022*\"モデル\" + 0.021*\"フォーム\" + 0.018*\"ユーザー\" + 0.018*\"機能\" + 0.017*\"パスワード\" + 0.015*\"rails\" + 0.015*\"実装\" + 0.014*\"controller\"\n",
      "topic #11 (0.017): 0.067*\"()\" + 0.051*\"値\" + 0.051*\"引数\" + 0.041*\"取得\" + 0.030*\"返す\" + 0.029*\"文字列\" + 0.024*\"渡す\" + 0.021*\"メソッド\" + 0.017*\"TRUE\" + 0.015*\"False\"\n",
      "topic #12 (0.017): 0.230*\"python\" + 0.044*\"py\" + 0.028*\"ライブラリ\" + 0.026*\"Django\" + 0.020*\"pip\" + 0.016*\"anaconda\" + 0.014*\"仮想\" + 0.013*\"txt\" + 0.010*\"Jupyter Notebook\" + 0.010*\"OpenCV\"\n",
      "topic diff=0.025577, rho=0.146846\n",
      "PROGRESS: pass 2, at document #72000/86748\n",
      "merging changes from 2000 documents into a model of 86748 documents\n",
      "topic #58 (0.017): 0.068*\"TO\" + 0.043*\"AND\" + 0.034*\"IS\" + 0.019*\"ON\" + 0.018*\"YOU\" + 0.014*\"WITH\" + 0.013*\"BY\" + 0.012*\"It\" + 0.008*\"ING\" + 0.008*\"WILL\"\n",
      "topic #15 (0.017): 0.020*\"評価\" + 0.013*\"情報\" + 0.012*\"価格\" + 0.011*\"攻撃\" + 0.011*\"対策\" + 0.008*\"期間\" + 0.008*\"指標\" + 0.008*\"脆弱性\" + 0.007*\"判断\" + 0.007*\"金額\"\n",
      "topic #16 (0.017): 0.033*\"メモリ\" + 0.021*\"cpu\" + 0.018*\"キャッシュ\" + 0.018*\"サイズ\" + 0.014*\"ディスク\" + 0.014*\"領域\" + 0.013*\"容量\" + 0.012*\"バックアップ\" + 0.011*\"OS\" + 0.011*\"パーティション\"\n",
      "topic #28 (0.017): 0.081*\"AWS\" + 0.050*\"サービス\" + 0.040*\"インスタンス\" + 0.026*\"リソース\" + 0.024*\"EC2\" + 0.024*\"S3\" + 0.019*\"Amazon\" + 0.017*\"iam\" + 0.014*\"ポリシー\" + 0.014*\"service\"\n",
      "topic #49 (0.017): 0.024*\"いい\" + 0.021*\"ん\" + 0.014*\"言う\" + 0.013*\"くれる\" + 0.012*\"いう\" + 0.010*\"入れる\" + 0.009*\"分かる\" + 0.009*\"しれる\" + 0.009*\"簡単\" + 0.009*\"調べる\"\n",
      "topic diff=0.027645, rho=0.146846\n",
      "PROGRESS: pass 2, at document #74000/86748\n",
      "merging changes from 2000 documents into a model of 86748 documents\n",
      "topic #35 (0.017): 0.019*\"関数\" + 0.016*\"frac\" + 0.015*\"計算\" + 0.014*\"ベクトル\" + 0.014*\"theta\" + 0.013*\"boldsymbol\" + 0.013*\"確率\" + 0.012*\"行列\" + 0.012*\"分布\" + 0.011*\"求める\"\n",
      "topic #13 (0.017): 0.125*\"クラス\" + 0.094*\"メソッド\" + 0.062*\"オブジェクト\" + 0.040*\"実装\" + 0.027*\"インスタンス\" + 0.026*\"定義\" + 0.023*\"生成\" + 0.021*\"プロパティ\" + 0.016*\"継承\" + 0.012*\"呼び出す\"\n",
      "topic #52 (0.017): 0.017*\"投稿\" + 0.015*\"Twitter\" + 0.012*\"エンジニア\" + 0.010*\"Qiita\" + 0.009*\"参加\" + 0.008*\"tweet\" + 0.008*\"いただく\" + 0.006*\"会社\" + 0.006*\"テーマ\" + 0.006*\"仕事\"\n",
      "topic #48 (0.017): 0.050*\"計算\" + 0.037*\"問題\" + 0.020*\"値\" + 0.016*\"求める\" + 0.015*\"条件\" + 0.013*\"最大\" + 0.012*\"考える\" + 0.012*\"数値\" + 0.011*\"アルゴリズム\" + 0.011*\"入力\"\n",
      "topic #56 (0.017): 0.085*\"接続\" + 0.040*\"ネットワーク\" + 0.033*\"サーバー\" + 0.030*\"ポート\" + 0.027*\"通信\" + 0.025*\"IPアドレス\" + 0.025*\"IP\" + 0.021*\"サーバ\" + 0.016*\"番号\" + 0.015*\"ホスト\"\n",
      "topic diff=0.026099, rho=0.146846\n",
      "PROGRESS: pass 2, at document #76000/86748\n",
      "merging changes from 2000 documents into a model of 86748 documents\n",
      "topic #11 (0.017): 0.065*\"()\" + 0.053*\"値\" + 0.053*\"引数\" + 0.041*\"取得\" + 0.032*\"返す\" + 0.028*\"文字列\" + 0.024*\"渡す\" + 0.021*\"メソッド\" + 0.018*\"TRUE\" + 0.014*\"False\"\n",
      "topic #21 (0.017): 0.114*\"モジュール\" + 0.047*\"typescript\" + 0.027*\"import\" + 0.026*\"TS\" + 0.023*\"module\" + 0.023*\"V2\" + 0.018*\"モード\" + 0.017*\"webpack\" + 0.017*\"ピン\" + 0.014*\"gpio\"\n",
      "topic #50 (0.017): 0.125*\"コマンド\" + 0.038*\"起動\" + 0.023*\"オプション\" + 0.022*\"ディレクトリ\" + 0.016*\"Linux\" + 0.015*\"ターミナル\" + 0.011*\"Ubuntu\" + 0.009*\"スクリプト\" + 0.009*\"OS\" + 0.009*\"入力\"\n",
      "topic #5 (0.017): 0.048*\"情報\" + 0.048*\"ユーザー\" + 0.046*\"登録\" + 0.031*\"ユーザ\" + 0.030*\"アカウント\" + 0.027*\"認証\" + 0.025*\"取得\" + 0.025*\"id\" + 0.020*\"管理\" + 0.017*\"ログイン\"\n",
      "topic #8 (0.017): 0.056*\"ページ\" + 0.051*\"検索\" + 0.043*\"サイト\" + 0.035*\"URL\" + 0.028*\"メール\" + 0.024*\"リンク\" + 0.020*\"取得\" + 0.018*\"chrome\" + 0.015*\"情報\" + 0.013*\"Android標準ブラウザ\"\n",
      "topic diff=0.023154, rho=0.146846\n",
      "PROGRESS: pass 2, at document #78000/86748\n",
      "merging changes from 2000 documents into a model of 86748 documents\n",
      "topic #51 (0.017): 0.085*\"プロセス\" + 0.059*\"flutter\" + 0.044*\"a.\" + 0.034*\"widget\" + 0.024*\"AND\" + 0.017*\"dart\" + 0.015*\"automation\" + 0.014*\"セクション\" + 0.013*\"process\" + 0.011*\"parameter\"\n",
      "topic #47 (0.017): 0.030*\"要素\" + 0.026*\"セル\" + 0.024*\"色\" + 0.022*\"エクセル\" + 0.021*\"テキスト\" + 0.020*\"幅\" + 0.019*\"text\" + 0.015*\"サイズ\" + 0.014*\"PX\" + 0.014*\"プロパティ\"\n",
      "topic #57 (0.017): 0.053*\"メッセージ\" + 0.039*\"タスク\" + 0.038*\"通知\" + 0.027*\"テンプレート\" + 0.022*\"lambda\" + 0.021*\"SLACK\" + 0.021*\"送信\" + 0.020*\"ジョブ\" + 0.017*\"トリガー\" + 0.015*\"イベント\"\n",
      "topic #7 (0.017): 0.098*\"docker\" + 0.076*\"コンテナ\" + 0.040*\"イメージ\" + 0.031*\"起動\" + 0.020*\"compose\" + 0.019*\"nginx\" + 0.019*\"構築\" + 0.013*\"dockerfile\" + 0.012*\"ホスト\" + 0.011*\"Apache\"\n",
      "topic #55 (0.017): 0.083*\"配列\" + 0.079*\"要素\" + 0.055*\"リスト\" + 0.021*\"string\" + 0.020*\"list\" + 0.019*\"key\" + 0.018*\"int\" + 0.016*\"array\" + 0.016*\"インデックス\" + 0.015*\"ループ\"\n",
      "topic diff=0.024137, rho=0.146846\n",
      "-11.589 per-word bound, 3080.3 perplexity estimate based on a held-out corpus of 2000 documents with 338404 words\n",
      "PROGRESS: pass 2, at document #80000/86748\n",
      "merging changes from 2000 documents into a model of 86748 documents\n",
      "topic #34 (0.017): 0.046*\"AZURE\" + 0.041*\"SSH\" + 0.039*\"サーバ\" + 0.038*\"ドメイン\" + 0.019*\"認証\" + 0.018*\"証明書\" + 0.017*\"DNS\" + 0.016*\"SSL\" + 0.015*\"接続\" + 0.014*\"アクセス\"\n",
      "topic #59 (0.017): 0.035*\"THREAD\" + 0.032*\"例外\" + 0.032*\"非同期\" + 0.024*\"ストリーム\" + 0.023*\"同期\" + 0.022*\"Kotlin\" + 0.018*\"コールバック\" + 0.018*\"並列\" + 0.016*\"終了\" + 0.014*\"terraform\"\n",
      "topic #9 (0.017): 0.090*\"画像\" + 0.018*\"座標\" + 0.014*\"描画\" + 0.013*\"カメラ\" + 0.010*\"回転\" + 0.010*\"色\" + 0.009*\"位置\" + 0.008*\"検出\" + 0.008*\"方向\" + 0.008*\"部分\"\n",
      "topic #5 (0.017): 0.048*\"情報\" + 0.048*\"ユーザー\" + 0.046*\"登録\" + 0.032*\"ユーザ\" + 0.030*\"アカウント\" + 0.028*\"認証\" + 0.025*\"id\" + 0.025*\"取得\" + 0.020*\"管理\" + 0.018*\"ログイン\"\n",
      "topic #12 (0.017): 0.231*\"python\" + 0.046*\"py\" + 0.031*\"Django\" + 0.030*\"ライブラリ\" + 0.021*\"pip\" + 0.016*\"仮想\" + 0.015*\"anaconda\" + 0.011*\"OpenCV\" + 0.011*\"txt\" + 0.010*\"pyenv\"\n"
     ]
    },
    {
     "name": "stderr",
     "output_type": "stream",
     "text": [
      "topic diff=0.023203, rho=0.146846\n",
      "PROGRESS: pass 2, at document #82000/86748\n",
      "merging changes from 2000 documents into a model of 86748 documents\n",
      "topic #6 (0.017): 0.294*\"テスト\" + 0.041*\"test\" + 0.025*\"CI\" + 0.021*\"検証\" + 0.020*\"自動\" + 0.014*\"チェック\" + 0.014*\"対象\" + 0.011*\"モック\" + 0.010*\"失敗\" + 0.010*\"RSpec\"\n",
      "topic #2 (0.017): 0.034*\"デバイス\" + 0.030*\"接続\" + 0.024*\"USB\" + 0.021*\"Raspberry Pi\" + 0.019*\"Arduino\" + 0.017*\"PC\" + 0.015*\"LED\" + 0.015*\"制御\" + 0.014*\"電源\" + 0.013*\"動作\"\n",
      "topic #39 (0.017): 0.215*\"プログラム\" + 0.046*\"いいね\" + 0.045*\"解析\" + 0.029*\"文書\" + 0.026*\"ver\" + 0.015*\"資料\" + 0.014*\"document\" + 0.013*\"記録\" + 0.013*\"よい\" + 0.010*\"形態素解析\"\n",
      "topic #0 (0.017): 0.090*\"java\" + 0.055*\"コンパイル\" + 0.049*\"C++\" + 0.047*\".S\" + 0.031*\"main\" + 0.030*\"spring\" + 0.023*\"アノテーション\" + 0.022*\"XML\" + 0.021*\"コンパイラ\" + 0.018*\"BOOT\"\n",
      "topic #52 (0.017): 0.017*\"投稿\" + 0.014*\"Twitter\" + 0.013*\"エンジニア\" + 0.011*\"Qiita\" + 0.009*\"参加\" + 0.008*\"いただく\" + 0.006*\"tweet\" + 0.006*\"会社\" + 0.006*\"テーマ\" + 0.006*\"公開\"\n",
      "topic diff=0.023718, rho=0.146846\n",
      "PROGRESS: pass 2, at document #84000/86748\n",
      "merging changes from 2000 documents into a model of 86748 documents\n",
      "topic #36 (0.017): 0.092*\"グループ\" + 0.048*\"ルール\" + 0.038*\"ルート\" + 0.030*\"VPC\" + 0.028*\"タイプ\" + 0.023*\"サブネット\" + 0.021*\"ターゲット\" + 0.019*\"セキュリティ\" + 0.018*\"Cluster\" + 0.018*\"プライベート\"\n",
      "topic #28 (0.017): 0.085*\"AWS\" + 0.046*\"サービス\" + 0.040*\"インスタンス\" + 0.027*\"EC2\" + 0.027*\"リソース\" + 0.024*\"S3\" + 0.019*\"Amazon\" + 0.018*\"iam\" + 0.015*\"ポリシー\" + 0.013*\"service\"\n",
      "topic #57 (0.017): 0.050*\"メッセージ\" + 0.044*\"タスク\" + 0.039*\"通知\" + 0.027*\"テンプレート\" + 0.024*\"SLACK\" + 0.023*\"lambda\" + 0.020*\"送信\" + 0.019*\"ジョブ\" + 0.015*\"トリガー\" + 0.014*\"イベント\"\n",
      "topic #46 (0.017): 0.018*\"システム\" + 0.010*\"設計\" + 0.009*\"機能\" + 0.009*\"可能\" + 0.008*\"考える\" + 0.007*\"持つ\" + 0.006*\"複数\" + 0.006*\"実現\" + 0.006*\"高い\" + 0.006*\"アプリケーション\"\n",
      "topic #32 (0.017): 0.069*\"選択\" + 0.057*\"クリック\" + 0.056*\"画面\" + 0.043*\"入力\" + 0.041*\"ボタン\" + 0.031*\"押す\" + 0.024*\"開く\" + 0.018*\"キー\" + 0.014*\"メニュー\" + 0.012*\"タブ\"\n",
      "topic diff=0.023746, rho=0.146846\n",
      "PROGRESS: pass 2, at document #86000/86748\n",
      "merging changes from 2000 documents into a model of 86748 documents\n",
      "topic #51 (0.017): 0.094*\"プロセス\" + 0.056*\"flutter\" + 0.044*\"a.\" + 0.032*\"widget\" + 0.020*\"AND\" + 0.017*\"dart\" + 0.016*\"H.\" + 0.013*\"セクション\" + 0.012*\"process\" + 0.010*\"automation\"\n",
      "topic #29 (0.017): 0.023*\"状態\" + 0.015*\"計算\" + 0.014*\"ロボット\" + 0.011*\"シミュレーション\" + 0.011*\"図\" + 0.011*\"測定\" + 0.010*\"制御\" + 0.009*\"ゲート\" + 0.008*\"呼ぶ\" + 0.008*\"ステップ\"\n",
      "topic #17 (0.017): 0.094*\"ノード\" + 0.028*\"node\" + 0.019*\"ブロック\" + 0.017*\"トランザクション\" + 0.013*\"Blockchain\" + 0.013*\"red\" + 0.012*\"S2\" + 0.011*\"E2\" + 0.011*\"SE\" + 0.010*\"E1\"\n",
      "topic #28 (0.017): 0.082*\"AWS\" + 0.047*\"サービス\" + 0.039*\"インスタンス\" + 0.028*\"リソース\" + 0.027*\"EC2\" + 0.023*\"S3\" + 0.019*\"Amazon\" + 0.017*\"iam\" + 0.017*\"ポリシー\" + 0.013*\"service\"\n",
      "topic #3 (0.017): 0.088*\"変換\" + 0.044*\"形式\" + 0.034*\"JSON\" + 0.025*\"日付\" + 0.021*\"フォーマット\" + 0.018*\"読み込む\" + 0.016*\"時刻\" + 0.016*\"保存\" + 0.014*\"圧縮\" + 0.013*\"文字コード\"\n",
      "topic diff=0.023147, rho=0.146846\n",
      "-11.460 per-word bound, 2817.6 perplexity estimate based on a held-out corpus of 748 documents with 129006 words\n",
      "PROGRESS: pass 2, at document #86748/86748\n",
      "merging changes from 748 documents into a model of 86748 documents\n",
      "topic #9 (0.017): 0.095*\"画像\" + 0.017*\"座標\" + 0.013*\"カメラ\" + 0.013*\"描画\" + 0.011*\"色\" + 0.009*\"回転\" + 0.009*\"位置\" + 0.008*\"部分\" + 0.008*\"検出\" + 0.007*\"方向\"\n",
      "topic #26 (0.017): 0.070*\"Kubernetes\" + 0.040*\"クラスタ\" + 0.038*\"pod\" + 0.028*\"修正\" + 0.020*\"context\" + 0.020*\"YAML\" + 0.018*\"cluster\" + 0.017*\"削除\" + 0.014*\"node\" + 0.014*\"FLAG\"\n",
      "topic #42 (0.017): 0.070*\"テーブル\" + 0.043*\"データベース\" + 0.040*\"db\" + 0.035*\"SQL\" + 0.033*\"データ\" + 0.025*\"id\" + 0.023*\"レコード\" + 0.022*\"カラム\" + 0.020*\"削除\" + 0.018*\"クエリ\"\n",
      "topic #31 (0.017): 0.023*\"勉強\" + 0.023*\"理解\" + 0.019*\"読む\" + 0.017*\"学習\" + 0.017*\"学ぶ\" + 0.016*\"プログラミング\" + 0.016*\"知識\" + 0.013*\"問題\" + 0.013*\"内容\" + 0.012*\"本\"\n",
      "topic #30 (0.017): 0.025*\"機能\" + 0.024*\"対応\" + 0.019*\"サポート\" + 0.017*\"提供\" + 0.015*\"可能\" + 0.015*\"サービス\" + 0.011*\"リリース\" + 0.011*\"無料\" + 0.011*\"CROWD\" + 0.010*\"ライセンス\"\n",
      "topic diff=0.033921, rho=0.146846\n"
     ]
    }
   ],
   "source": [
    "logging.basicConfig(format='%(message)s', level=logging.INFO)\n",
    "\n",
    "num_topics = 60\n",
    "\n",
    "lda = models.ldamodel.LdaModel(corpus=corpus, id2word=d, num_topics=num_topics, passes=3)"
   ]
  },
  {
   "cell_type": "markdown",
   "metadata": {},
   "source": [
    "# 保存"
   ]
  },
  {
   "cell_type": "code",
   "execution_count": 13,
   "metadata": {
    "scrolled": true
   },
   "outputs": [
    {
     "name": "stderr",
     "output_type": "stream",
     "text": [
      "storing corpus in Matrix Market format to cop.mm\n",
      "saving sparse matrix to cop.mm\n",
      "PROGRESS: saving document #0\n",
      "PROGRESS: saving document #1000\n",
      "PROGRESS: saving document #2000\n",
      "PROGRESS: saving document #3000\n",
      "PROGRESS: saving document #4000\n",
      "PROGRESS: saving document #5000\n",
      "PROGRESS: saving document #6000\n",
      "PROGRESS: saving document #7000\n",
      "PROGRESS: saving document #8000\n",
      "PROGRESS: saving document #9000\n",
      "PROGRESS: saving document #10000\n",
      "PROGRESS: saving document #11000\n",
      "PROGRESS: saving document #12000\n",
      "PROGRESS: saving document #13000\n",
      "PROGRESS: saving document #14000\n",
      "PROGRESS: saving document #15000\n",
      "PROGRESS: saving document #16000\n",
      "PROGRESS: saving document #17000\n",
      "PROGRESS: saving document #18000\n",
      "PROGRESS: saving document #19000\n",
      "PROGRESS: saving document #20000\n",
      "PROGRESS: saving document #21000\n",
      "PROGRESS: saving document #22000\n",
      "PROGRESS: saving document #23000\n",
      "PROGRESS: saving document #24000\n",
      "PROGRESS: saving document #25000\n",
      "PROGRESS: saving document #26000\n",
      "PROGRESS: saving document #27000\n",
      "PROGRESS: saving document #28000\n",
      "PROGRESS: saving document #29000\n",
      "PROGRESS: saving document #30000\n",
      "PROGRESS: saving document #31000\n",
      "PROGRESS: saving document #32000\n",
      "PROGRESS: saving document #33000\n",
      "PROGRESS: saving document #34000\n",
      "PROGRESS: saving document #35000\n",
      "PROGRESS: saving document #36000\n",
      "PROGRESS: saving document #37000\n",
      "PROGRESS: saving document #38000\n",
      "PROGRESS: saving document #39000\n",
      "PROGRESS: saving document #40000\n",
      "PROGRESS: saving document #41000\n",
      "PROGRESS: saving document #42000\n",
      "PROGRESS: saving document #43000\n",
      "PROGRESS: saving document #44000\n",
      "PROGRESS: saving document #45000\n",
      "PROGRESS: saving document #46000\n",
      "PROGRESS: saving document #47000\n",
      "PROGRESS: saving document #48000\n",
      "PROGRESS: saving document #49000\n",
      "PROGRESS: saving document #50000\n",
      "PROGRESS: saving document #51000\n",
      "PROGRESS: saving document #52000\n",
      "PROGRESS: saving document #53000\n",
      "PROGRESS: saving document #54000\n",
      "PROGRESS: saving document #55000\n",
      "PROGRESS: saving document #56000\n",
      "PROGRESS: saving document #57000\n",
      "PROGRESS: saving document #58000\n",
      "PROGRESS: saving document #59000\n",
      "PROGRESS: saving document #60000\n",
      "PROGRESS: saving document #61000\n",
      "PROGRESS: saving document #62000\n",
      "PROGRESS: saving document #63000\n",
      "PROGRESS: saving document #64000\n",
      "PROGRESS: saving document #65000\n",
      "PROGRESS: saving document #66000\n",
      "PROGRESS: saving document #67000\n",
      "PROGRESS: saving document #68000\n",
      "PROGRESS: saving document #69000\n",
      "PROGRESS: saving document #70000\n",
      "PROGRESS: saving document #71000\n",
      "PROGRESS: saving document #72000\n",
      "PROGRESS: saving document #73000\n",
      "PROGRESS: saving document #74000\n",
      "PROGRESS: saving document #75000\n",
      "PROGRESS: saving document #76000\n",
      "PROGRESS: saving document #77000\n",
      "PROGRESS: saving document #78000\n",
      "PROGRESS: saving document #79000\n",
      "PROGRESS: saving document #80000\n",
      "PROGRESS: saving document #81000\n",
      "PROGRESS: saving document #82000\n",
      "PROGRESS: saving document #83000\n",
      "PROGRESS: saving document #84000\n",
      "PROGRESS: saving document #85000\n",
      "PROGRESS: saving document #86000\n",
      "saved 86748x52106 matrix, density=0.165% (7475857/4520091288)\n",
      "saving MmCorpus index to cop.mm.index\n",
      "saving LdaState object under lda.model.state, separately None\n",
      "saved lda.model.state\n",
      "saving LdaModel object under lda.model, separately ['expElogbeta', 'sstats']\n",
      "storing np array 'expElogbeta' to lda.model.expElogbeta.npy\n",
      "not storing attribute dispatcher\n",
      "not storing attribute state\n",
      "not storing attribute id2word\n",
      "saved lda.model\n"
     ]
    },
    {
     "ename": "NameError",
     "evalue": "name 'doc_index' is not defined",
     "output_type": "error",
     "traceback": [
      "\u001b[0;31m---------------------------------------------------------------------------\u001b[0m",
      "\u001b[0;31mNameError\u001b[0m                                 Traceback (most recent call last)",
      "\u001b[0;32m<ipython-input-13-06d2d9113083>\u001b[0m in \u001b[0;36m<module>\u001b[0;34m\u001b[0m\n\u001b[1;32m      2\u001b[0m \u001b[0mcorpora\u001b[0m\u001b[0;34m.\u001b[0m\u001b[0mMmCorpus\u001b[0m\u001b[0;34m.\u001b[0m\u001b[0mserialize\u001b[0m\u001b[0;34m(\u001b[0m\u001b[0;34m\"cop.mm\"\u001b[0m\u001b[0;34m,\u001b[0m \u001b[0mcorpus\u001b[0m\u001b[0;34m)\u001b[0m\u001b[0;34m\u001b[0m\u001b[0;34m\u001b[0m\u001b[0m\n\u001b[1;32m      3\u001b[0m \u001b[0mlda\u001b[0m\u001b[0;34m.\u001b[0m\u001b[0msave\u001b[0m\u001b[0;34m(\u001b[0m\u001b[0;34m\"lda.model\"\u001b[0m\u001b[0;34m)\u001b[0m\u001b[0;34m\u001b[0m\u001b[0;34m\u001b[0m\u001b[0m\n\u001b[0;32m----> 4\u001b[0;31m \u001b[0mdoc_index\u001b[0m\u001b[0;34m.\u001b[0m\u001b[0msave\u001b[0m\u001b[0;34m(\u001b[0m\u001b[0;34m\"sim\"\u001b[0m\u001b[0;34m)\u001b[0m\u001b[0;34m\u001b[0m\u001b[0;34m\u001b[0m\u001b[0m\n\u001b[0m",
      "\u001b[0;31mNameError\u001b[0m: name 'doc_index' is not defined"
     ]
    }
   ],
   "source": [
    "# d.save_as_text(\"dict.txt\")\n",
    "corpora.MmCorpus.serialize(\"cop.mm\", corpus)\n",
    "lda.save(\"lda.model\")\n",
    "doc_index.save(\"sim\")"
   ]
  },
  {
   "cell_type": "markdown",
   "metadata": {
    "colab": {},
    "colab_type": "code",
    "id": "-bwTywl14TsD"
   },
   "source": [
    "# 可視化"
   ]
  },
  {
   "cell_type": "code",
   "execution_count": 46,
   "metadata": {},
   "outputs": [],
   "source": [
    "all_topics = lda.get_document_topics(corpus, minimum_probability=0)"
   ]
  },
  {
   "cell_type": "code",
   "execution_count": 47,
   "metadata": {},
   "outputs": [],
   "source": [
    "with open('doc_lda_tensor.tsv','w') as w:\n",
    "    for doc_topics in all_topics:\n",
    "        for topics in doc_topics:\n",
    "            w.write(str(topics[1])+ \"\\t\")\n",
    "        w.write(\"\\n\")"
   ]
  },
  {
   "cell_type": "code",
   "execution_count": 55,
   "metadata": {
    "scrolled": true
   },
   "outputs": [
    {
     "data": {
      "text/plain": [
       "86748"
      ]
     },
     "execution_count": 55,
     "metadata": {},
     "output_type": "execute_result"
    }
   ],
   "source": [
    "tags_str = df_nonna[\"tags_str\"]\n",
    "\n",
    "lang_s = []\n",
    "for lang in tags_str:\n",
    "    lang_s.append(lang.split(\",\")[0])\n",
    "len(lang_s)"
   ]
  },
  {
   "cell_type": "code",
   "execution_count": 56,
   "metadata": {},
   "outputs": [
    {
     "data": {
      "text/plain": [
       "86748"
      ]
     },
     "execution_count": 56,
     "metadata": {},
     "output_type": "execute_result"
    }
   ],
   "source": [
    "from sklearn.preprocessing import LabelEncoder\n",
    "le = LabelEncoder()\n",
    "codelang = le.fit_transform(lang_s)\n",
    "len(codelang)"
   ]
  },
  {
   "cell_type": "code",
   "execution_count": 57,
   "metadata": {},
   "outputs": [],
   "source": [
    "with open('doc_lda_metadata.tsv','w',encoding='utf-8-sig') as w:\n",
    "    w.write('Titles\\tGenres\\n')    \n",
    "    for i in range(len(lang_s)):       \n",
    "        w.write(\"%s\\t%s\\n\" % (lang_s[i],codelang[i]))"
   ]
  },
  {
   "cell_type": "markdown",
   "metadata": {},
   "source": [
    "***"
   ]
  },
  {
   "cell_type": "markdown",
   "metadata": {},
   "source": [
    "***"
   ]
  },
  {
   "cell_type": "markdown",
   "metadata": {
    "colab_type": "text",
    "id": "uBixgclc4Tr8"
   },
   "source": [
    "# 類似度"
   ]
  },
  {
   "cell_type": "code",
   "execution_count": 14,
   "metadata": {
    "colab": {},
    "colab_type": "code",
    "id": "lUHWCoQG4Tr9",
    "outputId": "9b722715-c920-4f41-ec0d-d2490eb79e7a"
   },
   "outputs": [
    {
     "name": "stderr",
     "output_type": "stream",
     "text": [
      "scanning corpus to determine the number of features (consider setting `num_features` explicitly)\n",
      "creating matrix with 86748 documents and 60 features\n"
     ]
    }
   ],
   "source": [
    "doc_index = similarities.docsim.MatrixSimilarity(lda[corpus])"
   ]
  },
  {
   "cell_type": "code",
   "execution_count": 15,
   "metadata": {
    "colab": {},
    "colab_type": "code",
    "id": "w3PqlgG74Tr_",
    "outputId": "0534bb3f-d141-4127-cbec-04a8a92dd4c2",
    "scrolled": true
   },
   "outputs": [
    {
     "data": {
      "text/plain": [
       "[(50, 1.0),\n",
       " (38333, 0.9704865),\n",
       " (35456, 0.96361566),\n",
       " (31202, 0.95932865),\n",
       " (72475, 0.95014954),\n",
       " (22243, 0.9490837),\n",
       " (3135, 0.94855785),\n",
       " (14657, 0.94699913),\n",
       " (51797, 0.94637305),\n",
       " (29125, 0.9440673)]"
      ]
     },
     "execution_count": 15,
     "metadata": {},
     "output_type": "execute_result"
    }
   ],
   "source": [
    "n =50\n",
    "target_article = corpus[n]\n",
    "vec_lda = lda[target_article]\n",
    "\n",
    "s = doc_index.__getitem__(vec_lda)\n",
    "s = sorted(enumerate(s), key=lambda t: t[1], reverse=True) \n",
    "s[:10]"
   ]
  },
  {
   "cell_type": "code",
   "execution_count": 16,
   "metadata": {
    "colab": {},
    "colab_type": "code",
    "id": "OoLJhMUm4TsB",
    "outputId": "088511de-3548-4e97-e284-843ca2b56dd6"
   },
   "outputs": [
    {
     "data": {
      "text/html": [
       "<div>\n",
       "<style scoped>\n",
       "    .dataframe tbody tr th:only-of-type {\n",
       "        vertical-align: middle;\n",
       "    }\n",
       "\n",
       "    .dataframe tbody tr th {\n",
       "        vertical-align: top;\n",
       "    }\n",
       "\n",
       "    .dataframe thead th {\n",
       "        text-align: right;\n",
       "    }\n",
       "</style>\n",
       "<table border=\"1\" class=\"dataframe\">\n",
       "  <thead>\n",
       "    <tr style=\"text-align: right;\">\n",
       "      <th></th>\n",
       "      <th>記事id</th>\n",
       "      <th>タイトル</th>\n",
       "      <th>記事タグ</th>\n",
       "      <th>URL</th>\n",
       "    </tr>\n",
       "  </thead>\n",
       "  <tbody>\n",
       "    <tr>\n",
       "      <th>0</th>\n",
       "      <td>4a2413fc2c07aca5d193</td>\n",
       "      <td>GCPで作成したWordpressのSSL対応</td>\n",
       "      <td>WordPress,SSL,GoogleCloudPlatform</td>\n",
       "      <td>https://qiita.com/Yuya_Nishizaki/items/4a2413f...</td>\n",
       "    </tr>\n",
       "    <tr>\n",
       "      <th>1</th>\n",
       "      <td>b7d045710d8319f1a3e4</td>\n",
       "      <td>Sourcetree に SSHで接続する mac</td>\n",
       "      <td>Mac,SSH,SourceTree</td>\n",
       "      <td>https://qiita.com/YoshiISHIGAMI/items/b7d04571...</td>\n",
       "    </tr>\n",
       "    <tr>\n",
       "      <th>2</th>\n",
       "      <td>bc736cc36dc696fbdacc</td>\n",
       "      <td>AWS Route53 DNS設定メモ</td>\n",
       "      <td>AWS,dns,route53</td>\n",
       "      <td>https://qiita.com/mossann/items/bc736cc36dc696...</td>\n",
       "    </tr>\n",
       "    <tr>\n",
       "      <th>3</th>\n",
       "      <td>e057e09325148f455637</td>\n",
       "      <td>BitbucketでSSH接続</td>\n",
       "      <td>SSH,Bitbucket,初心者</td>\n",
       "      <td>https://qiita.com/shimishimizu/items/e057e0932...</td>\n",
       "    </tr>\n",
       "    <tr>\n",
       "      <th>4</th>\n",
       "      <td>07a7c323a044757c9256</td>\n",
       "      <td>サーバーのメール関連設定・Spam対応</td>\n",
       "      <td>dns,postfix,DKIM,spam,メール</td>\n",
       "      <td>https://qiita.com/kerry/items/07a7c323a044757c...</td>\n",
       "    </tr>\n",
       "    <tr>\n",
       "      <th>5</th>\n",
       "      <td>2b502dfb3c624b6ac557</td>\n",
       "      <td>AzureVMにSSH 公開キーを使って接続</td>\n",
       "      <td>SSH,Azure</td>\n",
       "      <td>https://qiita.com/quzq/items/2b502dfb3c624b6ac557</td>\n",
       "    </tr>\n",
       "    <tr>\n",
       "      <th>6</th>\n",
       "      <td>e654953c89aab6f847a4</td>\n",
       "      <td>sshの秘密鍵パスフレーズの確認と変更</td>\n",
       "      <td>SSH,ssh設定,パスフレーズ</td>\n",
       "      <td>https://qiita.com/shukan0728/items/e654953c89a...</td>\n",
       "    </tr>\n",
       "    <tr>\n",
       "      <th>7</th>\n",
       "      <td>7acce5b4398af7f4c358</td>\n",
       "      <td>お名前ドットコムで取得したドメインをNetlifyで使う</td>\n",
       "      <td>dns,お名前.com,Netlify</td>\n",
       "      <td>https://qiita.com/hitochan777/items/7acce5b439...</td>\n",
       "    </tr>\n",
       "    <tr>\n",
       "      <th>8</th>\n",
       "      <td>4f3c2ee6569489ae5fe2</td>\n",
       "      <td>MacOS X クライアントから SSH サーバーへパスワードなしで接続する方法</td>\n",
       "      <td>MacOSX,SSH,ssh-copy-id,ssh-keygen</td>\n",
       "      <td>https://qiita.com/ousaan/items/4f3c2ee6569489a...</td>\n",
       "    </tr>\n",
       "    <tr>\n",
       "      <th>9</th>\n",
       "      <td>769f0def7010c95a2fe4</td>\n",
       "      <td>さくらサーバーでお名前のドメインの使い方（自分用）</td>\n",
       "      <td>さくらサーバーでお名前のドメインの使い方</td>\n",
       "      <td>https://qiita.com/mi_tiwtter/items/769f0def701...</td>\n",
       "    </tr>\n",
       "  </tbody>\n",
       "</table>\n",
       "</div>"
      ],
      "text/plain": [
       "                   記事id                                      タイトル  \\\n",
       "0  4a2413fc2c07aca5d193                   GCPで作成したWordpressのSSL対応   \n",
       "1  b7d045710d8319f1a3e4                 Sourcetree に SSHで接続する mac   \n",
       "2  bc736cc36dc696fbdacc                       AWS Route53 DNS設定メモ   \n",
       "3  e057e09325148f455637                           BitbucketでSSH接続   \n",
       "4  07a7c323a044757c9256                       サーバーのメール関連設定・Spam対応   \n",
       "5  2b502dfb3c624b6ac557                    AzureVMにSSH 公開キーを使って接続   \n",
       "6  e654953c89aab6f847a4                       sshの秘密鍵パスフレーズの確認と変更   \n",
       "7  7acce5b4398af7f4c358              お名前ドットコムで取得したドメインをNetlifyで使う   \n",
       "8  4f3c2ee6569489ae5fe2  MacOS X クライアントから SSH サーバーへパスワードなしで接続する方法   \n",
       "9  769f0def7010c95a2fe4                 さくらサーバーでお名前のドメインの使い方（自分用）   \n",
       "\n",
       "                                記事タグ  \\\n",
       "0  WordPress,SSL,GoogleCloudPlatform   \n",
       "1                 Mac,SSH,SourceTree   \n",
       "2                    AWS,dns,route53   \n",
       "3                  SSH,Bitbucket,初心者   \n",
       "4          dns,postfix,DKIM,spam,メール   \n",
       "5                          SSH,Azure   \n",
       "6                   SSH,ssh設定,パスフレーズ   \n",
       "7                dns,お名前.com,Netlify   \n",
       "8  MacOSX,SSH,ssh-copy-id,ssh-keygen   \n",
       "9               さくらサーバーでお名前のドメインの使い方   \n",
       "\n",
       "                                                 URL  \n",
       "0  https://qiita.com/Yuya_Nishizaki/items/4a2413f...  \n",
       "1  https://qiita.com/YoshiISHIGAMI/items/b7d04571...  \n",
       "2  https://qiita.com/mossann/items/bc736cc36dc696...  \n",
       "3  https://qiita.com/shimishimizu/items/e057e0932...  \n",
       "4  https://qiita.com/kerry/items/07a7c323a044757c...  \n",
       "5  https://qiita.com/quzq/items/2b502dfb3c624b6ac557  \n",
       "6  https://qiita.com/shukan0728/items/e654953c89a...  \n",
       "7  https://qiita.com/hitochan777/items/7acce5b439...  \n",
       "8  https://qiita.com/ousaan/items/4f3c2ee6569489a...  \n",
       "9  https://qiita.com/mi_tiwtter/items/769f0def701...  "
      ]
     },
     "execution_count": 16,
     "metadata": {},
     "output_type": "execute_result"
    }
   ],
   "source": [
    "import pandas as pd\n",
    "df_nonna = pd.read_csv('2019_content.csv')\n",
    "\n",
    "columns=['記事id','タイトル','記事タグ','URL']\n",
    "recom = pd.DataFrame(columns=columns)\n",
    "\n",
    "for doc_id, sim in s[:10]:\n",
    "    se = pd.Series([df_nonna[\"article_id\"][doc_id],df_nonna['title'][doc_id],df_nonna['tags_str'][doc_id],df_nonna['url'][doc_id]],index=columns)\n",
    "    recom = recom.append(se, ignore_index=True)\n",
    "    \n",
    "recom"
   ]
  },
  {
   "cell_type": "code",
   "execution_count": null,
   "metadata": {},
   "outputs": [],
   "source": []
  },
  {
   "cell_type": "code",
   "execution_count": null,
   "metadata": {},
   "outputs": [],
   "source": []
  }
 ],
 "metadata": {
  "accelerator": "GPU",
  "colab": {
   "collapsed_sections": [
    "hRPLfVU84Trv",
    "uBixgclc4Tr8"
   ],
   "name": "LDA###.ipynb",
   "provenance": []
  },
  "kernelspec": {
   "display_name": "Python 3",
   "language": "python",
   "name": "python3"
  },
  "language_info": {
   "codemirror_mode": {
    "name": "ipython",
    "version": 3
   },
   "file_extension": ".py",
   "mimetype": "text/x-python",
   "name": "python",
   "nbconvert_exporter": "python",
   "pygments_lexer": "ipython3",
   "version": "3.7.3"
  },
  "toc": {
   "base_numbering": 1,
   "nav_menu": {},
   "number_sections": true,
   "sideBar": true,
   "skip_h1_title": false,
   "title_cell": "Table of Contents",
   "title_sidebar": "Contents",
   "toc_cell": false,
   "toc_position": {},
   "toc_section_display": true,
   "toc_window_display": false
  }
 },
 "nbformat": 4,
 "nbformat_minor": 1
}
